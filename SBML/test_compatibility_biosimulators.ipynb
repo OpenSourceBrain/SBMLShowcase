{
 "cells": [
  {
   "cell_type": "markdown",
   "metadata": {},
   "source": [
    "# Biosimulators compatibility"
   ]
  },
  {
   "cell_type": "markdown",
   "metadata": {},
   "source": [
    "## set-up"
   ]
  },
  {
   "cell_type": "code",
   "execution_count": 1,
   "metadata": {},
   "outputs": [
    {
     "name": "stdout",
     "output_type": "stream",
     "text": [
      "c:\\Users\\prins\\GitHub\\SBMLShowcase\\SBML\n"
     ]
    }
   ],
   "source": [
    "#!/usr/bin/env python\n",
    "\n",
    "'''\n",
    "use pymetadata module to create a minimal valid combine archive\n",
    "using LEMS_NML2_Ex9_FN.sbml and LEMS_NML2_Ex9_FN.sedml\n",
    "'''\n",
    "\n",
    "import sys\n",
    "sys.path.append(\"..\")\n",
    "import utils\n",
    "import os\n",
    "import pandas as pd\n",
    "from IPython.display import display_markdown\n",
    "import shutil\n",
    "import yaml\n",
    "\n",
    "\n",
    "cwd = os.getcwd()\n",
    "print(cwd)\n",
    "\n",
    "d1_plots_remote_dir = 'd1_plots'+ '_remote'\n",
    "d1_plots_local_dir = 'd1_plots' + '_local'\n",
    "\n",
    "sbml_filepath = 'LEMS_NML2_Ex9_FN.sbml'\n",
    "sedml_filepath = 'LEMS_NML2_Ex9_FN_missing_xmlns.sedml' #xmlns:sbml missing\n",
    "\n",
    "engines = utils.engines\n",
    "types_dict = utils.types_dict\n"
   ]
  },
  {
   "cell_type": "code",
   "execution_count": 16,
   "metadata": {},
   "outputs": [
    {
     "name": "stderr",
     "output_type": "stream",
     "text": [
      "pyNeuroML >>> DEBUG - Sim dict is: {'name': 'test', 'simulator': 'amici', 'simulatorVersion': '0.18.1', 'cpus': 1, 'memory': 8, 'maxTime': 20, 'envVars': [], 'purpose': 'academic', 'email': ''}\n",
      "pyNeuroML >>> DEBUG - simulation_run_request is {\"name\":\"test\",\"simulator\":\"amici\",\"simulatorVersion\":\"0.18.1\",\"maxTime\":20,\"cpus\":1,\"memory\":8,\"purpose\":\"academic\",\"email\":\"\",\"envVars\":[]}\n",
      "pyNeuroML >>> DEBUG - data is:\n",
      "{'file': ('LEMS_NML2_Ex9_FN_missing_xmlns.omex', <_io.BufferedReader name='LEMS_NML2_Ex9_FN_missing_xmlns.omex'>), 'simulationRun': (None, '{\"name\":\"test\",\"simulator\":\"amici\",\"simulatorVersion\":\"0.18.1\",\"maxTime\":20,\"cpus\":1,\"memory\":8,\"purpose\":\"academic\",\"email\":\"\",\"envVars\":[]}')}\n",
      "pyNeuroML >>> INFO - multipart encoded data is <MultipartEncoder: {'file': ('LEMS_NML2_Ex9_FN_missing_xmlns.omex', <_io.BufferedReader name='LEMS_NML2_Ex9_FN_missing_xmlns.omex'>), 'simulationRun': (None, '{\"name\":\"test\",\"simulator\":\"amici\",\"simulatorVersion\":\"0.18.1\",\"maxTime\":20,\"cpus\":1,\"memory\":8,\"purpose\":\"academic\",\"email\":\"\",\"envVars\":[]}')}>\n",
      "pyNeuroML >>> INFO - with content type: multipart/form-data; boundary=6a24ae0ee444424c8ff04d62278713c0\n",
      "pyNeuroML >>> INFO - Submitting archive to biosimulations\n"
     ]
    },
    {
     "name": "stdout",
     "output_type": "stream",
     "text": [
      "Submitted LEMS_NML2_Ex9_FN_missing_xmlns.omex successfully with id: 66ba1f830c4ccdd4919203e7\n",
      "View: https://api.biosimulations.org/runs/66ba1f830c4ccdd4919203e7\n",
      "Downloads: https://api.biosimulations.org/results/66ba1f830c4ccdd4919203e7/download\n",
      "Logs: https://api.biosimulations.org/logs/66ba1f830c4ccdd4919203e7?includeOutput=true\n"
     ]
    },
    {
     "name": "stderr",
     "output_type": "stream",
     "text": [
      "pyNeuroML >>> DEBUG - Sim dict is: {'name': 'test', 'simulator': 'brian2', 'simulatorVersion': '2.5.0.3', 'cpus': 1, 'memory': 8, 'maxTime': 20, 'envVars': [], 'purpose': 'academic', 'email': ''}\n",
      "pyNeuroML >>> DEBUG - simulation_run_request is {\"name\":\"test\",\"simulator\":\"brian2\",\"simulatorVersion\":\"2.5.0.3\",\"maxTime\":20,\"cpus\":1,\"memory\":8,\"purpose\":\"academic\",\"email\":\"\",\"envVars\":[]}\n",
      "pyNeuroML >>> DEBUG - data is:\n",
      "{'file': ('LEMS_NML2_Ex9_FN_missing_xmlns.omex', <_io.BufferedReader name='LEMS_NML2_Ex9_FN_missing_xmlns.omex'>), 'simulationRun': (None, '{\"name\":\"test\",\"simulator\":\"brian2\",\"simulatorVersion\":\"2.5.0.3\",\"maxTime\":20,\"cpus\":1,\"memory\":8,\"purpose\":\"academic\",\"email\":\"\",\"envVars\":[]}')}\n",
      "pyNeuroML >>> INFO - multipart encoded data is <MultipartEncoder: {'file': ('LEMS_NML2_Ex9_FN_missing_xmlns.omex', <_io.BufferedReader name='LEMS_NML2_Ex9_FN_missing_xmlns.omex'>), 'simulationRun': (None, '{\"name\":\"test\",\"simulator\":\"brian2\",\"simulatorVersion\":\"2.5.0.3\",\"maxTime\":20,\"cpus\":1,\"memory\":8,\"purpose\":\"academic\",\"email\":\"\",\"envVars\":[]}')}>\n",
      "pyNeuroML >>> INFO - with content type: multipart/form-data; boundary=39f2f2d3326348979bfde3c5434dee52\n",
      "pyNeuroML >>> INFO - Submitting archive to biosimulations\n"
     ]
    },
    {
     "name": "stdout",
     "output_type": "stream",
     "text": [
      "Submitted LEMS_NML2_Ex9_FN_missing_xmlns.omex successfully with id: 66ba1f85f29e09b32cb6e3e6\n",
      "View: https://api.biosimulations.org/runs/66ba1f85f29e09b32cb6e3e6\n",
      "Downloads: https://api.biosimulations.org/results/66ba1f85f29e09b32cb6e3e6/download\n",
      "Logs: https://api.biosimulations.org/logs/66ba1f85f29e09b32cb6e3e6?includeOutput=true\n"
     ]
    },
    {
     "name": "stderr",
     "output_type": "stream",
     "text": [
      "pyNeuroML >>> DEBUG - Sim dict is: {'name': 'test', 'simulator': 'bionetgen', 'simulatorVersion': '2.8.0', 'cpus': 1, 'memory': 8, 'maxTime': 20, 'envVars': [], 'purpose': 'academic', 'email': ''}\n",
      "pyNeuroML >>> DEBUG - simulation_run_request is {\"name\":\"test\",\"simulator\":\"bionetgen\",\"simulatorVersion\":\"2.8.0\",\"maxTime\":20,\"cpus\":1,\"memory\":8,\"purpose\":\"academic\",\"email\":\"\",\"envVars\":[]}\n",
      "pyNeuroML >>> DEBUG - data is:\n",
      "{'file': ('LEMS_NML2_Ex9_FN_missing_xmlns.omex', <_io.BufferedReader name='LEMS_NML2_Ex9_FN_missing_xmlns.omex'>), 'simulationRun': (None, '{\"name\":\"test\",\"simulator\":\"bionetgen\",\"simulatorVersion\":\"2.8.0\",\"maxTime\":20,\"cpus\":1,\"memory\":8,\"purpose\":\"academic\",\"email\":\"\",\"envVars\":[]}')}\n",
      "pyNeuroML >>> INFO - multipart encoded data is <MultipartEncoder: {'file': ('LEMS_NML2_Ex9_FN_missing_xmlns.omex', <_io.BufferedReader name='LEMS_NML2_Ex9_FN_missing_xmlns.omex'>), 'simulationRun': (None, '{\"name\":\"test\",\"simulator\":\"bionetgen\",\"simulatorVersion\":\"2.8.0\",\"maxTime\":20,\"cpus\":1,\"memory\":8,\"purpose\":\"academic\",\"email\":\"\",\"envVars\":[]}')}>\n",
      "pyNeuroML >>> INFO - with content type: multipart/form-data; boundary=e7f0bb4a16734cc2b36c1298434e76fa\n",
      "pyNeuroML >>> INFO - Submitting archive to biosimulations\n"
     ]
    },
    {
     "name": "stdout",
     "output_type": "stream",
     "text": [
      "Submitted LEMS_NML2_Ex9_FN_missing_xmlns.omex successfully with id: 66ba1f870c4ccdd4919203ea\n",
      "View: https://api.biosimulations.org/runs/66ba1f870c4ccdd4919203ea\n",
      "Downloads: https://api.biosimulations.org/results/66ba1f870c4ccdd4919203ea/download\n",
      "Logs: https://api.biosimulations.org/logs/66ba1f870c4ccdd4919203ea?includeOutput=true\n"
     ]
    },
    {
     "name": "stderr",
     "output_type": "stream",
     "text": [
      "pyNeuroML >>> DEBUG - Sim dict is: {'name': 'test', 'simulator': 'boolnet', 'simulatorVersion': '2.1.5', 'cpus': 1, 'memory': 8, 'maxTime': 20, 'envVars': [], 'purpose': 'academic', 'email': ''}\n",
      "pyNeuroML >>> DEBUG - simulation_run_request is {\"name\":\"test\",\"simulator\":\"boolnet\",\"simulatorVersion\":\"2.1.5\",\"maxTime\":20,\"cpus\":1,\"memory\":8,\"purpose\":\"academic\",\"email\":\"\",\"envVars\":[]}\n",
      "pyNeuroML >>> DEBUG - data is:\n",
      "{'file': ('LEMS_NML2_Ex9_FN_missing_xmlns.omex', <_io.BufferedReader name='LEMS_NML2_Ex9_FN_missing_xmlns.omex'>), 'simulationRun': (None, '{\"name\":\"test\",\"simulator\":\"boolnet\",\"simulatorVersion\":\"2.1.5\",\"maxTime\":20,\"cpus\":1,\"memory\":8,\"purpose\":\"academic\",\"email\":\"\",\"envVars\":[]}')}\n",
      "pyNeuroML >>> INFO - multipart encoded data is <MultipartEncoder: {'file': ('LEMS_NML2_Ex9_FN_missing_xmlns.omex', <_io.BufferedReader name='LEMS_NML2_Ex9_FN_missing_xmlns.omex'>), 'simulationRun': (None, '{\"name\":\"test\",\"simulator\":\"boolnet\",\"simulatorVersion\":\"2.1.5\",\"maxTime\":20,\"cpus\":1,\"memory\":8,\"purpose\":\"academic\",\"email\":\"\",\"envVars\":[]}')}>\n",
      "pyNeuroML >>> INFO - with content type: multipart/form-data; boundary=122fb47d395048eca2a0817141ec00a3\n",
      "pyNeuroML >>> INFO - Submitting archive to biosimulations\n"
     ]
    },
    {
     "name": "stdout",
     "output_type": "stream",
     "text": [
      "Submitted LEMS_NML2_Ex9_FN_missing_xmlns.omex successfully with id: 66ba1f88a641708179acfc8e\n",
      "View: https://api.biosimulations.org/runs/66ba1f88a641708179acfc8e\n",
      "Downloads: https://api.biosimulations.org/results/66ba1f88a641708179acfc8e/download\n",
      "Logs: https://api.biosimulations.org/logs/66ba1f88a641708179acfc8e?includeOutput=true\n"
     ]
    },
    {
     "name": "stderr",
     "output_type": "stream",
     "text": [
      "pyNeuroML >>> DEBUG - Sim dict is: {'name': 'test', 'simulator': 'cbmpy', 'simulatorVersion': '0.7.25', 'cpus': 1, 'memory': 8, 'maxTime': 20, 'envVars': [], 'purpose': 'academic', 'email': ''}\n",
      "pyNeuroML >>> DEBUG - simulation_run_request is {\"name\":\"test\",\"simulator\":\"cbmpy\",\"simulatorVersion\":\"0.7.25\",\"maxTime\":20,\"cpus\":1,\"memory\":8,\"purpose\":\"academic\",\"email\":\"\",\"envVars\":[]}\n",
      "pyNeuroML >>> DEBUG - data is:\n",
      "{'file': ('LEMS_NML2_Ex9_FN_missing_xmlns.omex', <_io.BufferedReader name='LEMS_NML2_Ex9_FN_missing_xmlns.omex'>), 'simulationRun': (None, '{\"name\":\"test\",\"simulator\":\"cbmpy\",\"simulatorVersion\":\"0.7.25\",\"maxTime\":20,\"cpus\":1,\"memory\":8,\"purpose\":\"academic\",\"email\":\"\",\"envVars\":[]}')}\n",
      "pyNeuroML >>> INFO - multipart encoded data is <MultipartEncoder: {'file': ('LEMS_NML2_Ex9_FN_missing_xmlns.omex', <_io.BufferedReader name='LEMS_NML2_Ex9_FN_missing_xmlns.omex'>), 'simulationRun': (None, '{\"name\":\"test\",\"simulator\":\"cbmpy\",\"simulatorVersion\":\"0.7.25\",\"maxTime\":20,\"cpus\":1,\"memory\":8,\"purpose\":\"academic\",\"email\":\"\",\"envVars\":[]}')}>\n",
      "pyNeuroML >>> INFO - with content type: multipart/form-data; boundary=3aafbb161ddf477e8a2301911cd284f4\n",
      "pyNeuroML >>> INFO - Submitting archive to biosimulations\n"
     ]
    },
    {
     "name": "stdout",
     "output_type": "stream",
     "text": [
      "Submitted LEMS_NML2_Ex9_FN_missing_xmlns.omex successfully with id: 66ba1f8af29e09b32cb6e3e9\n",
      "View: https://api.biosimulations.org/runs/66ba1f8af29e09b32cb6e3e9\n",
      "Downloads: https://api.biosimulations.org/results/66ba1f8af29e09b32cb6e3e9/download\n",
      "Logs: https://api.biosimulations.org/logs/66ba1f8af29e09b32cb6e3e9?includeOutput=true\n"
     ]
    },
    {
     "name": "stderr",
     "output_type": "stream",
     "text": [
      "pyNeuroML >>> DEBUG - Sim dict is: {'name': 'test', 'simulator': 'cobrapy', 'simulatorVersion': '0.24.0', 'cpus': 1, 'memory': 8, 'maxTime': 20, 'envVars': [], 'purpose': 'academic', 'email': ''}\n",
      "pyNeuroML >>> DEBUG - simulation_run_request is {\"name\":\"test\",\"simulator\":\"cobrapy\",\"simulatorVersion\":\"0.24.0\",\"maxTime\":20,\"cpus\":1,\"memory\":8,\"purpose\":\"academic\",\"email\":\"\",\"envVars\":[]}\n",
      "pyNeuroML >>> DEBUG - data is:\n",
      "{'file': ('LEMS_NML2_Ex9_FN_missing_xmlns.omex', <_io.BufferedReader name='LEMS_NML2_Ex9_FN_missing_xmlns.omex'>), 'simulationRun': (None, '{\"name\":\"test\",\"simulator\":\"cobrapy\",\"simulatorVersion\":\"0.24.0\",\"maxTime\":20,\"cpus\":1,\"memory\":8,\"purpose\":\"academic\",\"email\":\"\",\"envVars\":[]}')}\n",
      "pyNeuroML >>> INFO - multipart encoded data is <MultipartEncoder: {'file': ('LEMS_NML2_Ex9_FN_missing_xmlns.omex', <_io.BufferedReader name='LEMS_NML2_Ex9_FN_missing_xmlns.omex'>), 'simulationRun': (None, '{\"name\":\"test\",\"simulator\":\"cobrapy\",\"simulatorVersion\":\"0.24.0\",\"maxTime\":20,\"cpus\":1,\"memory\":8,\"purpose\":\"academic\",\"email\":\"\",\"envVars\":[]}')}>\n",
      "pyNeuroML >>> INFO - with content type: multipart/form-data; boundary=f102a0a33b3242768c9962be48ea98ca\n",
      "pyNeuroML >>> INFO - Submitting archive to biosimulations\n"
     ]
    },
    {
     "name": "stdout",
     "output_type": "stream",
     "text": [
      "Submitted LEMS_NML2_Ex9_FN_missing_xmlns.omex successfully with id: 66ba1f8c0c4ccdd4919203f0\n",
      "View: https://api.biosimulations.org/runs/66ba1f8c0c4ccdd4919203f0\n",
      "Downloads: https://api.biosimulations.org/results/66ba1f8c0c4ccdd4919203f0/download\n",
      "Logs: https://api.biosimulations.org/logs/66ba1f8c0c4ccdd4919203f0?includeOutput=true\n"
     ]
    },
    {
     "name": "stderr",
     "output_type": "stream",
     "text": [
      "pyNeuroML >>> DEBUG - Sim dict is: {'name': 'test', 'simulator': 'copasi', 'simulatorVersion': '4.42.284', 'cpus': 1, 'memory': 8, 'maxTime': 20, 'envVars': [], 'purpose': 'academic', 'email': ''}\n",
      "pyNeuroML >>> DEBUG - simulation_run_request is {\"name\":\"test\",\"simulator\":\"copasi\",\"simulatorVersion\":\"4.42.284\",\"maxTime\":20,\"cpus\":1,\"memory\":8,\"purpose\":\"academic\",\"email\":\"\",\"envVars\":[]}\n",
      "pyNeuroML >>> DEBUG - data is:\n",
      "{'file': ('LEMS_NML2_Ex9_FN_missing_xmlns.omex', <_io.BufferedReader name='LEMS_NML2_Ex9_FN_missing_xmlns.omex'>), 'simulationRun': (None, '{\"name\":\"test\",\"simulator\":\"copasi\",\"simulatorVersion\":\"4.42.284\",\"maxTime\":20,\"cpus\":1,\"memory\":8,\"purpose\":\"academic\",\"email\":\"\",\"envVars\":[]}')}\n",
      "pyNeuroML >>> INFO - multipart encoded data is <MultipartEncoder: {'file': ('LEMS_NML2_Ex9_FN_missing_xmlns.omex', <_io.BufferedReader name='LEMS_NML2_Ex9_FN_missing_xmlns.omex'>), 'simulationRun': (None, '{\"name\":\"test\",\"simulator\":\"copasi\",\"simulatorVersion\":\"4.42.284\",\"maxTime\":20,\"cpus\":1,\"memory\":8,\"purpose\":\"academic\",\"email\":\"\",\"envVars\":[]}')}>\n",
      "pyNeuroML >>> INFO - with content type: multipart/form-data; boundary=786c1d04b44546b8925d8ee2e7b49f73\n",
      "pyNeuroML >>> INFO - Submitting archive to biosimulations\n"
     ]
    },
    {
     "name": "stdout",
     "output_type": "stream",
     "text": [
      "Submitted LEMS_NML2_Ex9_FN_missing_xmlns.omex successfully with id: 66ba1f8ef29e09b32cb6e3ef\n",
      "View: https://api.biosimulations.org/runs/66ba1f8ef29e09b32cb6e3ef\n",
      "Downloads: https://api.biosimulations.org/results/66ba1f8ef29e09b32cb6e3ef/download\n",
      "Logs: https://api.biosimulations.org/logs/66ba1f8ef29e09b32cb6e3ef?includeOutput=true\n"
     ]
    },
    {
     "name": "stderr",
     "output_type": "stream",
     "text": [
      "pyNeuroML >>> DEBUG - Sim dict is: {'name': 'test', 'simulator': 'gillespy2', 'simulatorVersion': '1.6.6', 'cpus': 1, 'memory': 8, 'maxTime': 20, 'envVars': [], 'purpose': 'academic', 'email': ''}\n",
      "pyNeuroML >>> DEBUG - simulation_run_request is {\"name\":\"test\",\"simulator\":\"gillespy2\",\"simulatorVersion\":\"1.6.6\",\"maxTime\":20,\"cpus\":1,\"memory\":8,\"purpose\":\"academic\",\"email\":\"\",\"envVars\":[]}\n",
      "pyNeuroML >>> DEBUG - data is:\n",
      "{'file': ('LEMS_NML2_Ex9_FN_missing_xmlns.omex', <_io.BufferedReader name='LEMS_NML2_Ex9_FN_missing_xmlns.omex'>), 'simulationRun': (None, '{\"name\":\"test\",\"simulator\":\"gillespy2\",\"simulatorVersion\":\"1.6.6\",\"maxTime\":20,\"cpus\":1,\"memory\":8,\"purpose\":\"academic\",\"email\":\"\",\"envVars\":[]}')}\n",
      "pyNeuroML >>> INFO - multipart encoded data is <MultipartEncoder: {'file': ('LEMS_NML2_Ex9_FN_missing_xmlns.omex', <_io.BufferedReader name='LEMS_NML2_Ex9_FN_missing_xmlns.omex'>), 'simulationRun': (None, '{\"name\":\"test\",\"simulator\":\"gillespy2\",\"simulatorVersion\":\"1.6.6\",\"maxTime\":20,\"cpus\":1,\"memory\":8,\"purpose\":\"academic\",\"email\":\"\",\"envVars\":[]}')}>\n",
      "pyNeuroML >>> INFO - with content type: multipart/form-data; boundary=6d2e0f00f44c4acbb95f27d14413bdc8\n",
      "pyNeuroML >>> INFO - Submitting archive to biosimulations\n"
     ]
    },
    {
     "name": "stdout",
     "output_type": "stream",
     "text": [
      "Submitted LEMS_NML2_Ex9_FN_missing_xmlns.omex successfully with id: 66ba1f90f29e09b32cb6e3f4\n",
      "View: https://api.biosimulations.org/runs/66ba1f90f29e09b32cb6e3f4\n",
      "Downloads: https://api.biosimulations.org/results/66ba1f90f29e09b32cb6e3f4/download\n",
      "Logs: https://api.biosimulations.org/logs/66ba1f90f29e09b32cb6e3f4?includeOutput=true\n"
     ]
    },
    {
     "name": "stderr",
     "output_type": "stream",
     "text": [
      "pyNeuroML >>> DEBUG - Sim dict is: {'name': 'test', 'simulator': 'ginsim', 'simulatorVersion': '3.0.0b', 'cpus': 1, 'memory': 8, 'maxTime': 20, 'envVars': [], 'purpose': 'academic', 'email': ''}\n",
      "pyNeuroML >>> DEBUG - simulation_run_request is {\"name\":\"test\",\"simulator\":\"ginsim\",\"simulatorVersion\":\"3.0.0b\",\"maxTime\":20,\"cpus\":1,\"memory\":8,\"purpose\":\"academic\",\"email\":\"\",\"envVars\":[]}\n",
      "pyNeuroML >>> DEBUG - data is:\n",
      "{'file': ('LEMS_NML2_Ex9_FN_missing_xmlns.omex', <_io.BufferedReader name='LEMS_NML2_Ex9_FN_missing_xmlns.omex'>), 'simulationRun': (None, '{\"name\":\"test\",\"simulator\":\"ginsim\",\"simulatorVersion\":\"3.0.0b\",\"maxTime\":20,\"cpus\":1,\"memory\":8,\"purpose\":\"academic\",\"email\":\"\",\"envVars\":[]}')}\n",
      "pyNeuroML >>> INFO - multipart encoded data is <MultipartEncoder: {'file': ('LEMS_NML2_Ex9_FN_missing_xmlns.omex', <_io.BufferedReader name='LEMS_NML2_Ex9_FN_missing_xmlns.omex'>), 'simulationRun': (None, '{\"name\":\"test\",\"simulator\":\"ginsim\",\"simulatorVersion\":\"3.0.0b\",\"maxTime\":20,\"cpus\":1,\"memory\":8,\"purpose\":\"academic\",\"email\":\"\",\"envVars\":[]}')}>\n",
      "pyNeuroML >>> INFO - with content type: multipart/form-data; boundary=155122bca1084350a45640fa0b3193cf\n",
      "pyNeuroML >>> INFO - Submitting archive to biosimulations\n"
     ]
    },
    {
     "name": "stdout",
     "output_type": "stream",
     "text": [
      "Submitted LEMS_NML2_Ex9_FN_missing_xmlns.omex successfully with id: 66ba1f92f29e09b32cb6e3f9\n",
      "View: https://api.biosimulations.org/runs/66ba1f92f29e09b32cb6e3f9\n",
      "Downloads: https://api.biosimulations.org/results/66ba1f92f29e09b32cb6e3f9/download\n",
      "Logs: https://api.biosimulations.org/logs/66ba1f92f29e09b32cb6e3f9?includeOutput=true\n"
     ]
    },
    {
     "name": "stderr",
     "output_type": "stream",
     "text": [
      "pyNeuroML >>> DEBUG - Sim dict is: {'name': 'test', 'simulator': 'libsbmlsim', 'simulatorVersion': '1.4.0', 'cpus': 1, 'memory': 8, 'maxTime': 20, 'envVars': [], 'purpose': 'academic', 'email': ''}\n",
      "pyNeuroML >>> DEBUG - simulation_run_request is {\"name\":\"test\",\"simulator\":\"libsbmlsim\",\"simulatorVersion\":\"1.4.0\",\"maxTime\":20,\"cpus\":1,\"memory\":8,\"purpose\":\"academic\",\"email\":\"\",\"envVars\":[]}\n",
      "pyNeuroML >>> DEBUG - data is:\n",
      "{'file': ('LEMS_NML2_Ex9_FN_missing_xmlns.omex', <_io.BufferedReader name='LEMS_NML2_Ex9_FN_missing_xmlns.omex'>), 'simulationRun': (None, '{\"name\":\"test\",\"simulator\":\"libsbmlsim\",\"simulatorVersion\":\"1.4.0\",\"maxTime\":20,\"cpus\":1,\"memory\":8,\"purpose\":\"academic\",\"email\":\"\",\"envVars\":[]}')}\n",
      "pyNeuroML >>> INFO - multipart encoded data is <MultipartEncoder: {'file': ('LEMS_NML2_Ex9_FN_missing_xmlns.omex', <_io.BufferedReader name='LEMS_NML2_Ex9_FN_missing_xmlns.omex'>), 'simulationRun': (None, '{\"name\":\"test\",\"simulator\":\"libsbmlsim\",\"simulatorVersion\":\"1.4.0\",\"maxTime\":20,\"cpus\":1,\"memory\":8,\"purpose\":\"academic\",\"email\":\"\",\"envVars\":[]}')}>\n",
      "pyNeuroML >>> INFO - with content type: multipart/form-data; boundary=79d21d2ea26e4757b7e665f21f1ca8ae\n",
      "pyNeuroML >>> INFO - Submitting archive to biosimulations\n"
     ]
    },
    {
     "name": "stdout",
     "output_type": "stream",
     "text": [
      "Submitted LEMS_NML2_Ex9_FN_missing_xmlns.omex successfully with id: 66ba1f94a641708179acfc9c\n",
      "View: https://api.biosimulations.org/runs/66ba1f94a641708179acfc9c\n",
      "Downloads: https://api.biosimulations.org/results/66ba1f94a641708179acfc9c/download\n",
      "Logs: https://api.biosimulations.org/logs/66ba1f94a641708179acfc9c?includeOutput=true\n"
     ]
    },
    {
     "name": "stderr",
     "output_type": "stream",
     "text": [
      "pyNeuroML >>> DEBUG - Sim dict is: {'name': 'test', 'simulator': 'masspy', 'simulatorVersion': '0.1.6', 'cpus': 1, 'memory': 8, 'maxTime': 20, 'envVars': [], 'purpose': 'academic', 'email': ''}\n",
      "pyNeuroML >>> DEBUG - simulation_run_request is {\"name\":\"test\",\"simulator\":\"masspy\",\"simulatorVersion\":\"0.1.6\",\"maxTime\":20,\"cpus\":1,\"memory\":8,\"purpose\":\"academic\",\"email\":\"\",\"envVars\":[]}\n",
      "pyNeuroML >>> DEBUG - data is:\n",
      "{'file': ('LEMS_NML2_Ex9_FN_missing_xmlns.omex', <_io.BufferedReader name='LEMS_NML2_Ex9_FN_missing_xmlns.omex'>), 'simulationRun': (None, '{\"name\":\"test\",\"simulator\":\"masspy\",\"simulatorVersion\":\"0.1.6\",\"maxTime\":20,\"cpus\":1,\"memory\":8,\"purpose\":\"academic\",\"email\":\"\",\"envVars\":[]}')}\n",
      "pyNeuroML >>> INFO - multipart encoded data is <MultipartEncoder: {'file': ('LEMS_NML2_Ex9_FN_missing_xmlns.omex', <_io.BufferedReader name='LEMS_NML2_Ex9_FN_missing_xmlns.omex'>), 'simulationRun': (None, '{\"name\":\"test\",\"simulator\":\"masspy\",\"simulatorVersion\":\"0.1.6\",\"maxTime\":20,\"cpus\":1,\"memory\":8,\"purpose\":\"academic\",\"email\":\"\",\"envVars\":[]}')}>\n",
      "pyNeuroML >>> INFO - with content type: multipart/form-data; boundary=05e8fe072cd2403a8cdf454adf0d4d30\n",
      "pyNeuroML >>> INFO - Submitting archive to biosimulations\n"
     ]
    },
    {
     "name": "stdout",
     "output_type": "stream",
     "text": [
      "Submitted LEMS_NML2_Ex9_FN_missing_xmlns.omex successfully with id: 66ba1f96f29e09b32cb6e401\n",
      "View: https://api.biosimulations.org/runs/66ba1f96f29e09b32cb6e401\n",
      "Downloads: https://api.biosimulations.org/results/66ba1f96f29e09b32cb6e401/download\n",
      "Logs: https://api.biosimulations.org/logs/66ba1f96f29e09b32cb6e401?includeOutput=true\n"
     ]
    },
    {
     "name": "stderr",
     "output_type": "stream",
     "text": [
      "pyNeuroML >>> DEBUG - Sim dict is: {'name': 'test', 'simulator': 'netpyne', 'simulatorVersion': '1.0.0.2', 'cpus': 1, 'memory': 8, 'maxTime': 20, 'envVars': [], 'purpose': 'academic', 'email': ''}\n",
      "pyNeuroML >>> DEBUG - simulation_run_request is {\"name\":\"test\",\"simulator\":\"netpyne\",\"simulatorVersion\":\"1.0.0.2\",\"maxTime\":20,\"cpus\":1,\"memory\":8,\"purpose\":\"academic\",\"email\":\"\",\"envVars\":[]}\n",
      "pyNeuroML >>> DEBUG - data is:\n",
      "{'file': ('LEMS_NML2_Ex9_FN_missing_xmlns.omex', <_io.BufferedReader name='LEMS_NML2_Ex9_FN_missing_xmlns.omex'>), 'simulationRun': (None, '{\"name\":\"test\",\"simulator\":\"netpyne\",\"simulatorVersion\":\"1.0.0.2\",\"maxTime\":20,\"cpus\":1,\"memory\":8,\"purpose\":\"academic\",\"email\":\"\",\"envVars\":[]}')}\n",
      "pyNeuroML >>> INFO - multipart encoded data is <MultipartEncoder: {'file': ('LEMS_NML2_Ex9_FN_missing_xmlns.omex', <_io.BufferedReader name='LEMS_NML2_Ex9_FN_missing_xmlns.omex'>), 'simulationRun': (None, '{\"name\":\"test\",\"simulator\":\"netpyne\",\"simulatorVersion\":\"1.0.0.2\",\"maxTime\":20,\"cpus\":1,\"memory\":8,\"purpose\":\"academic\",\"email\":\"\",\"envVars\":[]}')}>\n",
      "pyNeuroML >>> INFO - with content type: multipart/form-data; boundary=37a1033536674c2dbc3ef1a250724728\n",
      "pyNeuroML >>> INFO - Submitting archive to biosimulations\n"
     ]
    },
    {
     "name": "stdout",
     "output_type": "stream",
     "text": [
      "Submitted LEMS_NML2_Ex9_FN_missing_xmlns.omex successfully with id: 66ba1f980c4ccdd491920407\n",
      "View: https://api.biosimulations.org/runs/66ba1f980c4ccdd491920407\n",
      "Downloads: https://api.biosimulations.org/results/66ba1f980c4ccdd491920407/download\n",
      "Logs: https://api.biosimulations.org/logs/66ba1f980c4ccdd491920407?includeOutput=true\n"
     ]
    },
    {
     "name": "stderr",
     "output_type": "stream",
     "text": [
      "pyNeuroML >>> DEBUG - Sim dict is: {'name': 'test', 'simulator': 'neuron', 'simulatorVersion': '8.0.2', 'cpus': 1, 'memory': 8, 'maxTime': 20, 'envVars': [], 'purpose': 'academic', 'email': ''}\n",
      "pyNeuroML >>> DEBUG - simulation_run_request is {\"name\":\"test\",\"simulator\":\"neuron\",\"simulatorVersion\":\"8.0.2\",\"maxTime\":20,\"cpus\":1,\"memory\":8,\"purpose\":\"academic\",\"email\":\"\",\"envVars\":[]}\n",
      "pyNeuroML >>> DEBUG - data is:\n",
      "{'file': ('LEMS_NML2_Ex9_FN_missing_xmlns.omex', <_io.BufferedReader name='LEMS_NML2_Ex9_FN_missing_xmlns.omex'>), 'simulationRun': (None, '{\"name\":\"test\",\"simulator\":\"neuron\",\"simulatorVersion\":\"8.0.2\",\"maxTime\":20,\"cpus\":1,\"memory\":8,\"purpose\":\"academic\",\"email\":\"\",\"envVars\":[]}')}\n",
      "pyNeuroML >>> INFO - multipart encoded data is <MultipartEncoder: {'file': ('LEMS_NML2_Ex9_FN_missing_xmlns.omex', <_io.BufferedReader name='LEMS_NML2_Ex9_FN_missing_xmlns.omex'>), 'simulationRun': (None, '{\"name\":\"test\",\"simulator\":\"neuron\",\"simulatorVersion\":\"8.0.2\",\"maxTime\":20,\"cpus\":1,\"memory\":8,\"purpose\":\"academic\",\"email\":\"\",\"envVars\":[]}')}>\n",
      "pyNeuroML >>> INFO - with content type: multipart/form-data; boundary=948b1d17fd964943983a456b847b9611\n",
      "pyNeuroML >>> INFO - Submitting archive to biosimulations\n"
     ]
    },
    {
     "name": "stdout",
     "output_type": "stream",
     "text": [
      "Submitted LEMS_NML2_Ex9_FN_missing_xmlns.omex successfully with id: 66ba1f9aa641708179acfcb6\n",
      "View: https://api.biosimulations.org/runs/66ba1f9aa641708179acfcb6\n",
      "Downloads: https://api.biosimulations.org/results/66ba1f9aa641708179acfcb6/download\n",
      "Logs: https://api.biosimulations.org/logs/66ba1f9aa641708179acfcb6?includeOutput=true\n"
     ]
    },
    {
     "name": "stderr",
     "output_type": "stream",
     "text": [
      "pyNeuroML >>> DEBUG - Sim dict is: {'name': 'test', 'simulator': 'opencor', 'simulatorVersion': '2021-10-05', 'cpus': 1, 'memory': 8, 'maxTime': 20, 'envVars': [], 'purpose': 'academic', 'email': ''}\n",
      "pyNeuroML >>> DEBUG - simulation_run_request is {\"name\":\"test\",\"simulator\":\"opencor\",\"simulatorVersion\":\"2021-10-05\",\"maxTime\":20,\"cpus\":1,\"memory\":8,\"purpose\":\"academic\",\"email\":\"\",\"envVars\":[]}\n",
      "pyNeuroML >>> DEBUG - data is:\n",
      "{'file': ('LEMS_NML2_Ex9_FN_missing_xmlns.omex', <_io.BufferedReader name='LEMS_NML2_Ex9_FN_missing_xmlns.omex'>), 'simulationRun': (None, '{\"name\":\"test\",\"simulator\":\"opencor\",\"simulatorVersion\":\"2021-10-05\",\"maxTime\":20,\"cpus\":1,\"memory\":8,\"purpose\":\"academic\",\"email\":\"\",\"envVars\":[]}')}\n",
      "pyNeuroML >>> INFO - multipart encoded data is <MultipartEncoder: {'file': ('LEMS_NML2_Ex9_FN_missing_xmlns.omex', <_io.BufferedReader name='LEMS_NML2_Ex9_FN_missing_xmlns.omex'>), 'simulationRun': (None, '{\"name\":\"test\",\"simulator\":\"opencor\",\"simulatorVersion\":\"2021-10-05\",\"maxTime\":20,\"cpus\":1,\"memory\":8,\"purpose\":\"academic\",\"email\":\"\",\"envVars\":[]}')}>\n",
      "pyNeuroML >>> INFO - with content type: multipart/form-data; boundary=d5e5d42c0d9c4f958b4a568e71fc7227\n",
      "pyNeuroML >>> INFO - Submitting archive to biosimulations\n"
     ]
    },
    {
     "name": "stdout",
     "output_type": "stream",
     "text": [
      "Submitted LEMS_NML2_Ex9_FN_missing_xmlns.omex successfully with id: 66ba1f9cf29e09b32cb6e426\n",
      "View: https://api.biosimulations.org/runs/66ba1f9cf29e09b32cb6e426\n",
      "Downloads: https://api.biosimulations.org/results/66ba1f9cf29e09b32cb6e426/download\n",
      "Logs: https://api.biosimulations.org/logs/66ba1f9cf29e09b32cb6e426?includeOutput=true\n"
     ]
    },
    {
     "name": "stderr",
     "output_type": "stream",
     "text": [
      "pyNeuroML >>> DEBUG - Sim dict is: {'name': 'test', 'simulator': 'pyneuroml', 'simulatorVersion': '0.5.20', 'cpus': 1, 'memory': 8, 'maxTime': 20, 'envVars': [], 'purpose': 'academic', 'email': ''}\n",
      "pyNeuroML >>> DEBUG - simulation_run_request is {\"name\":\"test\",\"simulator\":\"pyneuroml\",\"simulatorVersion\":\"0.5.20\",\"maxTime\":20,\"cpus\":1,\"memory\":8,\"purpose\":\"academic\",\"email\":\"\",\"envVars\":[]}\n",
      "pyNeuroML >>> DEBUG - data is:\n",
      "{'file': ('LEMS_NML2_Ex9_FN_missing_xmlns.omex', <_io.BufferedReader name='LEMS_NML2_Ex9_FN_missing_xmlns.omex'>), 'simulationRun': (None, '{\"name\":\"test\",\"simulator\":\"pyneuroml\",\"simulatorVersion\":\"0.5.20\",\"maxTime\":20,\"cpus\":1,\"memory\":8,\"purpose\":\"academic\",\"email\":\"\",\"envVars\":[]}')}\n",
      "pyNeuroML >>> INFO - multipart encoded data is <MultipartEncoder: {'file': ('LEMS_NML2_Ex9_FN_missing_xmlns.omex', <_io.BufferedReader name='LEMS_NML2_Ex9_FN_missing_xmlns.omex'>), 'simulationRun': (None, '{\"name\":\"test\",\"simulator\":\"pyneuroml\",\"simulatorVersion\":\"0.5.20\",\"maxTime\":20,\"cpus\":1,\"memory\":8,\"purpose\":\"academic\",\"email\":\"\",\"envVars\":[]}')}>\n",
      "pyNeuroML >>> INFO - with content type: multipart/form-data; boundary=5f82c6a945f3472cbdde1c27ca8ae0eb\n",
      "pyNeuroML >>> INFO - Submitting archive to biosimulations\n"
     ]
    },
    {
     "name": "stdout",
     "output_type": "stream",
     "text": [
      "Submitted LEMS_NML2_Ex9_FN_missing_xmlns.omex successfully with id: 66ba1f9ef29e09b32cb6e432\n",
      "View: https://api.biosimulations.org/runs/66ba1f9ef29e09b32cb6e432\n",
      "Downloads: https://api.biosimulations.org/results/66ba1f9ef29e09b32cb6e432/download\n",
      "Logs: https://api.biosimulations.org/logs/66ba1f9ef29e09b32cb6e432?includeOutput=true\n"
     ]
    },
    {
     "name": "stderr",
     "output_type": "stream",
     "text": [
      "pyNeuroML >>> DEBUG - Sim dict is: {'name': 'test', 'simulator': 'pysces', 'simulatorVersion': '1.2.1', 'cpus': 1, 'memory': 8, 'maxTime': 20, 'envVars': [], 'purpose': 'academic', 'email': ''}\n",
      "pyNeuroML >>> DEBUG - simulation_run_request is {\"name\":\"test\",\"simulator\":\"pysces\",\"simulatorVersion\":\"1.2.1\",\"maxTime\":20,\"cpus\":1,\"memory\":8,\"purpose\":\"academic\",\"email\":\"\",\"envVars\":[]}\n",
      "pyNeuroML >>> DEBUG - data is:\n",
      "{'file': ('LEMS_NML2_Ex9_FN_missing_xmlns.omex', <_io.BufferedReader name='LEMS_NML2_Ex9_FN_missing_xmlns.omex'>), 'simulationRun': (None, '{\"name\":\"test\",\"simulator\":\"pysces\",\"simulatorVersion\":\"1.2.1\",\"maxTime\":20,\"cpus\":1,\"memory\":8,\"purpose\":\"academic\",\"email\":\"\",\"envVars\":[]}')}\n",
      "pyNeuroML >>> INFO - multipart encoded data is <MultipartEncoder: {'file': ('LEMS_NML2_Ex9_FN_missing_xmlns.omex', <_io.BufferedReader name='LEMS_NML2_Ex9_FN_missing_xmlns.omex'>), 'simulationRun': (None, '{\"name\":\"test\",\"simulator\":\"pysces\",\"simulatorVersion\":\"1.2.1\",\"maxTime\":20,\"cpus\":1,\"memory\":8,\"purpose\":\"academic\",\"email\":\"\",\"envVars\":[]}')}>\n",
      "pyNeuroML >>> INFO - with content type: multipart/form-data; boundary=cf52c47341294a89b525b5da176a9c6b\n",
      "pyNeuroML >>> INFO - Submitting archive to biosimulations\n"
     ]
    },
    {
     "name": "stdout",
     "output_type": "stream",
     "text": [
      "Submitted LEMS_NML2_Ex9_FN_missing_xmlns.omex successfully with id: 66ba1f9f0c4ccdd491920434\n",
      "View: https://api.biosimulations.org/runs/66ba1f9f0c4ccdd491920434\n",
      "Downloads: https://api.biosimulations.org/results/66ba1f9f0c4ccdd491920434/download\n",
      "Logs: https://api.biosimulations.org/logs/66ba1f9f0c4ccdd491920434?includeOutput=true\n"
     ]
    },
    {
     "name": "stderr",
     "output_type": "stream",
     "text": [
      "pyNeuroML >>> DEBUG - Sim dict is: {'name': 'test', 'simulator': 'rbapy', 'simulatorVersion': '1.0.2', 'cpus': 1, 'memory': 8, 'maxTime': 20, 'envVars': [], 'purpose': 'academic', 'email': ''}\n",
      "pyNeuroML >>> DEBUG - simulation_run_request is {\"name\":\"test\",\"simulator\":\"rbapy\",\"simulatorVersion\":\"1.0.2\",\"maxTime\":20,\"cpus\":1,\"memory\":8,\"purpose\":\"academic\",\"email\":\"\",\"envVars\":[]}\n",
      "pyNeuroML >>> DEBUG - data is:\n",
      "{'file': ('LEMS_NML2_Ex9_FN_missing_xmlns.omex', <_io.BufferedReader name='LEMS_NML2_Ex9_FN_missing_xmlns.omex'>), 'simulationRun': (None, '{\"name\":\"test\",\"simulator\":\"rbapy\",\"simulatorVersion\":\"1.0.2\",\"maxTime\":20,\"cpus\":1,\"memory\":8,\"purpose\":\"academic\",\"email\":\"\",\"envVars\":[]}')}\n",
      "pyNeuroML >>> INFO - multipart encoded data is <MultipartEncoder: {'file': ('LEMS_NML2_Ex9_FN_missing_xmlns.omex', <_io.BufferedReader name='LEMS_NML2_Ex9_FN_missing_xmlns.omex'>), 'simulationRun': (None, '{\"name\":\"test\",\"simulator\":\"rbapy\",\"simulatorVersion\":\"1.0.2\",\"maxTime\":20,\"cpus\":1,\"memory\":8,\"purpose\":\"academic\",\"email\":\"\",\"envVars\":[]}')}>\n",
      "pyNeuroML >>> INFO - with content type: multipart/form-data; boundary=0f306f40d80d4a8886a4cda37daba825\n",
      "pyNeuroML >>> INFO - Submitting archive to biosimulations\n"
     ]
    },
    {
     "name": "stdout",
     "output_type": "stream",
     "text": [
      "Submitted LEMS_NML2_Ex9_FN_missing_xmlns.omex successfully with id: 66ba1fa10c4ccdd491920438\n",
      "View: https://api.biosimulations.org/runs/66ba1fa10c4ccdd491920438\n",
      "Downloads: https://api.biosimulations.org/results/66ba1fa10c4ccdd491920438/download\n",
      "Logs: https://api.biosimulations.org/logs/66ba1fa10c4ccdd491920438?includeOutput=true\n"
     ]
    },
    {
     "name": "stderr",
     "output_type": "stream",
     "text": [
      "pyNeuroML >>> DEBUG - Sim dict is: {'name': 'test', 'simulator': 'smoldyn', 'simulatorVersion': '2.72', 'cpus': 1, 'memory': 8, 'maxTime': 20, 'envVars': [], 'purpose': 'academic', 'email': ''}\n",
      "pyNeuroML >>> DEBUG - simulation_run_request is {\"name\":\"test\",\"simulator\":\"smoldyn\",\"simulatorVersion\":\"2.72\",\"maxTime\":20,\"cpus\":1,\"memory\":8,\"purpose\":\"academic\",\"email\":\"\",\"envVars\":[]}\n",
      "pyNeuroML >>> DEBUG - data is:\n",
      "{'file': ('LEMS_NML2_Ex9_FN_missing_xmlns.omex', <_io.BufferedReader name='LEMS_NML2_Ex9_FN_missing_xmlns.omex'>), 'simulationRun': (None, '{\"name\":\"test\",\"simulator\":\"smoldyn\",\"simulatorVersion\":\"2.72\",\"maxTime\":20,\"cpus\":1,\"memory\":8,\"purpose\":\"academic\",\"email\":\"\",\"envVars\":[]}')}\n",
      "pyNeuroML >>> INFO - multipart encoded data is <MultipartEncoder: {'file': ('LEMS_NML2_Ex9_FN_missing_xmlns.omex', <_io.BufferedReader name='LEMS_NML2_Ex9_FN_missing_xmlns.omex'>), 'simulationRun': (None, '{\"name\":\"test\",\"simulator\":\"smoldyn\",\"simulatorVersion\":\"2.72\",\"maxTime\":20,\"cpus\":1,\"memory\":8,\"purpose\":\"academic\",\"email\":\"\",\"envVars\":[]}')}>\n",
      "pyNeuroML >>> INFO - with content type: multipart/form-data; boundary=b7710c48585b4c50ace4a4b6d435a980\n",
      "pyNeuroML >>> INFO - Submitting archive to biosimulations\n"
     ]
    },
    {
     "name": "stdout",
     "output_type": "stream",
     "text": [
      "Submitted LEMS_NML2_Ex9_FN_missing_xmlns.omex successfully with id: 66ba1fa3a641708179acfce3\n",
      "View: https://api.biosimulations.org/runs/66ba1fa3a641708179acfce3\n",
      "Downloads: https://api.biosimulations.org/results/66ba1fa3a641708179acfce3/download\n",
      "Logs: https://api.biosimulations.org/logs/66ba1fa3a641708179acfce3?includeOutput=true\n"
     ]
    },
    {
     "name": "stderr",
     "output_type": "stream",
     "text": [
      "pyNeuroML >>> DEBUG - Sim dict is: {'name': 'test', 'simulator': 'tellurium', 'simulatorVersion': '2.2.8', 'cpus': 1, 'memory': 8, 'maxTime': 20, 'envVars': [], 'purpose': 'academic', 'email': ''}\n",
      "pyNeuroML >>> DEBUG - simulation_run_request is {\"name\":\"test\",\"simulator\":\"tellurium\",\"simulatorVersion\":\"2.2.8\",\"maxTime\":20,\"cpus\":1,\"memory\":8,\"purpose\":\"academic\",\"email\":\"\",\"envVars\":[]}\n",
      "pyNeuroML >>> DEBUG - data is:\n",
      "{'file': ('LEMS_NML2_Ex9_FN_missing_xmlns.omex', <_io.BufferedReader name='LEMS_NML2_Ex9_FN_missing_xmlns.omex'>), 'simulationRun': (None, '{\"name\":\"test\",\"simulator\":\"tellurium\",\"simulatorVersion\":\"2.2.8\",\"maxTime\":20,\"cpus\":1,\"memory\":8,\"purpose\":\"academic\",\"email\":\"\",\"envVars\":[]}')}\n",
      "pyNeuroML >>> INFO - multipart encoded data is <MultipartEncoder: {'file': ('LEMS_NML2_Ex9_FN_missing_xmlns.omex', <_io.BufferedReader name='LEMS_NML2_Ex9_FN_missing_xmlns.omex'>), 'simulationRun': (None, '{\"name\":\"test\",\"simulator\":\"tellurium\",\"simulatorVersion\":\"2.2.8\",\"maxTime\":20,\"cpus\":1,\"memory\":8,\"purpose\":\"academic\",\"email\":\"\",\"envVars\":[]}')}>\n",
      "pyNeuroML >>> INFO - with content type: multipart/form-data; boundary=adcbd4850763439085c40bb60b360d2e\n",
      "pyNeuroML >>> INFO - Submitting archive to biosimulations\n"
     ]
    },
    {
     "name": "stdout",
     "output_type": "stream",
     "text": [
      "Submitted LEMS_NML2_Ex9_FN_missing_xmlns.omex successfully with id: 66ba1fa5a641708179acfcea\n",
      "View: https://api.biosimulations.org/runs/66ba1fa5a641708179acfcea\n",
      "Downloads: https://api.biosimulations.org/results/66ba1fa5a641708179acfcea/download\n",
      "Logs: https://api.biosimulations.org/logs/66ba1fa5a641708179acfcea?includeOutput=true\n"
     ]
    },
    {
     "name": "stderr",
     "output_type": "stream",
     "text": [
      "pyNeuroML >>> DEBUG - Sim dict is: {'name': 'test', 'simulator': 'vcell', 'simulatorVersion': '7.5.0.99', 'cpus': 1, 'memory': 8, 'maxTime': 20, 'envVars': [], 'purpose': 'academic', 'email': ''}\n",
      "pyNeuroML >>> DEBUG - simulation_run_request is {\"name\":\"test\",\"simulator\":\"vcell\",\"simulatorVersion\":\"7.5.0.99\",\"maxTime\":20,\"cpus\":1,\"memory\":8,\"purpose\":\"academic\",\"email\":\"\",\"envVars\":[]}\n",
      "pyNeuroML >>> DEBUG - data is:\n",
      "{'file': ('LEMS_NML2_Ex9_FN_missing_xmlns.omex', <_io.BufferedReader name='LEMS_NML2_Ex9_FN_missing_xmlns.omex'>), 'simulationRun': (None, '{\"name\":\"test\",\"simulator\":\"vcell\",\"simulatorVersion\":\"7.5.0.99\",\"maxTime\":20,\"cpus\":1,\"memory\":8,\"purpose\":\"academic\",\"email\":\"\",\"envVars\":[]}')}\n",
      "pyNeuroML >>> INFO - multipart encoded data is <MultipartEncoder: {'file': ('LEMS_NML2_Ex9_FN_missing_xmlns.omex', <_io.BufferedReader name='LEMS_NML2_Ex9_FN_missing_xmlns.omex'>), 'simulationRun': (None, '{\"name\":\"test\",\"simulator\":\"vcell\",\"simulatorVersion\":\"7.5.0.99\",\"maxTime\":20,\"cpus\":1,\"memory\":8,\"purpose\":\"academic\",\"email\":\"\",\"envVars\":[]}')}>\n",
      "pyNeuroML >>> INFO - with content type: multipart/form-data; boundary=ea1629cce1a541b09538f45dd0f5a897\n",
      "pyNeuroML >>> INFO - Submitting archive to biosimulations\n"
     ]
    },
    {
     "name": "stdout",
     "output_type": "stream",
     "text": [
      "Submitted LEMS_NML2_Ex9_FN_missing_xmlns.omex successfully with id: 66ba1faaf29e09b32cb6e477\n",
      "View: https://api.biosimulations.org/runs/66ba1faaf29e09b32cb6e477\n",
      "Downloads: https://api.biosimulations.org/results/66ba1faaf29e09b32cb6e477/download\n",
      "Logs: https://api.biosimulations.org/logs/66ba1faaf29e09b32cb6e477?includeOutput=true\n"
     ]
    },
    {
     "name": "stderr",
     "output_type": "stream",
     "text": [
      "pyNeuroML >>> DEBUG - Sim dict is: {'name': 'test', 'simulator': 'xpp', 'simulatorVersion': '8.0', 'cpus': 1, 'memory': 8, 'maxTime': 20, 'envVars': [], 'purpose': 'academic', 'email': ''}\n",
      "pyNeuroML >>> DEBUG - simulation_run_request is {\"name\":\"test\",\"simulator\":\"xpp\",\"simulatorVersion\":\"8.0\",\"maxTime\":20,\"cpus\":1,\"memory\":8,\"purpose\":\"academic\",\"email\":\"\",\"envVars\":[]}\n",
      "pyNeuroML >>> DEBUG - data is:\n",
      "{'file': ('LEMS_NML2_Ex9_FN_missing_xmlns.omex', <_io.BufferedReader name='LEMS_NML2_Ex9_FN_missing_xmlns.omex'>), 'simulationRun': (None, '{\"name\":\"test\",\"simulator\":\"xpp\",\"simulatorVersion\":\"8.0\",\"maxTime\":20,\"cpus\":1,\"memory\":8,\"purpose\":\"academic\",\"email\":\"\",\"envVars\":[]}')}\n",
      "pyNeuroML >>> INFO - multipart encoded data is <MultipartEncoder: {'file': ('LEMS_NML2_Ex9_FN_missing_xmlns.omex', <_io.BufferedReader name='LEMS_NML2_Ex9_FN_missing_xmlns.omex'>), 'simulationRun': (None, '{\"name\":\"test\",\"simulator\":\"xpp\",\"simulatorVersion\":\"8.0\",\"maxTime\":20,\"cpus\":1,\"memory\":8,\"purpose\":\"academic\",\"email\":\"\",\"envVars\":[]}')}>\n",
      "pyNeuroML >>> INFO - with content type: multipart/form-data; boundary=18f5610ecb314a9693116e68d038e7a6\n",
      "pyNeuroML >>> INFO - Submitting archive to biosimulations\n"
     ]
    },
    {
     "name": "stdout",
     "output_type": "stream",
     "text": [
      "Submitted LEMS_NML2_Ex9_FN_missing_xmlns.omex successfully with id: 66ba1facf29e09b32cb6e480\n",
      "View: https://api.biosimulations.org/runs/66ba1facf29e09b32cb6e480\n",
      "Downloads: https://api.biosimulations.org/results/66ba1facf29e09b32cb6e480/download\n",
      "Logs: https://api.biosimulations.org/logs/66ba1facf29e09b32cb6e480?includeOutput=true\n",
      "Downloading amici results...\n",
      "Downloading brian2 results...\n",
      "Downloading bionetgen results...\n",
      "Downloading boolnet results...\n",
      "Downloading cbmpy results...\n",
      "Downloading cobrapy results...\n",
      "Downloading copasi results...\n",
      "Downloading gillespy2 results...\n",
      "Downloading ginsim results...\n",
      "Downloading libsbmlsim results...\n",
      "Downloading masspy results...\n",
      "Downloading netpyne results...\n",
      "Downloading neuron results...\n",
      "Downloading opencor results...\n",
      "Downloading pyneuroml results...\n",
      "Downloading pysces results...\n",
      "Downloading rbapy results...\n",
      "Downloading smoldyn results...\n",
      "Downloading tellurium results...\n",
      "Downloading vcell results...\n",
      "Downloading xpp results...\n",
      "Moving remote_results\\amici\\outputs\\tmp802597\\d1.pdf to d1_plots_remote\\amici_d1.pdf\n",
      "Moving remote_results\\amici\\outputs\\tmp987077\\d1.pdf to d1_plots_remote\\amici_d1.pdf\n",
      "Moving remote_results\\bionetgen\\outputs\\tmp337013\\d1.pdf to d1_plots_remote\\bionetgen_d1.pdf\n",
      "Moving remote_results\\bionetgen\\outputs\\tmp950095\\d1.pdf to d1_plots_remote\\bionetgen_d1.pdf\n",
      "Moving remote_results\\boolnet\\outputs\\tmp644487\\d1.pdf to d1_plots_remote\\boolnet_d1.pdf\n",
      "Moving remote_results\\boolnet\\outputs\\tmp649837\\d1.pdf to d1_plots_remote\\boolnet_d1.pdf\n",
      "Moving remote_results\\cbmpy\\outputs\\tmp516152\\d1.pdf to d1_plots_remote\\cbmpy_d1.pdf\n",
      "Moving remote_results\\cbmpy\\outputs\\tmp591632\\d1.pdf to d1_plots_remote\\cbmpy_d1.pdf\n",
      "Moving remote_results\\cobrapy\\outputs\\tmp220956\\d1.pdf to d1_plots_remote\\cobrapy_d1.pdf\n",
      "Moving remote_results\\cobrapy\\outputs\\tmp589941\\d1.pdf to d1_plots_remote\\cobrapy_d1.pdf\n",
      "Moving remote_results\\copasi\\outputs\\tmp69930\\d1.pdf to d1_plots_remote\\copasi_d1.pdf\n",
      "Moving remote_results\\copasi\\outputs\\tmp820744\\d1.pdf to d1_plots_remote\\copasi_d1.pdf\n",
      "Moving remote_results\\gillespy2\\outputs\\tmp334450\\d1.pdf to d1_plots_remote\\gillespy2_d1.pdf\n",
      "Moving remote_results\\gillespy2\\outputs\\tmp952245\\d1.pdf to d1_plots_remote\\gillespy2_d1.pdf\n",
      "Moving remote_results\\ginsim\\outputs\\tmp267937\\d1.pdf to d1_plots_remote\\ginsim_d1.pdf\n",
      "Moving remote_results\\ginsim\\outputs\\tmp936909\\d1.pdf to d1_plots_remote\\ginsim_d1.pdf\n",
      "Moving remote_results\\libsbmlsim\\outputs\\tmp282735\\d1.pdf to d1_plots_remote\\libsbmlsim_d1.pdf\n",
      "Moving remote_results\\libsbmlsim\\outputs\\tmp3602\\d1.pdf to d1_plots_remote\\libsbmlsim_d1.pdf\n",
      "Moving remote_results\\masspy\\outputs\\tmp648987\\d1.pdf to d1_plots_remote\\masspy_d1.pdf\n",
      "Moving remote_results\\masspy\\outputs\\tmp907144\\d1.pdf to d1_plots_remote\\masspy_d1.pdf\n",
      "Moving remote_results\\pysces\\outputs\\tmp312749\\d1.pdf to d1_plots_remote\\pysces_d1.pdf\n",
      "Moving remote_results\\pysces\\outputs\\tmp415792\\d1.pdf to d1_plots_remote\\pysces_d1.pdf\n",
      "Moving remote_results\\rbapy\\outputs\\tmp496636\\d1.pdf to d1_plots_remote\\rbapy_d1.pdf\n",
      "Moving remote_results\\rbapy\\outputs\\tmp499456\\d1.pdf to d1_plots_remote\\rbapy_d1.pdf\n",
      "Moving remote_results\\tellurium\\outputs\\tmp402952\\d1.pdf to d1_plots_remote\\tellurium_d1.pdf\n",
      "Moving remote_results\\tellurium\\outputs\\tmp916390\\d1.pdf to d1_plots_remote\\tellurium_d1.pdf\n",
      "Removed remote_results folder\n",
      "Running amici\n",
      "Running brian2\n",
      "Running bionetgen\n",
      "Running boolnet\n",
      "Running cbmpy\n",
      "Running cobrapy\n",
      "Running copasi\n",
      "Running gillespy2\n",
      "Running ginsim\n",
      "Running libsbmlsim\n",
      "Running masspy\n",
      "Running netpyne\n",
      "Running neuron\n",
      "Running opencor\n",
      "Running pyneuroml\n",
      "Running pysces\n",
      "Running rbapy\n",
      "Running smoldyn\n",
      "Running tellurium\n",
      "Running vcell\n",
      "Running xpp\n",
      "Removed output folder\n"
     ]
    }
   ],
   "source": [
    "\n",
    "\n",
    "#########################################################################################\n",
    "# Run remotely\n",
    "#########################################################################################\n",
    "\n",
    "remote_output_dir = 'remote_results'\n",
    "\n",
    "download_links_dict = dict()\n",
    "for e in engines.keys():\n",
    "    download_link = utils.run_biosimulators_remote(e, sedml_filepath, sbml_filepath)\n",
    "    download_links_dict[e] = download_link\n",
    "\n",
    "extract_dir_dict = dict()\n",
    "for e, link in download_links_dict.items():\n",
    "    extract_dir = utils.get_remote_results(e, link, remote_output_dir)\n",
    "    extract_dir_dict[e] = extract_dir\n",
    "\n",
    "results = dict()\n",
    "for e, extract_dir in extract_dir_dict.items():\n",
    "    status = \"\"\n",
    "    error_message = \"\"\n",
    "    exception_type = \"\"\n",
    "\n",
    "    log_yml_path = utils.find_file_in_dir('log.yml', extract_dir)[0]\n",
    "    if not log_yml_path:\n",
    "        status = None\n",
    "        error_message = 'log.yml not found'\n",
    "        continue\n",
    "    with open(log_yml_path) as f:\n",
    "        log_yml_dict = yaml.safe_load(f)\n",
    "        if log_yml_dict['status'] == 'SUCCEEDED':\n",
    "            status = 'pass'\n",
    "        elif log_yml_dict['status'] == 'FAILED':\n",
    "            status = 'FAIL'\n",
    "            exception = log_yml_dict['exception']\n",
    "            error_message = exception['message']\n",
    "            exception_type = exception['type'] \n",
    "        else:\n",
    "            status = None\n",
    "        results[e] = [status, error_message, exception_type] \n",
    "\n",
    "file_paths = utils.find_files(remote_output_dir, '.pdf')\n",
    "utils.move_d1_files(file_paths, d1_plots_remote_dir)\n",
    "\n",
    "# remove the remote results directory\n",
    "if os.path.exists(remote_output_dir):\n",
    "    shutil.rmtree(remote_output_dir)\n",
    "    print('Removed ' + remote_output_dir + ' folder')\n",
    "\n",
    "#########################################################################################\n",
    "# Run locally\n",
    "#########################################################################################\n",
    "\n",
    "results_local = {}\n",
    "\n",
    "output_folder = 'output'\n",
    "\n",
    "for e in engines.keys():\n",
    "    print('Running ' + e)\n",
    "    output_dir = os.path.abspath(os.path.join(output_folder, e))\n",
    "    record = utils.run_biosimulators_docker(e, sedml_filepath, sbml_filepath, output_dir=output_dir)\n",
    "    results_local[e] = record\n",
    "\n",
    "file_paths = utils.find_files(output_folder, '.pdf')\n",
    "utils.move_d1_files(file_paths, d1_plots_local_dir)\n",
    "\n",
    "# if it exists remove the output folder\n",
    "if os.path.exists(output_folder):\n",
    "    shutil.rmtree(output_folder)\n",
    "    print('Removed ' + output_folder + ' folder')"
   ]
  },
  {
   "cell_type": "code",
   "execution_count": 19,
   "metadata": {},
   "outputs": [
    {
     "data": {
      "text/markdown": [
       "|    | Engine     | pass / FAIL (remote)                     | pass / FAIL (local)                      | Compat (remote)                                                                                                                                                                                                                                                            | Compat (local)                                                                                                                                                                                                                                                             | Type (remote)                                                          | Error (remote)                                                                                                                                                                                                                                                                                                                                                                                                                                                     | Error (local)                                                                                                                                               | d1 (remote)                                          | d1 (local)                                          |\n",
       "|---:|:-----------|:-----------------------------------------|:-----------------------------------------|:---------------------------------------------------------------------------------------------------------------------------------------------------------------------------------------------------------------------------------------------------------------------------|:---------------------------------------------------------------------------------------------------------------------------------------------------------------------------------------------------------------------------------------------------------------------------|:-----------------------------------------------------------------------|:-------------------------------------------------------------------------------------------------------------------------------------------------------------------------------------------------------------------------------------------------------------------------------------------------------------------------------------------------------------------------------------------------------------------------------------------------------------------|:------------------------------------------------------------------------------------------------------------------------------------------------------------|:-----------------------------------------------------|:----------------------------------------------------|\n",
       "|  0 | amici      | pass                                     | <span style=\"color:darkred;\">FAIL</span> | <details><summary>pass</summary>The file extensions suggest the input file types are '['SED-ML', 'SBML']'. These are compatible with amici</details>                                                                                                                       | <details><summary>pass</summary>The file extensions suggest the input file types are '['SED-ML', 'SBML']'. These are compatible with amici</details>                                                                                                                       |                                                                        |                                                                                                                                                                                                                                                                                                                                                                                                                                                                    | <details><summary>Details</summary>```Error while fetching server API version: (2, 'CreateFile', 'The system cannot find the file specified.')```</details> | <a href=\"d1_plots_remote\\amici_d1.pdf\">plot</a>      | <a href=\"d1_plots_local\\amici_d1.pdf\">plot</a>      |\n",
       "|  1 | bionetgen  | <span style=\"color:darkred;\">FAIL</span> | <span style=\"color:darkred;\">FAIL</span> | <span style=\"color:darkred;\"><details><summary>FAIL</summary>The file extensions suggest the input file types are '['SED-ML', 'SBML']'. Tese are not compatible with bionetgen. The following file types will be compatible ['BNGL', 'SED-ML']</details></span>            | <span style=\"color:darkred;\"><details><summary>FAIL</summary>The file extensions suggest the input file types are '['SED-ML', 'SBML']'. Tese are not compatible with bionetgen. The following file types will be compatible ['BNGL', 'SED-ML']</details></span>            | <details><summary>CAEE</summary>CombineArchiveExecutionError</details> | <details><summary>Details</summary><span style=\"color:red;\">The COMBINE/OMEX did not execute successfully:<br><br>  The SED document did not execute successfully:<br>  <br>    Language for model `net1` is not supported.<br>      - Model language `urn:sedml:language:sbml` is not supported. Models must be in BNGL format (e.g., `sed:model/@language` must match `^urn:sedml:language:bngl(\\.$)` such as `urn:sedml:language:bngl`).</details>              | <details><summary>Details</summary>```Error while fetching server API version: (2, 'CreateFile', 'The system cannot find the file specified.')```</details> | <a href=\"d1_plots_remote\\bionetgen_d1.pdf\">plot</a>  | <a href=\"d1_plots_local\\bionetgen_d1.pdf\">plot</a>  |\n",
       "|  2 | boolnet    | <span style=\"color:darkred;\">FAIL</span> | <span style=\"color:darkred;\">FAIL</span> | <span style=\"color:darkred;\"><details><summary>FAIL</summary>The file extensions suggest the input file types are '['SED-ML', 'SBML']'. Tese are not compatible with boolnet. The following file types will be compatible ['SBML-qual', 'SED-ML']</details></span>         | <span style=\"color:darkred;\"><details><summary>FAIL</summary>The file extensions suggest the input file types are '['SED-ML', 'SBML']'. Tese are not compatible with boolnet. The following file types will be compatible ['SBML-qual', 'SED-ML']</details></span>         | <details><summary>CAEE</summary>CombineArchiveExecutionError</details> | <details><summary>Details</summary><span style=\"color:red;\">The COMBINE/OMEX did not execute successfully:<br><br>  The SED document did not execute successfully:<br>  <br>    Simulation `sim1` is invalid.<br>      - Number of points (20000) must be equal to the difference between the output end (200.0) and start times (0.0).</details>                                                                                                                  | <details><summary>Details</summary>```Error while fetching server API version: (2, 'CreateFile', 'The system cannot find the file specified.')```</details> | <a href=\"d1_plots_remote\\boolnet_d1.pdf\">plot</a>    | <a href=\"d1_plots_local\\boolnet_d1.pdf\">plot</a>    |\n",
       "|  3 | brian2     | <span style=\"color:darkred;\">FAIL</span> | <span style=\"color:darkred;\">FAIL</span> | <details><summary>pass</summary>The file extensions suggest the input file types are '['SED-ML', 'SBML']'. These are compatible with brian2</details>                                                                                                                      | <details><summary>pass</summary>The file extensions suggest the input file types are '['SED-ML', 'SBML']'. These are compatible with brian2</details>                                                                                                                      | <details><summary>MNFE</summary>ModuleNotFoundError</details>          | <details><summary>Details</summary>No module named 'libsbml'</details>                                                                                                                                                                                                                                                                                                                                                                                             | <details><summary>Details</summary>```Error while fetching server API version: (2, 'CreateFile', 'The system cannot find the file specified.')```</details> |                                                      |                                                     |\n",
       "|  4 | cbmpy      | <span style=\"color:darkred;\">FAIL</span> | <span style=\"color:darkred;\">FAIL</span> | <details><summary>pass</summary>The file extensions suggest the input file types are '['SED-ML', 'SBML']'. These are compatible with cbmpy</details>                                                                                                                       | <details><summary>pass</summary>The file extensions suggest the input file types are '['SED-ML', 'SBML']'. These are compatible with cbmpy</details>                                                                                                                       | <details><summary>CAEE</summary>CombineArchiveExecutionError</details> | <details><summary>Details</summary><span style=\"color:red;\">The COMBINE/OMEX did not execute successfully:<br><br>  The SED document did not execute successfully:<br>  <br>    UniformTimeCourseSimulation `sim1` is not supported.<br>      - Simulation sim1 of type `UniformTimeCourseSimulation` is not supported. Simulation must be an instance of one of the following:<br>          - SteadyStateSimulation</details>                                     | <details><summary>Details</summary>```Error while fetching server API version: (2, 'CreateFile', 'The system cannot find the file specified.')```</details> | <a href=\"d1_plots_remote\\cbmpy_d1.pdf\">plot</a>      | <a href=\"d1_plots_local\\cbmpy_d1.pdf\">plot</a>      |\n",
       "|  5 | cobrapy    | <span style=\"color:darkred;\">FAIL</span> | <span style=\"color:darkred;\">FAIL</span> | <details><summary>pass</summary>The file extensions suggest the input file types are '['SED-ML', 'SBML']'. These are compatible with cobrapy</details>                                                                                                                     | <details><summary>pass</summary>The file extensions suggest the input file types are '['SED-ML', 'SBML']'. These are compatible with cobrapy</details>                                                                                                                     | <details><summary>CAEE</summary>CombineArchiveExecutionError</details> | <details><summary>Details</summary><span style=\"color:red;\">The COMBINE/OMEX did not execute successfully:<br><br>  The SED document did not execute successfully:<br>  <br>    UniformTimeCourseSimulation `sim1` is not supported.<br>      - Simulation sim1 of type `UniformTimeCourseSimulation` is not supported. Simulation must be an instance of one of the following:<br>          - SteadyStateSimulation</details>                                     | <details><summary>Details</summary>```Error while fetching server API version: (2, 'CreateFile', 'The system cannot find the file specified.')```</details> | <a href=\"d1_plots_remote\\cobrapy_d1.pdf\">plot</a>    | <a href=\"d1_plots_local\\cobrapy_d1.pdf\">plot</a>    |\n",
       "|  6 | copasi     | <span style=\"color:darkred;\">FAIL</span> | <span style=\"color:darkred;\">FAIL</span> | <details><summary>pass</summary>The file extensions suggest the input file types are '['SED-ML', 'SBML']'. These are compatible with copasi</details>                                                                                                                      | <details><summary>pass</summary>The file extensions suggest the input file types are '['SED-ML', 'SBML']'. These are compatible with copasi</details>                                                                                                                      | <details><summary>CAEE</summary>CombineArchiveExecutionError</details> | <details><summary>Details</summary><span style=\"color:red;\">The COMBINE/OMEX did not execute successfully:<br><br>  The SED document did not execute successfully:<br>  <br>    could not convert string to float: 'Values[V]'</details>                                                                                                                                                                                                                           | <details><summary>Details</summary>```Error while fetching server API version: (2, 'CreateFile', 'The system cannot find the file specified.')```</details> | <a href=\"d1_plots_remote\\copasi_d1.pdf\">plot</a>     | <a href=\"d1_plots_local\\copasi_d1.pdf\">plot</a>     |\n",
       "|  7 | gillespy2  | pass                                     | <span style=\"color:darkred;\">FAIL</span> | <details><summary>pass</summary>The file extensions suggest the input file types are '['SED-ML', 'SBML']'. These are compatible with gillespy2</details>                                                                                                                   | <details><summary>pass</summary>The file extensions suggest the input file types are '['SED-ML', 'SBML']'. These are compatible with gillespy2</details>                                                                                                                   |                                                                        |                                                                                                                                                                                                                                                                                                                                                                                                                                                                    | <details><summary>Details</summary>```Error while fetching server API version: (2, 'CreateFile', 'The system cannot find the file specified.')```</details> | <a href=\"d1_plots_remote\\gillespy2_d1.pdf\">plot</a>  | <a href=\"d1_plots_local\\gillespy2_d1.pdf\">plot</a>  |\n",
       "|  8 | ginsim     | <span style=\"color:darkred;\">FAIL</span> | <span style=\"color:darkred;\">FAIL</span> | <span style=\"color:darkred;\"><details><summary>FAIL</summary>The file extensions suggest the input file types are '['SED-ML', 'SBML']'. Tese are not compatible with ginsim. The following file types will be compatible ['SBML-qual', 'SED-ML']</details></span>          | <span style=\"color:darkred;\"><details><summary>FAIL</summary>The file extensions suggest the input file types are '['SED-ML', 'SBML']'. Tese are not compatible with ginsim. The following file types will be compatible ['SBML-qual', 'SED-ML']</details></span>          | <details><summary>CAEE</summary>CombineArchiveExecutionError</details> | <details><summary>Details</summary><span style=\"color:red;\">The COMBINE/OMEX did not execute successfully:<br><br>  The SED document did not execute successfully:<br>  <br>    Simulation `sim1` is invalid.<br>      - The interval between the output start and time time must be an integer multiple of the number of steps, not `0.01`:<br>          Output start time: 0.0<br>          Output end time: 200.0<br>          Number of steps: 20000</details> | <details><summary>Details</summary>```Error while fetching server API version: (2, 'CreateFile', 'The system cannot find the file specified.')```</details> | <a href=\"d1_plots_remote\\ginsim_d1.pdf\">plot</a>     | <a href=\"d1_plots_local\\ginsim_d1.pdf\">plot</a>     |\n",
       "|  9 | libsbmlsim | pass                                     | <span style=\"color:darkred;\">FAIL</span> | <details><summary>pass</summary>The file extensions suggest the input file types are '['SED-ML', 'SBML']'. These are compatible with libsbmlsim</details>                                                                                                                  | <details><summary>pass</summary>The file extensions suggest the input file types are '['SED-ML', 'SBML']'. These are compatible with libsbmlsim</details>                                                                                                                  |                                                                        |                                                                                                                                                                                                                                                                                                                                                                                                                                                                    | <details><summary>Details</summary>```Error while fetching server API version: (2, 'CreateFile', 'The system cannot find the file specified.')```</details> | <a href=\"d1_plots_remote\\libsbmlsim_d1.pdf\">plot</a> | <a href=\"d1_plots_local\\libsbmlsim_d1.pdf\">plot</a> |\n",
       "| 10 | masspy     | <span style=\"color:darkred;\">FAIL</span> | <span style=\"color:darkred;\">FAIL</span> | <details><summary>pass</summary>The file extensions suggest the input file types are '['SED-ML', 'SBML']'. These are compatible with masspy</details>                                                                                                                      | <details><summary>pass</summary>The file extensions suggest the input file types are '['SED-ML', 'SBML']'. These are compatible with masspy</details>                                                                                                                      | <details><summary>CAEE</summary>CombineArchiveExecutionError</details> | <details><summary>Details</summary><span style=\"color:red;\">The COMBINE/OMEX did not execute successfully:<br><br>  The SED document did not execute successfully:<br>  <br>    Something went wrong reading the SBML model. Most likely the SBML model is not valid. Please check that your model is valid using the `mass.io.sbml.validate_sbml_model` function or via the online validator at http://sbml.org/validator .<br>    \t`(model, errors) = validate_sbml_model(filename)`<br>    If the model is valid and cannot be read please open an issue at https://github.com/SBRG/masspy/issues .</details>                                                                                                                                                                                                                                                                                                                                                                                                                                                                    | <details><summary>Details</summary>```Error while fetching server API version: (2, 'CreateFile', 'The system cannot find the file specified.')```</details> | <a href=\"d1_plots_remote\\masspy_d1.pdf\">plot</a>     | <a href=\"d1_plots_local\\masspy_d1.pdf\">plot</a>     |\n",
       "| 11 | netpyne    | <span style=\"color:darkred;\">FAIL</span> | <span style=\"color:darkred;\">FAIL</span> | <details><summary>pass</summary>The file extensions suggest the input file types are '['SED-ML', 'SBML']'. These are compatible with netpyne</details>                                                                                                                     | <details><summary>pass</summary>The file extensions suggest the input file types are '['SED-ML', 'SBML']'. These are compatible with netpyne</details>                                                                                                                     | <details><summary>MNFE</summary>ModuleNotFoundError</details>          | <details><summary>Details</summary>No module named 'libsbml'</details>                                                                                                                                                                                                                                                                                                                                                                                             | <details><summary>Details</summary>```Error while fetching server API version: (2, 'CreateFile', 'The system cannot find the file specified.')```</details> |                                                      |                                                     |\n",
       "| 12 | neuron     | <span style=\"color:darkred;\">FAIL</span> | <span style=\"color:darkred;\">FAIL</span> | <span style=\"color:darkred;\"><details><summary>FAIL</summary>The file extensions suggest the input file types are '['SED-ML', 'SBML']'. Tese are not compatible with neuron. The following file types will be compatible ['LEMS', 'SED-ML', 'NeuroML']</details></span>    | <span style=\"color:darkred;\"><details><summary>FAIL</summary>The file extensions suggest the input file types are '['SED-ML', 'SBML']'. Tese are not compatible with neuron. The following file types will be compatible ['LEMS', 'SED-ML', 'NeuroML']</details></span>    | <details><summary>MNFE</summary>ModuleNotFoundError</details>          | <details><summary>Details</summary>No module named 'libsbml'</details>                                                                                                                                                                                                                                                                                                                                                                                             | <details><summary>Details</summary>```Error while fetching server API version: (2, 'CreateFile', 'The system cannot find the file specified.')```</details> |                                                      |                                                     |\n",
       "| 13 | opencor    | <span style=\"color:darkred;\">FAIL</span> | <span style=\"color:darkred;\">FAIL</span> | <span style=\"color:darkred;\"><details><summary>FAIL</summary>The file extensions suggest the input file types are '['SED-ML', 'SBML']'. Tese are not compatible with opencor. The following file types will be compatible ['CellML', 'SED-ML']</details></span>            | <span style=\"color:darkred;\"><details><summary>FAIL</summary>The file extensions suggest the input file types are '['SED-ML', 'SBML']'. Tese are not compatible with opencor. The following file types will be compatible ['CellML', 'SED-ML']</details></span>            | <details><summary>MNFE</summary>ModuleNotFoundError</details>          | <details><summary>Details</summary>No module named 'libsbml'</details>                                                                                                                                                                                                                                                                                                                                                                                             | <details><summary>Details</summary>```Error while fetching server API version: (2, 'CreateFile', 'The system cannot find the file specified.')```</details> |                                                      |                                                     |\n",
       "| 14 | pyneuroml  | <span style=\"color:darkred;\">FAIL</span> | <span style=\"color:darkred;\">FAIL</span> | <span style=\"color:darkred;\"><details><summary>FAIL</summary>The file extensions suggest the input file types are '['SED-ML', 'SBML']'. Tese are not compatible with pyneuroml. The following file types will be compatible ['LEMS', 'SED-ML', 'NeuroML']</details></span> | <span style=\"color:darkred;\"><details><summary>FAIL</summary>The file extensions suggest the input file types are '['SED-ML', 'SBML']'. Tese are not compatible with pyneuroml. The following file types will be compatible ['LEMS', 'SED-ML', 'NeuroML']</details></span> | <details><summary>MNFE</summary>ModuleNotFoundError</details>          | <details><summary>Details</summary>No module named 'libsbml'</details>                                                                                                                                                                                                                                                                                                                                                                                             | <details><summary>Details</summary>```Error while fetching server API version: (2, 'CreateFile', 'The system cannot find the file specified.')```</details> |                                                      |                                                     |\n",
       "| 15 | pysces     | <span style=\"color:darkred;\">FAIL</span> | <span style=\"color:darkred;\">FAIL</span> | <details><summary>pass</summary>The file extensions suggest the input file types are '['SED-ML', 'SBML']'. These are compatible with pysces</details>                                                                                                                      | <details><summary>pass</summary>The file extensions suggest the input file types are '['SED-ML', 'SBML']'. These are compatible with pysces</details>                                                                                                                      | <details><summary>CAEE</summary>CombineArchiveExecutionError</details> | <details><summary>Details</summary><span style=\"color:red;\">The COMBINE/OMEX did not execute successfully:<br><br>  The SED document did not execute successfully:<br>  <br>    Model at /tmp/tmpkpz53wsp/./LEMS_NML2_Ex9_FN.sbml could not be imported:<br>      <br>      File /tmp/tmpkpz53wsp/./LEMS_NML2_Ex9_FN.sbml.xml does not exist</details>                                                                                                             | <details><summary>Details</summary>```Error while fetching server API version: (2, 'CreateFile', 'The system cannot find the file specified.')```</details> | <a href=\"d1_plots_remote\\pysces_d1.pdf\">plot</a>     | <a href=\"d1_plots_local\\pysces_d1.pdf\">plot</a>     |\n",
       "| 16 | rbapy      | <span style=\"color:darkred;\">FAIL</span> | <span style=\"color:darkred;\">FAIL</span> | <span style=\"color:darkred;\"><details><summary>FAIL</summary>The file extensions suggest the input file types are '['SED-ML', 'SBML']'. Tese are not compatible with rbapy. The following file types will be compatible ['RBApy', 'SED-ML']</details></span>               | <span style=\"color:darkred;\"><details><summary>FAIL</summary>The file extensions suggest the input file types are '['SED-ML', 'SBML']'. Tese are not compatible with rbapy. The following file types will be compatible ['RBApy', 'SED-ML']</details></span>               | <details><summary>CAEE</summary>CombineArchiveExecutionError</details> | <details><summary>Details</summary><span style=\"color:red;\">The COMBINE/OMEX did not execute successfully:<br><br>  The SED document did not execute successfully:<br>  <br>    Language for model `net1` is not supported.<br>      - Model language `urn:sedml:language:sbml` is not supported. Models must be in RBA format (e.g., `sed:model/@language` must match `^urn:sedml:language:rba(\\.$)` such as `urn:sedml:language:rba`).</details>                 | <details><summary>Details</summary>```Error while fetching server API version: (2, 'CreateFile', 'The system cannot find the file specified.')```</details> | <a href=\"d1_plots_remote\\rbapy_d1.pdf\">plot</a>      | <a href=\"d1_plots_local\\rbapy_d1.pdf\">plot</a>      |\n",
       "| 17 | smoldyn    | <span style=\"color:darkred;\">FAIL</span> | <span style=\"color:darkred;\">FAIL</span> | <span style=\"color:darkred;\"><details><summary>FAIL</summary>smoldyn compatible file types unknown.</details></span>                                                                                                                                                       | <span style=\"color:darkred;\"><details><summary>FAIL</summary>smoldyn compatible file types unknown.</details></span>                                                                                                                                                       | <details><summary>MNFE</summary>ModuleNotFoundError</details>          | <details><summary>Details</summary>No module named 'libsbml'</details>                                                                                                                                                                                                                                                                                                                                                                                             | <details><summary>Details</summary>```Error while fetching server API version: (2, 'CreateFile', 'The system cannot find the file specified.')```</details> |                                                      |                                                     |\n",
       "| 18 | tellurium  | pass                                     | <span style=\"color:darkred;\">FAIL</span> | <details><summary>pass</summary>The file extensions suggest the input file types are '['SED-ML', 'SBML']'. These are compatible with tellurium</details>                                                                                                                   | <details><summary>pass</summary>The file extensions suggest the input file types are '['SED-ML', 'SBML']'. These are compatible with tellurium</details>                                                                                                                   |                                                                        |                                                                                                                                                                                                                                                                                                                                                                                                                                                                    | <details><summary>Details</summary>```Error while fetching server API version: (2, 'CreateFile', 'The system cannot find the file specified.')```</details> | <a href=\"d1_plots_remote\\tellurium_d1.pdf\">plot</a>  | <a href=\"d1_plots_local\\tellurium_d1.pdf\">plot</a>  |\n",
       "| 19 | vcell      | pass                                     | <span style=\"color:darkred;\">FAIL</span> | <span style=\"color:darkred;\"><details><summary>FAIL</summary>vcell compatible file types unknown.</details></span>                                                                                                                                                         | <span style=\"color:darkred;\"><details><summary>FAIL</summary>vcell compatible file types unknown.</details></span>                                                                                                                                                         |                                                                        |                                                                                                                                                                                                                                                                                                                                                                                                                                                                    | <details><summary>Details</summary>```Error while fetching server API version: (2, 'CreateFile', 'The system cannot find the file specified.')```</details> |                                                      |                                                     |\n",
       "| 20 | xpp        | <span style=\"color:darkred;\">FAIL</span> | <span style=\"color:darkred;\">FAIL</span> | <span style=\"color:darkred;\"><details><summary>FAIL</summary>The file extensions suggest the input file types are '['SED-ML', 'SBML']'. Tese are not compatible with xpp. The following file types will be compatible ['XPP', 'SED-ML']</details></span>                   | <span style=\"color:darkred;\"><details><summary>FAIL</summary>The file extensions suggest the input file types are '['SED-ML', 'SBML']'. Tese are not compatible with xpp. The following file types will be compatible ['XPP', 'SED-ML']</details></span>                   | <details><summary>MNFE</summary>ModuleNotFoundError</details>          | <details><summary>Details</summary>No module named 'libsbml'</details>                                                                                                                                                                                                                                                                                                                                                                                             | <details><summary>Details</summary>```Error while fetching server API version: (2, 'CreateFile', 'The system cannot find the file specified.')```</details> |                                                      |                                                     |"
      ]
     },
     "metadata": {},
     "output_type": "display_data"
    }
   ],
   "source": [
    "#########################################################################################\n",
    "# process results and save markdown table\n",
    "#########################################################################################\n",
    "\n",
    "results_table = utils.create_results_table(results, types_dict, sbml_filepath, sedml_filepath, engines, d1_plots_remote_dir)\n",
    "results_table_local = utils.create_results_table(results_local, types_dict, sbml_filepath, sedml_filepath, engines, d1_plots_local_dir)\n",
    "\n",
    "# rename cols to distinguish between local and remote results except for Engine column\n",
    "results_table.columns = [str(col) + ' (remote)' if col != 'Engine' else str(col) for col in results_table.columns]\n",
    "results_table_local.columns = [str(col) + ' (local)' if col != 'Engine' else str(col) for col in results_table_local.columns]\n",
    "\n",
    "# combine remote and local results\n",
    "combined_results = pd.merge(results_table, results_table_local, on='Engine', how='outer')\n",
    "combined_results = combined_results.reindex(columns=['Engine'] + sorted(combined_results.columns[1:]))\n",
    "\n",
    "cols_order = ['Engine', 'pass / FAIL (remote)', 'pass / FAIL (local)',\\\n",
    "               'Compat (remote)', 'Compat (local)', \\\n",
    "               'Type (remote)', \\\n",
    "               'Error (remote)', 'Error (local)', \\\n",
    "               'd1 (remote)', 'd1 (local)']\n",
    "\n",
    "combined_results = combined_results[cols_order]\n",
    "display_markdown(combined_results.to_markdown(), raw=True)"
   ]
  }
 ],
 "metadata": {
  "kernelspec": {
   "display_name": "venv",
   "language": "python",
   "name": "python3"
  },
  "language_info": {
   "codemirror_mode": {
    "name": "ipython",
    "version": 3
   },
   "file_extension": ".py",
   "mimetype": "text/x-python",
   "name": "python",
   "nbconvert_exporter": "python",
   "pygments_lexer": "ipython3",
   "version": "3.11.9"
  }
 },
 "nbformat": 4,
 "nbformat_minor": 2
}
