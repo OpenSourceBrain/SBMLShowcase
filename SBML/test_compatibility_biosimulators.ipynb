{
 "cells": [
  {
   "cell_type": "markdown",
   "metadata": {},
   "source": [
    "# Biosimulators compatibility"
   ]
  },
  {
   "cell_type": "markdown",
   "metadata": {},
   "source": [
    "## set-up"
   ]
  },
  {
   "cell_type": "code",
   "execution_count": 1,
   "metadata": {},
   "outputs": [
    {
     "name": "stdout",
     "output_type": "stream",
     "text": [
      "c:\\Users\\prins\\GitHub\\SBMLShowcase\\SBML\n"
     ]
    }
   ],
   "source": [
    "#!/usr/bin/env python\n",
    "\n",
    "'''\n",
    "use pymetadata module to create a minimal valid combine archive\n",
    "using LEMS_NML2_Ex9_FN.sbml and LEMS_NML2_Ex9_FN.sedml\n",
    "'''\n",
    "\n",
    "import sys\n",
    "sys.path.append(\"..\")\n",
    "import utils\n",
    "import os\n",
    "import pandas as pd\n",
    "from IPython.display import display_markdown\n",
    "import shutil\n",
    "import yaml\n",
    "\n",
    "\n",
    "cwd = os.getcwd()\n",
    "print(cwd)\n",
    "\n",
    "d1_plots_remote_dir = 'd1_plots'+ '_remote'\n",
    "d1_plots_local_dir = 'd1_plots' + '_local'\n",
    "\n",
    "sbml_filepath = 'LEMS_NML2_Ex9_FN.sbml'\n",
    "sedml_filepath = 'LEMS_NML2_Ex9_FN_missing_xmlns.sedml' #xmlns:sbml missing\n",
    "\n",
    "engines = utils.engines\n",
    "types_dict = utils.types_dict\n"
   ]
  },
  {
   "cell_type": "code",
   "execution_count": 2,
   "metadata": {},
   "outputs": [
    {
     "name": "stderr",
     "output_type": "stream",
     "text": [
      "pyNeuroML >>> DEBUG - Sim dict is: {'name': 'test', 'simulator': 'amici', 'simulatorVersion': '0.18.1', 'cpus': 1, 'memory': 8, 'maxTime': 20, 'envVars': [], 'purpose': 'academic', 'email': ''}\n",
      "pyNeuroML >>> DEBUG - simulation_run_request is {\"name\":\"test\",\"simulator\":\"amici\",\"simulatorVersion\":\"0.18.1\",\"maxTime\":20,\"cpus\":1,\"memory\":8,\"purpose\":\"academic\",\"email\":\"\",\"envVars\":[]}\n",
      "pyNeuroML >>> DEBUG - data is:\n",
      "{'file': ('LEMS_NML2_Ex9_FN_missing_xmlns.omex', <_io.BufferedReader name='LEMS_NML2_Ex9_FN_missing_xmlns.omex'>), 'simulationRun': (None, '{\"name\":\"test\",\"simulator\":\"amici\",\"simulatorVersion\":\"0.18.1\",\"maxTime\":20,\"cpus\":1,\"memory\":8,\"purpose\":\"academic\",\"email\":\"\",\"envVars\":[]}')}\n",
      "pyNeuroML >>> INFO - multipart encoded data is <MultipartEncoder: {'file': ('LEMS_NML2_Ex9_FN_missing_xmlns.omex', <_io.BufferedReader name='LEMS_NML2_Ex9_FN_missing_xmlns.omex'>), 'simulationRun': (None, '{\"name\":\"test\",\"simulator\":\"amici\",\"simulatorVersion\":\"0.18.1\",\"maxTime\":20,\"cpus\":1,\"memory\":8,\"purpose\":\"academic\",\"email\":\"\",\"envVars\":[]}')}>\n",
      "pyNeuroML >>> INFO - with content type: multipart/form-data; boundary=247184b0654243cba4dc148572be4227\n",
      "pyNeuroML >>> INFO - Submitting archive to biosimulations\n"
     ]
    },
    {
     "name": "stdout",
     "output_type": "stream",
     "text": [
      "Submitted LEMS_NML2_Ex9_FN_missing_xmlns.omex successfully with id: 66bb1eb40c4ccdd4919214fc\n",
      "View: https://api.biosimulations.org/runs/66bb1eb40c4ccdd4919214fc\n",
      "Downloads: https://api.biosimulations.org/results/66bb1eb40c4ccdd4919214fc/download\n",
      "Logs: https://api.biosimulations.org/logs/66bb1eb40c4ccdd4919214fc?includeOutput=true\n"
     ]
    },
    {
     "name": "stderr",
     "output_type": "stream",
     "text": [
      "pyNeuroML >>> DEBUG - Sim dict is: {'name': 'test', 'simulator': 'brian2', 'simulatorVersion': '2.5.0.3', 'cpus': 1, 'memory': 8, 'maxTime': 20, 'envVars': [], 'purpose': 'academic', 'email': ''}\n",
      "pyNeuroML >>> DEBUG - simulation_run_request is {\"name\":\"test\",\"simulator\":\"brian2\",\"simulatorVersion\":\"2.5.0.3\",\"maxTime\":20,\"cpus\":1,\"memory\":8,\"purpose\":\"academic\",\"email\":\"\",\"envVars\":[]}\n",
      "pyNeuroML >>> DEBUG - data is:\n",
      "{'file': ('LEMS_NML2_Ex9_FN_missing_xmlns.omex', <_io.BufferedReader name='LEMS_NML2_Ex9_FN_missing_xmlns.omex'>), 'simulationRun': (None, '{\"name\":\"test\",\"simulator\":\"brian2\",\"simulatorVersion\":\"2.5.0.3\",\"maxTime\":20,\"cpus\":1,\"memory\":8,\"purpose\":\"academic\",\"email\":\"\",\"envVars\":[]}')}\n",
      "pyNeuroML >>> INFO - multipart encoded data is <MultipartEncoder: {'file': ('LEMS_NML2_Ex9_FN_missing_xmlns.omex', <_io.BufferedReader name='LEMS_NML2_Ex9_FN_missing_xmlns.omex'>), 'simulationRun': (None, '{\"name\":\"test\",\"simulator\":\"brian2\",\"simulatorVersion\":\"2.5.0.3\",\"maxTime\":20,\"cpus\":1,\"memory\":8,\"purpose\":\"academic\",\"email\":\"\",\"envVars\":[]}')}>\n",
      "pyNeuroML >>> INFO - with content type: multipart/form-data; boundary=b924b87f571d4d3ab0815e07db1d1c68\n",
      "pyNeuroML >>> INFO - Submitting archive to biosimulations\n"
     ]
    },
    {
     "name": "stdout",
     "output_type": "stream",
     "text": [
      "Submitted LEMS_NML2_Ex9_FN_missing_xmlns.omex successfully with id: 66bb1eb60c4ccdd4919214ff\n",
      "View: https://api.biosimulations.org/runs/66bb1eb60c4ccdd4919214ff\n",
      "Downloads: https://api.biosimulations.org/results/66bb1eb60c4ccdd4919214ff/download\n",
      "Logs: https://api.biosimulations.org/logs/66bb1eb60c4ccdd4919214ff?includeOutput=true\n"
     ]
    },
    {
     "name": "stderr",
     "output_type": "stream",
     "text": [
      "pyNeuroML >>> DEBUG - Sim dict is: {'name': 'test', 'simulator': 'bionetgen', 'simulatorVersion': '2.8.0', 'cpus': 1, 'memory': 8, 'maxTime': 20, 'envVars': [], 'purpose': 'academic', 'email': ''}\n",
      "pyNeuroML >>> DEBUG - simulation_run_request is {\"name\":\"test\",\"simulator\":\"bionetgen\",\"simulatorVersion\":\"2.8.0\",\"maxTime\":20,\"cpus\":1,\"memory\":8,\"purpose\":\"academic\",\"email\":\"\",\"envVars\":[]}\n",
      "pyNeuroML >>> DEBUG - data is:\n",
      "{'file': ('LEMS_NML2_Ex9_FN_missing_xmlns.omex', <_io.BufferedReader name='LEMS_NML2_Ex9_FN_missing_xmlns.omex'>), 'simulationRun': (None, '{\"name\":\"test\",\"simulator\":\"bionetgen\",\"simulatorVersion\":\"2.8.0\",\"maxTime\":20,\"cpus\":1,\"memory\":8,\"purpose\":\"academic\",\"email\":\"\",\"envVars\":[]}')}\n",
      "pyNeuroML >>> INFO - multipart encoded data is <MultipartEncoder: {'file': ('LEMS_NML2_Ex9_FN_missing_xmlns.omex', <_io.BufferedReader name='LEMS_NML2_Ex9_FN_missing_xmlns.omex'>), 'simulationRun': (None, '{\"name\":\"test\",\"simulator\":\"bionetgen\",\"simulatorVersion\":\"2.8.0\",\"maxTime\":20,\"cpus\":1,\"memory\":8,\"purpose\":\"academic\",\"email\":\"\",\"envVars\":[]}')}>\n",
      "pyNeuroML >>> INFO - with content type: multipart/form-data; boundary=6f4ca7b4f22c4cd29b54f1f09f3504e7\n",
      "pyNeuroML >>> INFO - Submitting archive to biosimulations\n"
     ]
    },
    {
     "name": "stdout",
     "output_type": "stream",
     "text": [
      "Submitted LEMS_NML2_Ex9_FN_missing_xmlns.omex successfully with id: 66bb1eb8a641708179ad0e9b\n",
      "View: https://api.biosimulations.org/runs/66bb1eb8a641708179ad0e9b\n",
      "Downloads: https://api.biosimulations.org/results/66bb1eb8a641708179ad0e9b/download\n",
      "Logs: https://api.biosimulations.org/logs/66bb1eb8a641708179ad0e9b?includeOutput=true\n"
     ]
    },
    {
     "name": "stderr",
     "output_type": "stream",
     "text": [
      "pyNeuroML >>> DEBUG - Sim dict is: {'name': 'test', 'simulator': 'boolnet', 'simulatorVersion': '2.1.5', 'cpus': 1, 'memory': 8, 'maxTime': 20, 'envVars': [], 'purpose': 'academic', 'email': ''}\n",
      "pyNeuroML >>> DEBUG - simulation_run_request is {\"name\":\"test\",\"simulator\":\"boolnet\",\"simulatorVersion\":\"2.1.5\",\"maxTime\":20,\"cpus\":1,\"memory\":8,\"purpose\":\"academic\",\"email\":\"\",\"envVars\":[]}\n",
      "pyNeuroML >>> DEBUG - data is:\n",
      "{'file': ('LEMS_NML2_Ex9_FN_missing_xmlns.omex', <_io.BufferedReader name='LEMS_NML2_Ex9_FN_missing_xmlns.omex'>), 'simulationRun': (None, '{\"name\":\"test\",\"simulator\":\"boolnet\",\"simulatorVersion\":\"2.1.5\",\"maxTime\":20,\"cpus\":1,\"memory\":8,\"purpose\":\"academic\",\"email\":\"\",\"envVars\":[]}')}\n",
      "pyNeuroML >>> INFO - multipart encoded data is <MultipartEncoder: {'file': ('LEMS_NML2_Ex9_FN_missing_xmlns.omex', <_io.BufferedReader name='LEMS_NML2_Ex9_FN_missing_xmlns.omex'>), 'simulationRun': (None, '{\"name\":\"test\",\"simulator\":\"boolnet\",\"simulatorVersion\":\"2.1.5\",\"maxTime\":20,\"cpus\":1,\"memory\":8,\"purpose\":\"academic\",\"email\":\"\",\"envVars\":[]}')}>\n",
      "pyNeuroML >>> INFO - with content type: multipart/form-data; boundary=dc48b39407844f869294f21488b21484\n",
      "pyNeuroML >>> INFO - Submitting archive to biosimulations\n"
     ]
    },
    {
     "name": "stdout",
     "output_type": "stream",
     "text": [
      "Submitted LEMS_NML2_Ex9_FN_missing_xmlns.omex successfully with id: 66bb1eba0c4ccdd491921502\n",
      "View: https://api.biosimulations.org/runs/66bb1eba0c4ccdd491921502\n",
      "Downloads: https://api.biosimulations.org/results/66bb1eba0c4ccdd491921502/download\n",
      "Logs: https://api.biosimulations.org/logs/66bb1eba0c4ccdd491921502?includeOutput=true\n"
     ]
    },
    {
     "name": "stderr",
     "output_type": "stream",
     "text": [
      "pyNeuroML >>> DEBUG - Sim dict is: {'name': 'test', 'simulator': 'cbmpy', 'simulatorVersion': '0.7.25', 'cpus': 1, 'memory': 8, 'maxTime': 20, 'envVars': [], 'purpose': 'academic', 'email': ''}\n",
      "pyNeuroML >>> DEBUG - simulation_run_request is {\"name\":\"test\",\"simulator\":\"cbmpy\",\"simulatorVersion\":\"0.7.25\",\"maxTime\":20,\"cpus\":1,\"memory\":8,\"purpose\":\"academic\",\"email\":\"\",\"envVars\":[]}\n",
      "pyNeuroML >>> DEBUG - data is:\n",
      "{'file': ('LEMS_NML2_Ex9_FN_missing_xmlns.omex', <_io.BufferedReader name='LEMS_NML2_Ex9_FN_missing_xmlns.omex'>), 'simulationRun': (None, '{\"name\":\"test\",\"simulator\":\"cbmpy\",\"simulatorVersion\":\"0.7.25\",\"maxTime\":20,\"cpus\":1,\"memory\":8,\"purpose\":\"academic\",\"email\":\"\",\"envVars\":[]}')}\n",
      "pyNeuroML >>> INFO - multipart encoded data is <MultipartEncoder: {'file': ('LEMS_NML2_Ex9_FN_missing_xmlns.omex', <_io.BufferedReader name='LEMS_NML2_Ex9_FN_missing_xmlns.omex'>), 'simulationRun': (None, '{\"name\":\"test\",\"simulator\":\"cbmpy\",\"simulatorVersion\":\"0.7.25\",\"maxTime\":20,\"cpus\":1,\"memory\":8,\"purpose\":\"academic\",\"email\":\"\",\"envVars\":[]}')}>\n",
      "pyNeuroML >>> INFO - with content type: multipart/form-data; boundary=fe00670b96934c8c8194595a424f7329\n",
      "pyNeuroML >>> INFO - Submitting archive to biosimulations\n"
     ]
    },
    {
     "name": "stdout",
     "output_type": "stream",
     "text": [
      "Submitted LEMS_NML2_Ex9_FN_missing_xmlns.omex successfully with id: 66bb1ebcf29e09b32cb6f52c\n",
      "View: https://api.biosimulations.org/runs/66bb1ebcf29e09b32cb6f52c\n",
      "Downloads: https://api.biosimulations.org/results/66bb1ebcf29e09b32cb6f52c/download\n",
      "Logs: https://api.biosimulations.org/logs/66bb1ebcf29e09b32cb6f52c?includeOutput=true\n"
     ]
    },
    {
     "name": "stderr",
     "output_type": "stream",
     "text": [
      "pyNeuroML >>> DEBUG - Sim dict is: {'name': 'test', 'simulator': 'cobrapy', 'simulatorVersion': '0.24.0', 'cpus': 1, 'memory': 8, 'maxTime': 20, 'envVars': [], 'purpose': 'academic', 'email': ''}\n",
      "pyNeuroML >>> DEBUG - simulation_run_request is {\"name\":\"test\",\"simulator\":\"cobrapy\",\"simulatorVersion\":\"0.24.0\",\"maxTime\":20,\"cpus\":1,\"memory\":8,\"purpose\":\"academic\",\"email\":\"\",\"envVars\":[]}\n",
      "pyNeuroML >>> DEBUG - data is:\n",
      "{'file': ('LEMS_NML2_Ex9_FN_missing_xmlns.omex', <_io.BufferedReader name='LEMS_NML2_Ex9_FN_missing_xmlns.omex'>), 'simulationRun': (None, '{\"name\":\"test\",\"simulator\":\"cobrapy\",\"simulatorVersion\":\"0.24.0\",\"maxTime\":20,\"cpus\":1,\"memory\":8,\"purpose\":\"academic\",\"email\":\"\",\"envVars\":[]}')}\n",
      "pyNeuroML >>> INFO - multipart encoded data is <MultipartEncoder: {'file': ('LEMS_NML2_Ex9_FN_missing_xmlns.omex', <_io.BufferedReader name='LEMS_NML2_Ex9_FN_missing_xmlns.omex'>), 'simulationRun': (None, '{\"name\":\"test\",\"simulator\":\"cobrapy\",\"simulatorVersion\":\"0.24.0\",\"maxTime\":20,\"cpus\":1,\"memory\":8,\"purpose\":\"academic\",\"email\":\"\",\"envVars\":[]}')}>\n",
      "pyNeuroML >>> INFO - with content type: multipart/form-data; boundary=970ebf139ad34bb99d29a34cecf95601\n",
      "pyNeuroML >>> INFO - Submitting archive to biosimulations\n"
     ]
    },
    {
     "name": "stdout",
     "output_type": "stream",
     "text": [
      "Submitted LEMS_NML2_Ex9_FN_missing_xmlns.omex successfully with id: 66bb1ebea641708179ad0e9e\n",
      "View: https://api.biosimulations.org/runs/66bb1ebea641708179ad0e9e\n",
      "Downloads: https://api.biosimulations.org/results/66bb1ebea641708179ad0e9e/download\n",
      "Logs: https://api.biosimulations.org/logs/66bb1ebea641708179ad0e9e?includeOutput=true\n"
     ]
    },
    {
     "name": "stderr",
     "output_type": "stream",
     "text": [
      "pyNeuroML >>> DEBUG - Sim dict is: {'name': 'test', 'simulator': 'copasi', 'simulatorVersion': '4.42.284', 'cpus': 1, 'memory': 8, 'maxTime': 20, 'envVars': [], 'purpose': 'academic', 'email': ''}\n",
      "pyNeuroML >>> DEBUG - simulation_run_request is {\"name\":\"test\",\"simulator\":\"copasi\",\"simulatorVersion\":\"4.42.284\",\"maxTime\":20,\"cpus\":1,\"memory\":8,\"purpose\":\"academic\",\"email\":\"\",\"envVars\":[]}\n",
      "pyNeuroML >>> DEBUG - data is:\n",
      "{'file': ('LEMS_NML2_Ex9_FN_missing_xmlns.omex', <_io.BufferedReader name='LEMS_NML2_Ex9_FN_missing_xmlns.omex'>), 'simulationRun': (None, '{\"name\":\"test\",\"simulator\":\"copasi\",\"simulatorVersion\":\"4.42.284\",\"maxTime\":20,\"cpus\":1,\"memory\":8,\"purpose\":\"academic\",\"email\":\"\",\"envVars\":[]}')}\n",
      "pyNeuroML >>> INFO - multipart encoded data is <MultipartEncoder: {'file': ('LEMS_NML2_Ex9_FN_missing_xmlns.omex', <_io.BufferedReader name='LEMS_NML2_Ex9_FN_missing_xmlns.omex'>), 'simulationRun': (None, '{\"name\":\"test\",\"simulator\":\"copasi\",\"simulatorVersion\":\"4.42.284\",\"maxTime\":20,\"cpus\":1,\"memory\":8,\"purpose\":\"academic\",\"email\":\"\",\"envVars\":[]}')}>\n",
      "pyNeuroML >>> INFO - with content type: multipart/form-data; boundary=5ce0e4f76267429299ec6ae1716c6c8c\n",
      "pyNeuroML >>> INFO - Submitting archive to biosimulations\n"
     ]
    },
    {
     "name": "stdout",
     "output_type": "stream",
     "text": [
      "Submitted LEMS_NML2_Ex9_FN_missing_xmlns.omex successfully with id: 66bb1ec0a641708179ad0ea3\n",
      "View: https://api.biosimulations.org/runs/66bb1ec0a641708179ad0ea3\n",
      "Downloads: https://api.biosimulations.org/results/66bb1ec0a641708179ad0ea3/download\n",
      "Logs: https://api.biosimulations.org/logs/66bb1ec0a641708179ad0ea3?includeOutput=true\n"
     ]
    },
    {
     "name": "stderr",
     "output_type": "stream",
     "text": [
      "pyNeuroML >>> DEBUG - Sim dict is: {'name': 'test', 'simulator': 'gillespy2', 'simulatorVersion': '1.6.6', 'cpus': 1, 'memory': 8, 'maxTime': 20, 'envVars': [], 'purpose': 'academic', 'email': ''}\n",
      "pyNeuroML >>> DEBUG - simulation_run_request is {\"name\":\"test\",\"simulator\":\"gillespy2\",\"simulatorVersion\":\"1.6.6\",\"maxTime\":20,\"cpus\":1,\"memory\":8,\"purpose\":\"academic\",\"email\":\"\",\"envVars\":[]}\n",
      "pyNeuroML >>> DEBUG - data is:\n",
      "{'file': ('LEMS_NML2_Ex9_FN_missing_xmlns.omex', <_io.BufferedReader name='LEMS_NML2_Ex9_FN_missing_xmlns.omex'>), 'simulationRun': (None, '{\"name\":\"test\",\"simulator\":\"gillespy2\",\"simulatorVersion\":\"1.6.6\",\"maxTime\":20,\"cpus\":1,\"memory\":8,\"purpose\":\"academic\",\"email\":\"\",\"envVars\":[]}')}\n",
      "pyNeuroML >>> INFO - multipart encoded data is <MultipartEncoder: {'file': ('LEMS_NML2_Ex9_FN_missing_xmlns.omex', <_io.BufferedReader name='LEMS_NML2_Ex9_FN_missing_xmlns.omex'>), 'simulationRun': (None, '{\"name\":\"test\",\"simulator\":\"gillespy2\",\"simulatorVersion\":\"1.6.6\",\"maxTime\":20,\"cpus\":1,\"memory\":8,\"purpose\":\"academic\",\"email\":\"\",\"envVars\":[]}')}>\n",
      "pyNeuroML >>> INFO - with content type: multipart/form-data; boundary=8b90c1b4b7b1499a8dae09a03adf23c7\n",
      "pyNeuroML >>> INFO - Submitting archive to biosimulations\n"
     ]
    },
    {
     "name": "stdout",
     "output_type": "stream",
     "text": [
      "Submitted LEMS_NML2_Ex9_FN_missing_xmlns.omex successfully with id: 66bb1ec20c4ccdd491921506\n",
      "View: https://api.biosimulations.org/runs/66bb1ec20c4ccdd491921506\n",
      "Downloads: https://api.biosimulations.org/results/66bb1ec20c4ccdd491921506/download\n",
      "Logs: https://api.biosimulations.org/logs/66bb1ec20c4ccdd491921506?includeOutput=true\n"
     ]
    },
    {
     "name": "stderr",
     "output_type": "stream",
     "text": [
      "pyNeuroML >>> DEBUG - Sim dict is: {'name': 'test', 'simulator': 'ginsim', 'simulatorVersion': '3.0.0b', 'cpus': 1, 'memory': 8, 'maxTime': 20, 'envVars': [], 'purpose': 'academic', 'email': ''}\n",
      "pyNeuroML >>> DEBUG - simulation_run_request is {\"name\":\"test\",\"simulator\":\"ginsim\",\"simulatorVersion\":\"3.0.0b\",\"maxTime\":20,\"cpus\":1,\"memory\":8,\"purpose\":\"academic\",\"email\":\"\",\"envVars\":[]}\n",
      "pyNeuroML >>> DEBUG - data is:\n",
      "{'file': ('LEMS_NML2_Ex9_FN_missing_xmlns.omex', <_io.BufferedReader name='LEMS_NML2_Ex9_FN_missing_xmlns.omex'>), 'simulationRun': (None, '{\"name\":\"test\",\"simulator\":\"ginsim\",\"simulatorVersion\":\"3.0.0b\",\"maxTime\":20,\"cpus\":1,\"memory\":8,\"purpose\":\"academic\",\"email\":\"\",\"envVars\":[]}')}\n",
      "pyNeuroML >>> INFO - multipart encoded data is <MultipartEncoder: {'file': ('LEMS_NML2_Ex9_FN_missing_xmlns.omex', <_io.BufferedReader name='LEMS_NML2_Ex9_FN_missing_xmlns.omex'>), 'simulationRun': (None, '{\"name\":\"test\",\"simulator\":\"ginsim\",\"simulatorVersion\":\"3.0.0b\",\"maxTime\":20,\"cpus\":1,\"memory\":8,\"purpose\":\"academic\",\"email\":\"\",\"envVars\":[]}')}>\n",
      "pyNeuroML >>> INFO - with content type: multipart/form-data; boundary=774ff499104a46bd9870b755062b136a\n",
      "pyNeuroML >>> INFO - Submitting archive to biosimulations\n"
     ]
    },
    {
     "name": "stdout",
     "output_type": "stream",
     "text": [
      "Submitted LEMS_NML2_Ex9_FN_missing_xmlns.omex successfully with id: 66bb1ec4f29e09b32cb6f536\n",
      "View: https://api.biosimulations.org/runs/66bb1ec4f29e09b32cb6f536\n",
      "Downloads: https://api.biosimulations.org/results/66bb1ec4f29e09b32cb6f536/download\n",
      "Logs: https://api.biosimulations.org/logs/66bb1ec4f29e09b32cb6f536?includeOutput=true\n"
     ]
    },
    {
     "name": "stderr",
     "output_type": "stream",
     "text": [
      "pyNeuroML >>> DEBUG - Sim dict is: {'name': 'test', 'simulator': 'libsbmlsim', 'simulatorVersion': '1.4.0', 'cpus': 1, 'memory': 8, 'maxTime': 20, 'envVars': [], 'purpose': 'academic', 'email': ''}\n",
      "pyNeuroML >>> DEBUG - simulation_run_request is {\"name\":\"test\",\"simulator\":\"libsbmlsim\",\"simulatorVersion\":\"1.4.0\",\"maxTime\":20,\"cpus\":1,\"memory\":8,\"purpose\":\"academic\",\"email\":\"\",\"envVars\":[]}\n",
      "pyNeuroML >>> DEBUG - data is:\n",
      "{'file': ('LEMS_NML2_Ex9_FN_missing_xmlns.omex', <_io.BufferedReader name='LEMS_NML2_Ex9_FN_missing_xmlns.omex'>), 'simulationRun': (None, '{\"name\":\"test\",\"simulator\":\"libsbmlsim\",\"simulatorVersion\":\"1.4.0\",\"maxTime\":20,\"cpus\":1,\"memory\":8,\"purpose\":\"academic\",\"email\":\"\",\"envVars\":[]}')}\n",
      "pyNeuroML >>> INFO - multipart encoded data is <MultipartEncoder: {'file': ('LEMS_NML2_Ex9_FN_missing_xmlns.omex', <_io.BufferedReader name='LEMS_NML2_Ex9_FN_missing_xmlns.omex'>), 'simulationRun': (None, '{\"name\":\"test\",\"simulator\":\"libsbmlsim\",\"simulatorVersion\":\"1.4.0\",\"maxTime\":20,\"cpus\":1,\"memory\":8,\"purpose\":\"academic\",\"email\":\"\",\"envVars\":[]}')}>\n",
      "pyNeuroML >>> INFO - with content type: multipart/form-data; boundary=ec0e7ae509274148adf3c88bd16b6e38\n",
      "pyNeuroML >>> INFO - Submitting archive to biosimulations\n"
     ]
    },
    {
     "name": "stdout",
     "output_type": "stream",
     "text": [
      "Submitted LEMS_NML2_Ex9_FN_missing_xmlns.omex successfully with id: 66bb1ec6a641708179ad0eaa\n",
      "View: https://api.biosimulations.org/runs/66bb1ec6a641708179ad0eaa\n",
      "Downloads: https://api.biosimulations.org/results/66bb1ec6a641708179ad0eaa/download\n",
      "Logs: https://api.biosimulations.org/logs/66bb1ec6a641708179ad0eaa?includeOutput=true\n"
     ]
    },
    {
     "name": "stderr",
     "output_type": "stream",
     "text": [
      "pyNeuroML >>> DEBUG - Sim dict is: {'name': 'test', 'simulator': 'masspy', 'simulatorVersion': '0.1.6', 'cpus': 1, 'memory': 8, 'maxTime': 20, 'envVars': [], 'purpose': 'academic', 'email': ''}\n",
      "pyNeuroML >>> DEBUG - simulation_run_request is {\"name\":\"test\",\"simulator\":\"masspy\",\"simulatorVersion\":\"0.1.6\",\"maxTime\":20,\"cpus\":1,\"memory\":8,\"purpose\":\"academic\",\"email\":\"\",\"envVars\":[]}\n",
      "pyNeuroML >>> DEBUG - data is:\n",
      "{'file': ('LEMS_NML2_Ex9_FN_missing_xmlns.omex', <_io.BufferedReader name='LEMS_NML2_Ex9_FN_missing_xmlns.omex'>), 'simulationRun': (None, '{\"name\":\"test\",\"simulator\":\"masspy\",\"simulatorVersion\":\"0.1.6\",\"maxTime\":20,\"cpus\":1,\"memory\":8,\"purpose\":\"academic\",\"email\":\"\",\"envVars\":[]}')}\n",
      "pyNeuroML >>> INFO - multipart encoded data is <MultipartEncoder: {'file': ('LEMS_NML2_Ex9_FN_missing_xmlns.omex', <_io.BufferedReader name='LEMS_NML2_Ex9_FN_missing_xmlns.omex'>), 'simulationRun': (None, '{\"name\":\"test\",\"simulator\":\"masspy\",\"simulatorVersion\":\"0.1.6\",\"maxTime\":20,\"cpus\":1,\"memory\":8,\"purpose\":\"academic\",\"email\":\"\",\"envVars\":[]}')}>\n",
      "pyNeuroML >>> INFO - with content type: multipart/form-data; boundary=2a7a32dd648f410ca5774405d10d7029\n",
      "pyNeuroML >>> INFO - Submitting archive to biosimulations\n"
     ]
    },
    {
     "name": "stdout",
     "output_type": "stream",
     "text": [
      "Submitted LEMS_NML2_Ex9_FN_missing_xmlns.omex successfully with id: 66bb1ec80c4ccdd491921511\n",
      "View: https://api.biosimulations.org/runs/66bb1ec80c4ccdd491921511\n",
      "Downloads: https://api.biosimulations.org/results/66bb1ec80c4ccdd491921511/download\n",
      "Logs: https://api.biosimulations.org/logs/66bb1ec80c4ccdd491921511?includeOutput=true\n"
     ]
    },
    {
     "name": "stderr",
     "output_type": "stream",
     "text": [
      "pyNeuroML >>> DEBUG - Sim dict is: {'name': 'test', 'simulator': 'netpyne', 'simulatorVersion': '1.0.0.2', 'cpus': 1, 'memory': 8, 'maxTime': 20, 'envVars': [], 'purpose': 'academic', 'email': ''}\n",
      "pyNeuroML >>> DEBUG - simulation_run_request is {\"name\":\"test\",\"simulator\":\"netpyne\",\"simulatorVersion\":\"1.0.0.2\",\"maxTime\":20,\"cpus\":1,\"memory\":8,\"purpose\":\"academic\",\"email\":\"\",\"envVars\":[]}\n",
      "pyNeuroML >>> DEBUG - data is:\n",
      "{'file': ('LEMS_NML2_Ex9_FN_missing_xmlns.omex', <_io.BufferedReader name='LEMS_NML2_Ex9_FN_missing_xmlns.omex'>), 'simulationRun': (None, '{\"name\":\"test\",\"simulator\":\"netpyne\",\"simulatorVersion\":\"1.0.0.2\",\"maxTime\":20,\"cpus\":1,\"memory\":8,\"purpose\":\"academic\",\"email\":\"\",\"envVars\":[]}')}\n",
      "pyNeuroML >>> INFO - multipart encoded data is <MultipartEncoder: {'file': ('LEMS_NML2_Ex9_FN_missing_xmlns.omex', <_io.BufferedReader name='LEMS_NML2_Ex9_FN_missing_xmlns.omex'>), 'simulationRun': (None, '{\"name\":\"test\",\"simulator\":\"netpyne\",\"simulatorVersion\":\"1.0.0.2\",\"maxTime\":20,\"cpus\":1,\"memory\":8,\"purpose\":\"academic\",\"email\":\"\",\"envVars\":[]}')}>\n",
      "pyNeuroML >>> INFO - with content type: multipart/form-data; boundary=8e2c7805085f4d25b40f0a7d4206a530\n",
      "pyNeuroML >>> INFO - Submitting archive to biosimulations\n"
     ]
    },
    {
     "name": "stdout",
     "output_type": "stream",
     "text": [
      "Submitted LEMS_NML2_Ex9_FN_missing_xmlns.omex successfully with id: 66bb1eca0c4ccdd491921514\n",
      "View: https://api.biosimulations.org/runs/66bb1eca0c4ccdd491921514\n",
      "Downloads: https://api.biosimulations.org/results/66bb1eca0c4ccdd491921514/download\n",
      "Logs: https://api.biosimulations.org/logs/66bb1eca0c4ccdd491921514?includeOutput=true\n"
     ]
    },
    {
     "name": "stderr",
     "output_type": "stream",
     "text": [
      "pyNeuroML >>> DEBUG - Sim dict is: {'name': 'test', 'simulator': 'neuron', 'simulatorVersion': '8.0.2', 'cpus': 1, 'memory': 8, 'maxTime': 20, 'envVars': [], 'purpose': 'academic', 'email': ''}\n",
      "pyNeuroML >>> DEBUG - simulation_run_request is {\"name\":\"test\",\"simulator\":\"neuron\",\"simulatorVersion\":\"8.0.2\",\"maxTime\":20,\"cpus\":1,\"memory\":8,\"purpose\":\"academic\",\"email\":\"\",\"envVars\":[]}\n",
      "pyNeuroML >>> DEBUG - data is:\n",
      "{'file': ('LEMS_NML2_Ex9_FN_missing_xmlns.omex', <_io.BufferedReader name='LEMS_NML2_Ex9_FN_missing_xmlns.omex'>), 'simulationRun': (None, '{\"name\":\"test\",\"simulator\":\"neuron\",\"simulatorVersion\":\"8.0.2\",\"maxTime\":20,\"cpus\":1,\"memory\":8,\"purpose\":\"academic\",\"email\":\"\",\"envVars\":[]}')}\n",
      "pyNeuroML >>> INFO - multipart encoded data is <MultipartEncoder: {'file': ('LEMS_NML2_Ex9_FN_missing_xmlns.omex', <_io.BufferedReader name='LEMS_NML2_Ex9_FN_missing_xmlns.omex'>), 'simulationRun': (None, '{\"name\":\"test\",\"simulator\":\"neuron\",\"simulatorVersion\":\"8.0.2\",\"maxTime\":20,\"cpus\":1,\"memory\":8,\"purpose\":\"academic\",\"email\":\"\",\"envVars\":[]}')}>\n",
      "pyNeuroML >>> INFO - with content type: multipart/form-data; boundary=1cf8970faf3643ea8d17adc021047a43\n",
      "pyNeuroML >>> INFO - Submitting archive to biosimulations\n"
     ]
    },
    {
     "name": "stdout",
     "output_type": "stream",
     "text": [
      "Submitted LEMS_NML2_Ex9_FN_missing_xmlns.omex successfully with id: 66bb1ecba641708179ad0eba\n",
      "View: https://api.biosimulations.org/runs/66bb1ecba641708179ad0eba\n",
      "Downloads: https://api.biosimulations.org/results/66bb1ecba641708179ad0eba/download\n",
      "Logs: https://api.biosimulations.org/logs/66bb1ecba641708179ad0eba?includeOutput=true\n"
     ]
    },
    {
     "name": "stderr",
     "output_type": "stream",
     "text": [
      "pyNeuroML >>> DEBUG - Sim dict is: {'name': 'test', 'simulator': 'opencor', 'simulatorVersion': '2021-10-05', 'cpus': 1, 'memory': 8, 'maxTime': 20, 'envVars': [], 'purpose': 'academic', 'email': ''}\n",
      "pyNeuroML >>> DEBUG - simulation_run_request is {\"name\":\"test\",\"simulator\":\"opencor\",\"simulatorVersion\":\"2021-10-05\",\"maxTime\":20,\"cpus\":1,\"memory\":8,\"purpose\":\"academic\",\"email\":\"\",\"envVars\":[]}\n",
      "pyNeuroML >>> DEBUG - data is:\n",
      "{'file': ('LEMS_NML2_Ex9_FN_missing_xmlns.omex', <_io.BufferedReader name='LEMS_NML2_Ex9_FN_missing_xmlns.omex'>), 'simulationRun': (None, '{\"name\":\"test\",\"simulator\":\"opencor\",\"simulatorVersion\":\"2021-10-05\",\"maxTime\":20,\"cpus\":1,\"memory\":8,\"purpose\":\"academic\",\"email\":\"\",\"envVars\":[]}')}\n",
      "pyNeuroML >>> INFO - multipart encoded data is <MultipartEncoder: {'file': ('LEMS_NML2_Ex9_FN_missing_xmlns.omex', <_io.BufferedReader name='LEMS_NML2_Ex9_FN_missing_xmlns.omex'>), 'simulationRun': (None, '{\"name\":\"test\",\"simulator\":\"opencor\",\"simulatorVersion\":\"2021-10-05\",\"maxTime\":20,\"cpus\":1,\"memory\":8,\"purpose\":\"academic\",\"email\":\"\",\"envVars\":[]}')}>\n",
      "pyNeuroML >>> INFO - with content type: multipart/form-data; boundary=63f9f78ddeae4a02b00b525a31eeafd7\n",
      "pyNeuroML >>> INFO - Submitting archive to biosimulations\n"
     ]
    },
    {
     "name": "stdout",
     "output_type": "stream",
     "text": [
      "Submitted LEMS_NML2_Ex9_FN_missing_xmlns.omex successfully with id: 66bb1ecd0c4ccdd49192153c\n",
      "View: https://api.biosimulations.org/runs/66bb1ecd0c4ccdd49192153c\n",
      "Downloads: https://api.biosimulations.org/results/66bb1ecd0c4ccdd49192153c/download\n",
      "Logs: https://api.biosimulations.org/logs/66bb1ecd0c4ccdd49192153c?includeOutput=true\n"
     ]
    },
    {
     "name": "stderr",
     "output_type": "stream",
     "text": [
      "pyNeuroML >>> DEBUG - Sim dict is: {'name': 'test', 'simulator': 'pyneuroml', 'simulatorVersion': '0.5.20', 'cpus': 1, 'memory': 8, 'maxTime': 20, 'envVars': [], 'purpose': 'academic', 'email': ''}\n",
      "pyNeuroML >>> DEBUG - simulation_run_request is {\"name\":\"test\",\"simulator\":\"pyneuroml\",\"simulatorVersion\":\"0.5.20\",\"maxTime\":20,\"cpus\":1,\"memory\":8,\"purpose\":\"academic\",\"email\":\"\",\"envVars\":[]}\n",
      "pyNeuroML >>> DEBUG - data is:\n",
      "{'file': ('LEMS_NML2_Ex9_FN_missing_xmlns.omex', <_io.BufferedReader name='LEMS_NML2_Ex9_FN_missing_xmlns.omex'>), 'simulationRun': (None, '{\"name\":\"test\",\"simulator\":\"pyneuroml\",\"simulatorVersion\":\"0.5.20\",\"maxTime\":20,\"cpus\":1,\"memory\":8,\"purpose\":\"academic\",\"email\":\"\",\"envVars\":[]}')}\n",
      "pyNeuroML >>> INFO - multipart encoded data is <MultipartEncoder: {'file': ('LEMS_NML2_Ex9_FN_missing_xmlns.omex', <_io.BufferedReader name='LEMS_NML2_Ex9_FN_missing_xmlns.omex'>), 'simulationRun': (None, '{\"name\":\"test\",\"simulator\":\"pyneuroml\",\"simulatorVersion\":\"0.5.20\",\"maxTime\":20,\"cpus\":1,\"memory\":8,\"purpose\":\"academic\",\"email\":\"\",\"envVars\":[]}')}>\n",
      "pyNeuroML >>> INFO - with content type: multipart/form-data; boundary=999bbaa17e9a4781acc6deb3ac4f0fe8\n",
      "pyNeuroML >>> INFO - Submitting archive to biosimulations\n"
     ]
    },
    {
     "name": "stdout",
     "output_type": "stream",
     "text": [
      "Submitted LEMS_NML2_Ex9_FN_missing_xmlns.omex successfully with id: 66bb1ecea641708179ad0ec4\n",
      "View: https://api.biosimulations.org/runs/66bb1ecea641708179ad0ec4\n",
      "Downloads: https://api.biosimulations.org/results/66bb1ecea641708179ad0ec4/download\n",
      "Logs: https://api.biosimulations.org/logs/66bb1ecea641708179ad0ec4?includeOutput=true\n"
     ]
    },
    {
     "name": "stderr",
     "output_type": "stream",
     "text": [
      "pyNeuroML >>> DEBUG - Sim dict is: {'name': 'test', 'simulator': 'pysces', 'simulatorVersion': '1.2.1', 'cpus': 1, 'memory': 8, 'maxTime': 20, 'envVars': [], 'purpose': 'academic', 'email': ''}\n",
      "pyNeuroML >>> DEBUG - simulation_run_request is {\"name\":\"test\",\"simulator\":\"pysces\",\"simulatorVersion\":\"1.2.1\",\"maxTime\":20,\"cpus\":1,\"memory\":8,\"purpose\":\"academic\",\"email\":\"\",\"envVars\":[]}\n",
      "pyNeuroML >>> DEBUG - data is:\n",
      "{'file': ('LEMS_NML2_Ex9_FN_missing_xmlns.omex', <_io.BufferedReader name='LEMS_NML2_Ex9_FN_missing_xmlns.omex'>), 'simulationRun': (None, '{\"name\":\"test\",\"simulator\":\"pysces\",\"simulatorVersion\":\"1.2.1\",\"maxTime\":20,\"cpus\":1,\"memory\":8,\"purpose\":\"academic\",\"email\":\"\",\"envVars\":[]}')}\n",
      "pyNeuroML >>> INFO - multipart encoded data is <MultipartEncoder: {'file': ('LEMS_NML2_Ex9_FN_missing_xmlns.omex', <_io.BufferedReader name='LEMS_NML2_Ex9_FN_missing_xmlns.omex'>), 'simulationRun': (None, '{\"name\":\"test\",\"simulator\":\"pysces\",\"simulatorVersion\":\"1.2.1\",\"maxTime\":20,\"cpus\":1,\"memory\":8,\"purpose\":\"academic\",\"email\":\"\",\"envVars\":[]}')}>\n",
      "pyNeuroML >>> INFO - with content type: multipart/form-data; boundary=bedad17524724f85b49fd5d7507208ab\n",
      "pyNeuroML >>> INFO - Submitting archive to biosimulations\n"
     ]
    },
    {
     "name": "stdout",
     "output_type": "stream",
     "text": [
      "Submitted LEMS_NML2_Ex9_FN_missing_xmlns.omex successfully with id: 66bb1ed0f29e09b32cb6f55f\n",
      "View: https://api.biosimulations.org/runs/66bb1ed0f29e09b32cb6f55f\n",
      "Downloads: https://api.biosimulations.org/results/66bb1ed0f29e09b32cb6f55f/download\n",
      "Logs: https://api.biosimulations.org/logs/66bb1ed0f29e09b32cb6f55f?includeOutput=true\n"
     ]
    },
    {
     "name": "stderr",
     "output_type": "stream",
     "text": [
      "pyNeuroML >>> DEBUG - Sim dict is: {'name': 'test', 'simulator': 'rbapy', 'simulatorVersion': '1.0.2', 'cpus': 1, 'memory': 8, 'maxTime': 20, 'envVars': [], 'purpose': 'academic', 'email': ''}\n",
      "pyNeuroML >>> DEBUG - simulation_run_request is {\"name\":\"test\",\"simulator\":\"rbapy\",\"simulatorVersion\":\"1.0.2\",\"maxTime\":20,\"cpus\":1,\"memory\":8,\"purpose\":\"academic\",\"email\":\"\",\"envVars\":[]}\n",
      "pyNeuroML >>> DEBUG - data is:\n",
      "{'file': ('LEMS_NML2_Ex9_FN_missing_xmlns.omex', <_io.BufferedReader name='LEMS_NML2_Ex9_FN_missing_xmlns.omex'>), 'simulationRun': (None, '{\"name\":\"test\",\"simulator\":\"rbapy\",\"simulatorVersion\":\"1.0.2\",\"maxTime\":20,\"cpus\":1,\"memory\":8,\"purpose\":\"academic\",\"email\":\"\",\"envVars\":[]}')}\n",
      "pyNeuroML >>> INFO - multipart encoded data is <MultipartEncoder: {'file': ('LEMS_NML2_Ex9_FN_missing_xmlns.omex', <_io.BufferedReader name='LEMS_NML2_Ex9_FN_missing_xmlns.omex'>), 'simulationRun': (None, '{\"name\":\"test\",\"simulator\":\"rbapy\",\"simulatorVersion\":\"1.0.2\",\"maxTime\":20,\"cpus\":1,\"memory\":8,\"purpose\":\"academic\",\"email\":\"\",\"envVars\":[]}')}>\n",
      "pyNeuroML >>> INFO - with content type: multipart/form-data; boundary=07eacaf016564cd991943f763e90ff30\n",
      "pyNeuroML >>> INFO - Submitting archive to biosimulations\n"
     ]
    },
    {
     "name": "stdout",
     "output_type": "stream",
     "text": [
      "Submitted LEMS_NML2_Ex9_FN_missing_xmlns.omex successfully with id: 66bb1ed2f29e09b32cb6f569\n",
      "View: https://api.biosimulations.org/runs/66bb1ed2f29e09b32cb6f569\n",
      "Downloads: https://api.biosimulations.org/results/66bb1ed2f29e09b32cb6f569/download\n",
      "Logs: https://api.biosimulations.org/logs/66bb1ed2f29e09b32cb6f569?includeOutput=true\n"
     ]
    },
    {
     "name": "stderr",
     "output_type": "stream",
     "text": [
      "pyNeuroML >>> DEBUG - Sim dict is: {'name': 'test', 'simulator': 'smoldyn', 'simulatorVersion': '2.72', 'cpus': 1, 'memory': 8, 'maxTime': 20, 'envVars': [], 'purpose': 'academic', 'email': ''}\n",
      "pyNeuroML >>> DEBUG - simulation_run_request is {\"name\":\"test\",\"simulator\":\"smoldyn\",\"simulatorVersion\":\"2.72\",\"maxTime\":20,\"cpus\":1,\"memory\":8,\"purpose\":\"academic\",\"email\":\"\",\"envVars\":[]}\n",
      "pyNeuroML >>> DEBUG - data is:\n",
      "{'file': ('LEMS_NML2_Ex9_FN_missing_xmlns.omex', <_io.BufferedReader name='LEMS_NML2_Ex9_FN_missing_xmlns.omex'>), 'simulationRun': (None, '{\"name\":\"test\",\"simulator\":\"smoldyn\",\"simulatorVersion\":\"2.72\",\"maxTime\":20,\"cpus\":1,\"memory\":8,\"purpose\":\"academic\",\"email\":\"\",\"envVars\":[]}')}\n",
      "pyNeuroML >>> INFO - multipart encoded data is <MultipartEncoder: {'file': ('LEMS_NML2_Ex9_FN_missing_xmlns.omex', <_io.BufferedReader name='LEMS_NML2_Ex9_FN_missing_xmlns.omex'>), 'simulationRun': (None, '{\"name\":\"test\",\"simulator\":\"smoldyn\",\"simulatorVersion\":\"2.72\",\"maxTime\":20,\"cpus\":1,\"memory\":8,\"purpose\":\"academic\",\"email\":\"\",\"envVars\":[]}')}>\n",
      "pyNeuroML >>> INFO - with content type: multipart/form-data; boundary=28a10abf17534f26bf5e0e92a677bd49\n",
      "pyNeuroML >>> INFO - Submitting archive to biosimulations\n"
     ]
    },
    {
     "name": "stdout",
     "output_type": "stream",
     "text": [
      "Submitted LEMS_NML2_Ex9_FN_missing_xmlns.omex successfully with id: 66bb1ed4f29e09b32cb6f585\n",
      "View: https://api.biosimulations.org/runs/66bb1ed4f29e09b32cb6f585\n",
      "Downloads: https://api.biosimulations.org/results/66bb1ed4f29e09b32cb6f585/download\n",
      "Logs: https://api.biosimulations.org/logs/66bb1ed4f29e09b32cb6f585?includeOutput=true\n"
     ]
    },
    {
     "name": "stderr",
     "output_type": "stream",
     "text": [
      "pyNeuroML >>> DEBUG - Sim dict is: {'name': 'test', 'simulator': 'tellurium', 'simulatorVersion': '2.2.8', 'cpus': 1, 'memory': 8, 'maxTime': 20, 'envVars': [], 'purpose': 'academic', 'email': ''}\n",
      "pyNeuroML >>> DEBUG - simulation_run_request is {\"name\":\"test\",\"simulator\":\"tellurium\",\"simulatorVersion\":\"2.2.8\",\"maxTime\":20,\"cpus\":1,\"memory\":8,\"purpose\":\"academic\",\"email\":\"\",\"envVars\":[]}\n",
      "pyNeuroML >>> DEBUG - data is:\n",
      "{'file': ('LEMS_NML2_Ex9_FN_missing_xmlns.omex', <_io.BufferedReader name='LEMS_NML2_Ex9_FN_missing_xmlns.omex'>), 'simulationRun': (None, '{\"name\":\"test\",\"simulator\":\"tellurium\",\"simulatorVersion\":\"2.2.8\",\"maxTime\":20,\"cpus\":1,\"memory\":8,\"purpose\":\"academic\",\"email\":\"\",\"envVars\":[]}')}\n",
      "pyNeuroML >>> INFO - multipart encoded data is <MultipartEncoder: {'file': ('LEMS_NML2_Ex9_FN_missing_xmlns.omex', <_io.BufferedReader name='LEMS_NML2_Ex9_FN_missing_xmlns.omex'>), 'simulationRun': (None, '{\"name\":\"test\",\"simulator\":\"tellurium\",\"simulatorVersion\":\"2.2.8\",\"maxTime\":20,\"cpus\":1,\"memory\":8,\"purpose\":\"academic\",\"email\":\"\",\"envVars\":[]}')}>\n",
      "pyNeuroML >>> INFO - with content type: multipart/form-data; boundary=555fe9cb8c14494ba1a20573b70f8866\n",
      "pyNeuroML >>> INFO - Submitting archive to biosimulations\n"
     ]
    },
    {
     "name": "stdout",
     "output_type": "stream",
     "text": [
      "Submitted LEMS_NML2_Ex9_FN_missing_xmlns.omex successfully with id: 66bb1ed6a641708179ad0ee9\n",
      "View: https://api.biosimulations.org/runs/66bb1ed6a641708179ad0ee9\n",
      "Downloads: https://api.biosimulations.org/results/66bb1ed6a641708179ad0ee9/download\n",
      "Logs: https://api.biosimulations.org/logs/66bb1ed6a641708179ad0ee9?includeOutput=true\n"
     ]
    },
    {
     "name": "stderr",
     "output_type": "stream",
     "text": [
      "pyNeuroML >>> DEBUG - Sim dict is: {'name': 'test', 'simulator': 'vcell', 'simulatorVersion': '7.5.0.99', 'cpus': 1, 'memory': 8, 'maxTime': 20, 'envVars': [], 'purpose': 'academic', 'email': ''}\n",
      "pyNeuroML >>> DEBUG - simulation_run_request is {\"name\":\"test\",\"simulator\":\"vcell\",\"simulatorVersion\":\"7.5.0.99\",\"maxTime\":20,\"cpus\":1,\"memory\":8,\"purpose\":\"academic\",\"email\":\"\",\"envVars\":[]}\n",
      "pyNeuroML >>> DEBUG - data is:\n",
      "{'file': ('LEMS_NML2_Ex9_FN_missing_xmlns.omex', <_io.BufferedReader name='LEMS_NML2_Ex9_FN_missing_xmlns.omex'>), 'simulationRun': (None, '{\"name\":\"test\",\"simulator\":\"vcell\",\"simulatorVersion\":\"7.5.0.99\",\"maxTime\":20,\"cpus\":1,\"memory\":8,\"purpose\":\"academic\",\"email\":\"\",\"envVars\":[]}')}\n",
      "pyNeuroML >>> INFO - multipart encoded data is <MultipartEncoder: {'file': ('LEMS_NML2_Ex9_FN_missing_xmlns.omex', <_io.BufferedReader name='LEMS_NML2_Ex9_FN_missing_xmlns.omex'>), 'simulationRun': (None, '{\"name\":\"test\",\"simulator\":\"vcell\",\"simulatorVersion\":\"7.5.0.99\",\"maxTime\":20,\"cpus\":1,\"memory\":8,\"purpose\":\"academic\",\"email\":\"\",\"envVars\":[]}')}>\n",
      "pyNeuroML >>> INFO - with content type: multipart/form-data; boundary=f58ee5d4ad6a441a9c8a6bf68eb55b70\n",
      "pyNeuroML >>> INFO - Submitting archive to biosimulations\n"
     ]
    },
    {
     "name": "stdout",
     "output_type": "stream",
     "text": [
      "Submitted LEMS_NML2_Ex9_FN_missing_xmlns.omex successfully with id: 66bb1eda0c4ccdd491921592\n",
      "View: https://api.biosimulations.org/runs/66bb1eda0c4ccdd491921592\n",
      "Downloads: https://api.biosimulations.org/results/66bb1eda0c4ccdd491921592/download\n",
      "Logs: https://api.biosimulations.org/logs/66bb1eda0c4ccdd491921592?includeOutput=true\n"
     ]
    },
    {
     "name": "stderr",
     "output_type": "stream",
     "text": [
      "pyNeuroML >>> DEBUG - Sim dict is: {'name': 'test', 'simulator': 'xpp', 'simulatorVersion': '8.0', 'cpus': 1, 'memory': 8, 'maxTime': 20, 'envVars': [], 'purpose': 'academic', 'email': ''}\n",
      "pyNeuroML >>> DEBUG - simulation_run_request is {\"name\":\"test\",\"simulator\":\"xpp\",\"simulatorVersion\":\"8.0\",\"maxTime\":20,\"cpus\":1,\"memory\":8,\"purpose\":\"academic\",\"email\":\"\",\"envVars\":[]}\n",
      "pyNeuroML >>> DEBUG - data is:\n",
      "{'file': ('LEMS_NML2_Ex9_FN_missing_xmlns.omex', <_io.BufferedReader name='LEMS_NML2_Ex9_FN_missing_xmlns.omex'>), 'simulationRun': (None, '{\"name\":\"test\",\"simulator\":\"xpp\",\"simulatorVersion\":\"8.0\",\"maxTime\":20,\"cpus\":1,\"memory\":8,\"purpose\":\"academic\",\"email\":\"\",\"envVars\":[]}')}\n",
      "pyNeuroML >>> INFO - multipart encoded data is <MultipartEncoder: {'file': ('LEMS_NML2_Ex9_FN_missing_xmlns.omex', <_io.BufferedReader name='LEMS_NML2_Ex9_FN_missing_xmlns.omex'>), 'simulationRun': (None, '{\"name\":\"test\",\"simulator\":\"xpp\",\"simulatorVersion\":\"8.0\",\"maxTime\":20,\"cpus\":1,\"memory\":8,\"purpose\":\"academic\",\"email\":\"\",\"envVars\":[]}')}>\n",
      "pyNeuroML >>> INFO - with content type: multipart/form-data; boundary=aeeb96cd32ae426fa80173e3317ffc45\n",
      "pyNeuroML >>> INFO - Submitting archive to biosimulations\n"
     ]
    },
    {
     "name": "stdout",
     "output_type": "stream",
     "text": [
      "Submitted LEMS_NML2_Ex9_FN_missing_xmlns.omex successfully with id: 66bb1edca641708179ad0f0d\n",
      "View: https://api.biosimulations.org/runs/66bb1edca641708179ad0f0d\n",
      "Downloads: https://api.biosimulations.org/results/66bb1edca641708179ad0f0d/download\n",
      "Logs: https://api.biosimulations.org/logs/66bb1edca641708179ad0f0d?includeOutput=true\n",
      "Downloading amici results...\n",
      "Downloading brian2 results...\n",
      "Downloading bionetgen results...\n",
      "Downloading boolnet results...\n",
      "Downloading cbmpy results...\n",
      "Downloading cobrapy results...\n",
      "Downloading copasi results...\n",
      "Downloading gillespy2 results...\n",
      "Downloading ginsim results...\n",
      "Downloading libsbmlsim results...\n",
      "Downloading masspy results...\n",
      "Downloading netpyne results...\n",
      "Downloading neuron results...\n",
      "Downloading opencor results...\n",
      "Downloading pyneuroml results...\n",
      "Downloading pysces results...\n",
      "Downloading rbapy results...\n",
      "Downloading smoldyn results...\n",
      "Downloading tellurium results...\n",
      "Downloading vcell results...\n",
      "Downloading xpp results...\n",
      "Moving remote_results\\amici\\outputs\\tmp262364\\d1.pdf to d1_plots_remote\\amici_d1.pdf\n",
      "Moving remote_results\\bionetgen\\outputs\\tmp98719\\d1.pdf to d1_plots_remote\\bionetgen_d1.pdf\n",
      "Moving remote_results\\boolnet\\outputs\\tmp813849\\d1.pdf to d1_plots_remote\\boolnet_d1.pdf\n",
      "Moving remote_results\\cbmpy\\outputs\\tmp979743\\d1.pdf to d1_plots_remote\\cbmpy_d1.pdf\n",
      "Moving remote_results\\cobrapy\\outputs\\tmp981863\\d1.pdf to d1_plots_remote\\cobrapy_d1.pdf\n",
      "Moving remote_results\\copasi\\outputs\\tmp423266\\d1.pdf to d1_plots_remote\\copasi_d1.pdf\n",
      "Moving remote_results\\gillespy2\\outputs\\tmp146730\\d1.pdf to d1_plots_remote\\gillespy2_d1.pdf\n",
      "Moving remote_results\\ginsim\\outputs\\tmp968356\\d1.pdf to d1_plots_remote\\ginsim_d1.pdf\n",
      "Moving remote_results\\libsbmlsim\\outputs\\tmp247930\\d1.pdf to d1_plots_remote\\libsbmlsim_d1.pdf\n",
      "Moving remote_results\\masspy\\outputs\\tmp905203\\d1.pdf to d1_plots_remote\\masspy_d1.pdf\n",
      "Moving remote_results\\pysces\\outputs\\tmp260212\\d1.pdf to d1_plots_remote\\pysces_d1.pdf\n",
      "Moving remote_results\\rbapy\\outputs\\tmp516019\\d1.pdf to d1_plots_remote\\rbapy_d1.pdf\n",
      "Moving remote_results\\tellurium\\outputs\\tmp540535\\d1.pdf to d1_plots_remote\\tellurium_d1.pdf\n",
      "Removed remote_results folder\n",
      "Running amici\n",
      "Running brian2\n",
      "Running bionetgen\n",
      "Running boolnet\n",
      "Running cbmpy\n",
      "Running cobrapy\n",
      "Running copasi\n",
      "Running gillespy2\n",
      "Running ginsim\n",
      "Running libsbmlsim\n",
      "Running masspy\n",
      "Running netpyne\n",
      "Running neuron\n",
      "Running opencor\n",
      "Running pyneuroml\n",
      "Running pysces\n",
      "Running rbapy\n",
      "Running smoldyn\n",
      "Running tellurium\n",
      "Running vcell\n",
      "Running xpp\n",
      "Removed output folder\n"
     ]
    }
   ],
   "source": [
    "\n",
    "\n",
    "#########################################################################################\n",
    "# Run remotely\n",
    "#########################################################################################\n",
    "\n",
    "remote_output_dir = 'remote_results'\n",
    "\n",
    "download_links_dict = dict()\n",
    "for e in engines.keys():\n",
    "    download_link = utils.run_biosimulators_remote(e, sedml_filepath, sbml_filepath)\n",
    "    download_links_dict[e] = download_link\n",
    "\n",
    "extract_dir_dict = dict()\n",
    "for e, link in download_links_dict.items():\n",
    "    extract_dir = utils.get_remote_results(e, link, remote_output_dir)\n",
    "    extract_dir_dict[e] = extract_dir\n",
    "\n",
    "results_remote = dict()\n",
    "for e, extract_dir in extract_dir_dict.items():\n",
    "    status = \"\"\n",
    "    error_message = \"\"\n",
    "    exception_type = \"\"\n",
    "\n",
    "    log_yml_path = utils.find_file_in_dir('log.yml', extract_dir)[0]\n",
    "    if not log_yml_path:\n",
    "        status = None\n",
    "        error_message = 'log.yml not found'\n",
    "        continue\n",
    "    with open(log_yml_path) as f:\n",
    "        log_yml_dict = yaml.safe_load(f)\n",
    "        if log_yml_dict['status'] == 'SUCCEEDED':\n",
    "            status = 'pass'\n",
    "        elif log_yml_dict['status'] == 'FAILED':\n",
    "            status = 'FAIL'\n",
    "            exception = log_yml_dict['exception']\n",
    "            error_message = exception['message']\n",
    "            exception_type = exception['type'] \n",
    "        else:\n",
    "            status = None\n",
    "        results_remote[e] = [status, error_message, exception_type] \n",
    "\n",
    "file_paths = utils.find_files(remote_output_dir, '.pdf')\n",
    "utils.move_d1_files(file_paths, d1_plots_remote_dir)\n",
    "\n",
    "# remove the remote results directory\n",
    "if os.path.exists(remote_output_dir):\n",
    "    shutil.rmtree(remote_output_dir)\n",
    "    print('Removed ' + remote_output_dir + ' folder')\n",
    "\n",
    "#########################################################################################\n",
    "# Run locally\n",
    "#########################################################################################\n",
    "\n",
    "results_local = {}\n",
    "\n",
    "output_folder = 'output'\n",
    "\n",
    "for e in engines.keys():\n",
    "    print('Running ' + e)\n",
    "    output_dir = os.path.abspath(os.path.join(output_folder, e))\n",
    "    record = utils.run_biosimulators_docker(e, sedml_filepath, sbml_filepath, output_dir=output_dir)\n",
    "    results_local[e] = record\n",
    "\n",
    "file_paths = utils.find_files(output_folder, '.pdf')\n",
    "utils.move_d1_files(file_paths, d1_plots_local_dir)\n",
    "\n",
    "# if it exists remove the output folder\n",
    "if os.path.exists(output_folder):\n",
    "    shutil.rmtree(output_folder)\n",
    "    print('Removed ' + output_folder + ' folder')"
   ]
  },
  {
   "cell_type": "code",
   "execution_count": 3,
   "metadata": {},
   "outputs": [
    {
     "data": {
      "text/markdown": [
       "|    | Engine                                                                                                          | pass / FAIL (remote)                                                                                                                                                       | pass / FAIL (local)                                                                                                                                                        | Compat (remote)                                                                                                                                                                                                                                                                                                                        | Compat (local)                                                                                                                                                                                                                                                                                                                         | Type (remote)                                                          | Error (remote)                                                                                                                                                                                                                                                                                                                                                                                                                                                     | Error (local)                                                                                                                                               | d1 (remote)                                          | d1 (local)                                          |\n",
       "|---:|:----------------------------------------------------------------------------------------------------------------|:---------------------------------------------------------------------------------------------------------------------------------------------------------------------------|:---------------------------------------------------------------------------------------------------------------------------------------------------------------------------|:---------------------------------------------------------------------------------------------------------------------------------------------------------------------------------------------------------------------------------------------------------------------------------------------------------------------------------------|:---------------------------------------------------------------------------------------------------------------------------------------------------------------------------------------------------------------------------------------------------------------------------------------------------------------------------------------|:-----------------------------------------------------------------------|:-------------------------------------------------------------------------------------------------------------------------------------------------------------------------------------------------------------------------------------------------------------------------------------------------------------------------------------------------------------------------------------------------------------------------------------------------------------------|:------------------------------------------------------------------------------------------------------------------------------------------------------------|:-----------------------------------------------------|:----------------------------------------------------|\n",
       "|  0 | <a href=\"https://docs.biosimulators.org/Biosimulators_AMICI/\">amici</a>                                         | <img src=https://via.placeholder.com/15/00dd00/00dd00.png/> pass                                                                                                           | <span style=\"color:darkred;\">                                                                      <img src=https://via.placeholder.com/15/dd0000/dd0000.png/> FAIL</span> | <img src=https://via.placeholder.com/15/00dd00/00dd00.png/><details><summary>pass</summary>The file extensions suggest the input file types are '['SBML', 'SED-ML']'. These are compatible with amici</details>                                                                                                                        | <img src=https://via.placeholder.com/15/00dd00/00dd00.png/><details><summary>pass</summary>The file extensions suggest the input file types are '['SBML', 'SED-ML']'. These are compatible with amici</details>                                                                                                                        |                                                                        |                                                                                                                                                                                                                                                                                                                                                                                                                                                                    | <details><summary>Details</summary>```Error while fetching server API version: (2, 'CreateFile', 'The system cannot find the file specified.')```</details> | <a href=\"d1_plots_remote\\amici_d1.pdf\">plot</a>      | <a href=\"d1_plots_local\\amici_d1.pdf\">plot</a>      |\n",
       "|  1 | <a href=\"https://docs.biosimulators.org/Biosimulators_BioNetGen/\">bionetgen</a>                                 | <span style=\"color:darkred;\">                                                                      <img src=https://via.placeholder.com/15/dd0000/dd0000.png/> FAIL</span> | <span style=\"color:darkred;\">                                                                      <img src=https://via.placeholder.com/15/dd0000/dd0000.png/> FAIL</span> | <span style=\"color:darkred;\"><img src=https://via.placeholder.com/15/dd0000/dd0000.png/> <details><summary>FAIL</summary>The file extensions suggest the input file types are '['SBML', 'SED-ML']'. Tese are not compatible with bionetgen. The following file types will be compatible ['BNGL', 'SED-ML']</details></span>            | <span style=\"color:darkred;\"><img src=https://via.placeholder.com/15/dd0000/dd0000.png/> <details><summary>FAIL</summary>The file extensions suggest the input file types are '['SBML', 'SED-ML']'. Tese are not compatible with bionetgen. The following file types will be compatible ['BNGL', 'SED-ML']</details></span>            | <details><summary>CAEE</summary>CombineArchiveExecutionError</details> | <details><summary>Details</summary><span style=\"color:red;\">The COMBINE/OMEX did not execute successfully:<br><br>  The SED document did not execute successfully:<br>  <br>    Language for model `net1` is not supported.<br>      - Model language `urn:sedml:language:sbml` is not supported. Models must be in BNGL format (e.g., `sed:model/@language` must match `^urn:sedml:language:bngl(\\.$)` such as `urn:sedml:language:bngl`).</details>              | <details><summary>Details</summary>```Error while fetching server API version: (2, 'CreateFile', 'The system cannot find the file specified.')```</details> | <a href=\"d1_plots_remote\\bionetgen_d1.pdf\">plot</a>  | <a href=\"d1_plots_local\\bionetgen_d1.pdf\">plot</a>  |\n",
       "|  2 | <a href=\"https://docs.biosimulators.org/Biosimulators_BoolNet/\">boolnet</a>                                     | <span style=\"color:darkred;\">                                                                      <img src=https://via.placeholder.com/15/dd0000/dd0000.png/> FAIL</span> | <span style=\"color:darkred;\">                                                                      <img src=https://via.placeholder.com/15/dd0000/dd0000.png/> FAIL</span> | <span style=\"color:darkred;\"><img src=https://via.placeholder.com/15/dd0000/dd0000.png/> <details><summary>FAIL</summary>The file extensions suggest the input file types are '['SBML', 'SED-ML']'. Tese are not compatible with boolnet. The following file types will be compatible ['SBML-qual', 'SED-ML']</details></span>         | <span style=\"color:darkred;\"><img src=https://via.placeholder.com/15/dd0000/dd0000.png/> <details><summary>FAIL</summary>The file extensions suggest the input file types are '['SBML', 'SED-ML']'. Tese are not compatible with boolnet. The following file types will be compatible ['SBML-qual', 'SED-ML']</details></span>         | <details><summary>CAEE</summary>CombineArchiveExecutionError</details> | <details><summary>Details</summary><span style=\"color:red;\">The COMBINE/OMEX did not execute successfully:<br><br>  The SED document did not execute successfully:<br>  <br>    Simulation `sim1` is invalid.<br>      - Number of points (20000) must be equal to the difference between the output end (200.0) and start times (0.0).</details>                                                                                                                  | <details><summary>Details</summary>```Error while fetching server API version: (2, 'CreateFile', 'The system cannot find the file specified.')```</details> | <a href=\"d1_plots_remote\\boolnet_d1.pdf\">plot</a>    | <a href=\"d1_plots_local\\boolnet_d1.pdf\">plot</a>    |\n",
       "|  3 | <a href=\"https://docs.biosimulators.org/Biosimulators_CBMPy/\">cbmpy</a>                                         | <span style=\"color:darkred;\">                                                                      <img src=https://via.placeholder.com/15/dd0000/dd0000.png/> FAIL</span> | <span style=\"color:darkred;\">                                                                      <img src=https://via.placeholder.com/15/dd0000/dd0000.png/> FAIL</span> | <img src=https://via.placeholder.com/15/00dd00/00dd00.png/><details><summary>pass</summary>The file extensions suggest the input file types are '['SBML', 'SED-ML']'. These are compatible with cbmpy</details>                                                                                                                        | <img src=https://via.placeholder.com/15/00dd00/00dd00.png/><details><summary>pass</summary>The file extensions suggest the input file types are '['SBML', 'SED-ML']'. These are compatible with cbmpy</details>                                                                                                                        | <details><summary>CAEE</summary>CombineArchiveExecutionError</details> | <details><summary>Details</summary><span style=\"color:red;\">The COMBINE/OMEX did not execute successfully:<br><br>  The SED document did not execute successfully:<br>  <br>    UniformTimeCourseSimulation `sim1` is not supported.<br>      - Simulation sim1 of type `UniformTimeCourseSimulation` is not supported. Simulation must be an instance of one of the following:<br>          - SteadyStateSimulation</details>                                     | <details><summary>Details</summary>```Error while fetching server API version: (2, 'CreateFile', 'The system cannot find the file specified.')```</details> | <a href=\"d1_plots_remote\\cbmpy_d1.pdf\">plot</a>      | <a href=\"d1_plots_local\\cbmpy_d1.pdf\">plot</a>      |\n",
       "|  4 | <a href=\"https://docs.biosimulators.org/Biosimulators_COBRApy/\">cobrapy</a>                                     | <span style=\"color:darkred;\">                                                                      <img src=https://via.placeholder.com/15/dd0000/dd0000.png/> FAIL</span> | <span style=\"color:darkred;\">                                                                      <img src=https://via.placeholder.com/15/dd0000/dd0000.png/> FAIL</span> | <img src=https://via.placeholder.com/15/00dd00/00dd00.png/><details><summary>pass</summary>The file extensions suggest the input file types are '['SBML', 'SED-ML']'. These are compatible with cobrapy</details>                                                                                                                      | <img src=https://via.placeholder.com/15/00dd00/00dd00.png/><details><summary>pass</summary>The file extensions suggest the input file types are '['SBML', 'SED-ML']'. These are compatible with cobrapy</details>                                                                                                                      | <details><summary>CAEE</summary>CombineArchiveExecutionError</details> | <details><summary>Details</summary><span style=\"color:red;\">The COMBINE/OMEX did not execute successfully:<br><br>  The SED document did not execute successfully:<br>  <br>    UniformTimeCourseSimulation `sim1` is not supported.<br>      - Simulation sim1 of type `UniformTimeCourseSimulation` is not supported. Simulation must be an instance of one of the following:<br>          - SteadyStateSimulation</details>                                     | <details><summary>Details</summary>```Error while fetching server API version: (2, 'CreateFile', 'The system cannot find the file specified.')```</details> | <a href=\"d1_plots_remote\\cobrapy_d1.pdf\">plot</a>    | <a href=\"d1_plots_local\\cobrapy_d1.pdf\">plot</a>    |\n",
       "|  5 | <a href=\"https://docs.biosimulators.org/Biosimulators_COPASI/\">copasi</a>                                       | <span style=\"color:darkred;\">                                                                      <img src=https://via.placeholder.com/15/dd0000/dd0000.png/> FAIL</span> | <span style=\"color:darkred;\">                                                                      <img src=https://via.placeholder.com/15/dd0000/dd0000.png/> FAIL</span> | <img src=https://via.placeholder.com/15/00dd00/00dd00.png/><details><summary>pass</summary>The file extensions suggest the input file types are '['SBML', 'SED-ML']'. These are compatible with copasi</details>                                                                                                                       | <img src=https://via.placeholder.com/15/00dd00/00dd00.png/><details><summary>pass</summary>The file extensions suggest the input file types are '['SBML', 'SED-ML']'. These are compatible with copasi</details>                                                                                                                       | <details><summary>CAEE</summary>CombineArchiveExecutionError</details> | <details><summary>Details</summary><span style=\"color:red;\">The COMBINE/OMEX did not execute successfully:<br><br>  The SED document did not execute successfully:<br>  <br>    could not convert string to float: 'Values[V]'</details>                                                                                                                                                                                                                           | <details><summary>Details</summary>```Error while fetching server API version: (2, 'CreateFile', 'The system cannot find the file specified.')```</details> | <a href=\"d1_plots_remote\\copasi_d1.pdf\">plot</a>     | <a href=\"d1_plots_local\\copasi_d1.pdf\">plot</a>     |\n",
       "|  6 | <a href=\"https://docs.biosimulators.org/Biosimulators_GINsim/\">ginsim</a>                                       | <span style=\"color:darkred;\">                                                                      <img src=https://via.placeholder.com/15/dd0000/dd0000.png/> FAIL</span> | <span style=\"color:darkred;\">                                                                      <img src=https://via.placeholder.com/15/dd0000/dd0000.png/> FAIL</span> | <span style=\"color:darkred;\"><img src=https://via.placeholder.com/15/dd0000/dd0000.png/> <details><summary>FAIL</summary>The file extensions suggest the input file types are '['SBML', 'SED-ML']'. Tese are not compatible with ginsim. The following file types will be compatible ['SBML-qual', 'SED-ML']</details></span>          | <span style=\"color:darkred;\"><img src=https://via.placeholder.com/15/dd0000/dd0000.png/> <details><summary>FAIL</summary>The file extensions suggest the input file types are '['SBML', 'SED-ML']'. Tese are not compatible with ginsim. The following file types will be compatible ['SBML-qual', 'SED-ML']</details></span>          | <details><summary>CAEE</summary>CombineArchiveExecutionError</details> | <details><summary>Details</summary><span style=\"color:red;\">The COMBINE/OMEX did not execute successfully:<br><br>  The SED document did not execute successfully:<br>  <br>    Simulation `sim1` is invalid.<br>      - The interval between the output start and time time must be an integer multiple of the number of steps, not `0.01`:<br>          Output start time: 0.0<br>          Output end time: 200.0<br>          Number of steps: 20000</details> | <details><summary>Details</summary>```Error while fetching server API version: (2, 'CreateFile', 'The system cannot find the file specified.')```</details> | <a href=\"d1_plots_remote\\ginsim_d1.pdf\">plot</a>     | <a href=\"d1_plots_local\\ginsim_d1.pdf\">plot</a>     |\n",
       "|  7 | <a href=\"https://docs.biosimulators.org/Biosimulators_GillesPy2/\">gillespy2</a>                                 | <img src=https://via.placeholder.com/15/00dd00/00dd00.png/> pass                                                                                                           | <span style=\"color:darkred;\">                                                                      <img src=https://via.placeholder.com/15/dd0000/dd0000.png/> FAIL</span> | <img src=https://via.placeholder.com/15/00dd00/00dd00.png/><details><summary>pass</summary>The file extensions suggest the input file types are '['SBML', 'SED-ML']'. These are compatible with gillespy2</details>                                                                                                                    | <img src=https://via.placeholder.com/15/00dd00/00dd00.png/><details><summary>pass</summary>The file extensions suggest the input file types are '['SBML', 'SED-ML']'. These are compatible with gillespy2</details>                                                                                                                    |                                                                        |                                                                                                                                                                                                                                                                                                                                                                                                                                                                    | <details><summary>Details</summary>```Error while fetching server API version: (2, 'CreateFile', 'The system cannot find the file specified.')```</details> | <a href=\"d1_plots_remote\\gillespy2_d1.pdf\">plot</a>  | <a href=\"d1_plots_local\\gillespy2_d1.pdf\">plot</a>  |\n",
       "|  8 | <a href=\"https://docs.biosimulators.org/Biosimulators_LibSBMLSim/\">libsbmlsim</a>                               | <img src=https://via.placeholder.com/15/00dd00/00dd00.png/> pass                                                                                                           | <span style=\"color:darkred;\">                                                                      <img src=https://via.placeholder.com/15/dd0000/dd0000.png/> FAIL</span> | <img src=https://via.placeholder.com/15/00dd00/00dd00.png/><details><summary>pass</summary>The file extensions suggest the input file types are '['SBML', 'SED-ML']'. These are compatible with libsbmlsim</details>                                                                                                                   | <img src=https://via.placeholder.com/15/00dd00/00dd00.png/><details><summary>pass</summary>The file extensions suggest the input file types are '['SBML', 'SED-ML']'. These are compatible with libsbmlsim</details>                                                                                                                   |                                                                        |                                                                                                                                                                                                                                                                                                                                                                                                                                                                    | <details><summary>Details</summary>```Error while fetching server API version: (2, 'CreateFile', 'The system cannot find the file specified.')```</details> | <a href=\"d1_plots_remote\\libsbmlsim_d1.pdf\">plot</a> | <a href=\"d1_plots_local\\libsbmlsim_d1.pdf\">plot</a> |\n",
       "|  9 | <a href=\"https://docs.biosimulators.org/Biosimulators_MASSpy/\">masspy</a>                                       | <span style=\"color:darkred;\">                                                                      <img src=https://via.placeholder.com/15/dd0000/dd0000.png/> FAIL</span> | <span style=\"color:darkred;\">                                                                      <img src=https://via.placeholder.com/15/dd0000/dd0000.png/> FAIL</span> | <img src=https://via.placeholder.com/15/00dd00/00dd00.png/><details><summary>pass</summary>The file extensions suggest the input file types are '['SBML', 'SED-ML']'. These are compatible with masspy</details>                                                                                                                       | <img src=https://via.placeholder.com/15/00dd00/00dd00.png/><details><summary>pass</summary>The file extensions suggest the input file types are '['SBML', 'SED-ML']'. These are compatible with masspy</details>                                                                                                                       | <details><summary>CAEE</summary>CombineArchiveExecutionError</details> | <details><summary>Details</summary><span style=\"color:red;\">The COMBINE/OMEX did not execute successfully:<br><br>  The SED document did not execute successfully:<br>  <br>    Something went wrong reading the SBML model. Most likely the SBML model is not valid. Please check that your model is valid using the `mass.io.sbml.validate_sbml_model` function or via the online validator at http://sbml.org/validator .<br>    \t`(model, errors) = validate_sbml_model(filename)`<br>    If the model is valid and cannot be read please open an issue at https://github.com/SBRG/masspy/issues .</details>                                                                                                                                                                                                                                                                                                                                                                                                                                                                    | <details><summary>Details</summary>```Error while fetching server API version: (2, 'CreateFile', 'The system cannot find the file specified.')```</details> | <a href=\"d1_plots_remote\\masspy_d1.pdf\">plot</a>     | <a href=\"d1_plots_local\\masspy_d1.pdf\">plot</a>     |\n",
       "| 10 | <a href=\"https://docs.biosimulators.org/Biosimulators_OpenCOR/\">opencor</a>                                     | <span style=\"color:darkred;\">                                                                      <img src=https://via.placeholder.com/15/dd0000/dd0000.png/> FAIL</span> | <span style=\"color:darkred;\">                                                                      <img src=https://via.placeholder.com/15/dd0000/dd0000.png/> FAIL</span> | <span style=\"color:darkred;\"><img src=https://via.placeholder.com/15/dd0000/dd0000.png/> <details><summary>FAIL</summary>The file extensions suggest the input file types are '['SBML', 'SED-ML']'. Tese are not compatible with opencor. The following file types will be compatible ['CellML', 'SED-ML']</details></span>            | <span style=\"color:darkred;\"><img src=https://via.placeholder.com/15/dd0000/dd0000.png/> <details><summary>FAIL</summary>The file extensions suggest the input file types are '['SBML', 'SED-ML']'. Tese are not compatible with opencor. The following file types will be compatible ['CellML', 'SED-ML']</details></span>            | <details><summary>MNFE</summary>ModuleNotFoundError</details>          | <details><summary>Details</summary>No module named 'libsbml'</details>                                                                                                                                                                                                                                                                                                                                                                                             | <details><summary>Details</summary>```Error while fetching server API version: (2, 'CreateFile', 'The system cannot find the file specified.')```</details> |                                                      |                                                     |\n",
       "| 11 | <a href=\"https://docs.biosimulators.org/Biosimulators_PySCeS/\">pysces</a>                                       | <span style=\"color:darkred;\">                                                                      <img src=https://via.placeholder.com/15/dd0000/dd0000.png/> FAIL</span> | <span style=\"color:darkred;\">                                                                      <img src=https://via.placeholder.com/15/dd0000/dd0000.png/> FAIL</span> | <img src=https://via.placeholder.com/15/00dd00/00dd00.png/><details><summary>pass</summary>The file extensions suggest the input file types are '['SBML', 'SED-ML']'. These are compatible with pysces</details>                                                                                                                       | <img src=https://via.placeholder.com/15/00dd00/00dd00.png/><details><summary>pass</summary>The file extensions suggest the input file types are '['SBML', 'SED-ML']'. These are compatible with pysces</details>                                                                                                                       | <details><summary>CAEE</summary>CombineArchiveExecutionError</details> | <details><summary>Details</summary><span style=\"color:red;\">The COMBINE/OMEX did not execute successfully:<br><br>  The SED document did not execute successfully:<br>  <br>    Model at /tmp/tmpi0f2z0io/./LEMS_NML2_Ex9_FN.sbml could not be imported:<br>      <br>      File /tmp/tmpi0f2z0io/./LEMS_NML2_Ex9_FN.sbml.xml does not exist</details>                                                                                                             | <details><summary>Details</summary>```Error while fetching server API version: (2, 'CreateFile', 'The system cannot find the file specified.')```</details> | <a href=\"d1_plots_remote\\pysces_d1.pdf\">plot</a>     | <a href=\"d1_plots_local\\pysces_d1.pdf\">plot</a>     |\n",
       "| 12 | <a href=\"https://docs.biosimulators.org/Biosimulators_RBApy/\">rbapy</a>                                         | <span style=\"color:darkred;\">                                                                      <img src=https://via.placeholder.com/15/dd0000/dd0000.png/> FAIL</span> | <span style=\"color:darkred;\">                                                                      <img src=https://via.placeholder.com/15/dd0000/dd0000.png/> FAIL</span> | <span style=\"color:darkred;\"><img src=https://via.placeholder.com/15/dd0000/dd0000.png/> <details><summary>FAIL</summary>The file extensions suggest the input file types are '['SBML', 'SED-ML']'. Tese are not compatible with rbapy. The following file types will be compatible ['RBApy', 'SED-ML']</details></span>               | <span style=\"color:darkred;\"><img src=https://via.placeholder.com/15/dd0000/dd0000.png/> <details><summary>FAIL</summary>The file extensions suggest the input file types are '['SBML', 'SED-ML']'. Tese are not compatible with rbapy. The following file types will be compatible ['RBApy', 'SED-ML']</details></span>               | <details><summary>CAEE</summary>CombineArchiveExecutionError</details> | <details><summary>Details</summary><span style=\"color:red;\">The COMBINE/OMEX did not execute successfully:<br><br>  The SED document did not execute successfully:<br>  <br>    Language for model `net1` is not supported.<br>      - Model language `urn:sedml:language:sbml` is not supported. Models must be in RBA format (e.g., `sed:model/@language` must match `^urn:sedml:language:rba(\\.$)` such as `urn:sedml:language:rba`).</details>                 | <details><summary>Details</summary>```Error while fetching server API version: (2, 'CreateFile', 'The system cannot find the file specified.')```</details> | <a href=\"d1_plots_remote\\rbapy_d1.pdf\">plot</a>      | <a href=\"d1_plots_local\\rbapy_d1.pdf\">plot</a>      |\n",
       "| 13 | <a href=\"https://docs.biosimulators.org/Biosimulators_XPP/\">xpp</a>                                             | <span style=\"color:darkred;\">                                                                      <img src=https://via.placeholder.com/15/dd0000/dd0000.png/> FAIL</span> | <span style=\"color:darkred;\">                                                                      <img src=https://via.placeholder.com/15/dd0000/dd0000.png/> FAIL</span> | <span style=\"color:darkred;\"><img src=https://via.placeholder.com/15/dd0000/dd0000.png/> <details><summary>FAIL</summary>The file extensions suggest the input file types are '['SBML', 'SED-ML']'. Tese are not compatible with xpp. The following file types will be compatible ['XPP', 'SED-ML']</details></span>                   | <span style=\"color:darkred;\"><img src=https://via.placeholder.com/15/dd0000/dd0000.png/> <details><summary>FAIL</summary>The file extensions suggest the input file types are '['SBML', 'SED-ML']'. Tese are not compatible with xpp. The following file types will be compatible ['XPP', 'SED-ML']</details></span>                   | <details><summary>MNFE</summary>ModuleNotFoundError</details>          | <details><summary>Details</summary>No module named 'libsbml'</details>                                                                                                                                                                                                                                                                                                                                                                                             | <details><summary>Details</summary>```Error while fetching server API version: (2, 'CreateFile', 'The system cannot find the file specified.')```</details> |                                                      |                                                     |\n",
       "| 14 | <a href=\"https://docs.biosimulators.org/Biosimulators_pyNeuroML/\">brian2</a>                                    | <span style=\"color:darkred;\">                                                                      <img src=https://via.placeholder.com/15/dd0000/dd0000.png/> FAIL</span> | <span style=\"color:darkred;\">                                                                      <img src=https://via.placeholder.com/15/dd0000/dd0000.png/> FAIL</span> | <img src=https://via.placeholder.com/15/00dd00/00dd00.png/><details><summary>pass</summary>The file extensions suggest the input file types are '['SBML', 'SED-ML']'. These are compatible with brian2</details>                                                                                                                       | <img src=https://via.placeholder.com/15/00dd00/00dd00.png/><details><summary>pass</summary>The file extensions suggest the input file types are '['SBML', 'SED-ML']'. These are compatible with brian2</details>                                                                                                                       | <details><summary>MNFE</summary>ModuleNotFoundError</details>          | <details><summary>Details</summary>No module named 'libsbml'</details>                                                                                                                                                                                                                                                                                                                                                                                             | <details><summary>Details</summary>```Error while fetching server API version: (2, 'CreateFile', 'The system cannot find the file specified.')```</details> |                                                      |                                                     |\n",
       "| 15 | <a href=\"https://docs.biosimulators.org/Biosimulators_pyNeuroML/\">netpyne</a>                                   | <span style=\"color:darkred;\">                                                                      <img src=https://via.placeholder.com/15/dd0000/dd0000.png/> FAIL</span> | <span style=\"color:darkred;\">                                                                      <img src=https://via.placeholder.com/15/dd0000/dd0000.png/> FAIL</span> | <img src=https://via.placeholder.com/15/00dd00/00dd00.png/><details><summary>pass</summary>The file extensions suggest the input file types are '['SBML', 'SED-ML']'. These are compatible with netpyne</details>                                                                                                                      | <img src=https://via.placeholder.com/15/00dd00/00dd00.png/><details><summary>pass</summary>The file extensions suggest the input file types are '['SBML', 'SED-ML']'. These are compatible with netpyne</details>                                                                                                                      | <details><summary>MNFE</summary>ModuleNotFoundError</details>          | <details><summary>Details</summary>No module named 'libsbml'</details>                                                                                                                                                                                                                                                                                                                                                                                             | <details><summary>Details</summary>```Error while fetching server API version: (2, 'CreateFile', 'The system cannot find the file specified.')```</details> |                                                      |                                                     |\n",
       "| 16 | <a href=\"https://docs.biosimulators.org/Biosimulators_pyNeuroML/\">neuron</a>                                    | <span style=\"color:darkred;\">                                                                      <img src=https://via.placeholder.com/15/dd0000/dd0000.png/> FAIL</span> | <span style=\"color:darkred;\">                                                                      <img src=https://via.placeholder.com/15/dd0000/dd0000.png/> FAIL</span> | <span style=\"color:darkred;\"><img src=https://via.placeholder.com/15/dd0000/dd0000.png/> <details><summary>FAIL</summary>The file extensions suggest the input file types are '['SBML', 'SED-ML']'. Tese are not compatible with neuron. The following file types will be compatible ['LEMS', 'SED-ML', 'NeuroML']</details></span>    | <span style=\"color:darkred;\"><img src=https://via.placeholder.com/15/dd0000/dd0000.png/> <details><summary>FAIL</summary>The file extensions suggest the input file types are '['SBML', 'SED-ML']'. Tese are not compatible with neuron. The following file types will be compatible ['LEMS', 'SED-ML', 'NeuroML']</details></span>    | <details><summary>MNFE</summary>ModuleNotFoundError</details>          | <details><summary>Details</summary>No module named 'libsbml'</details>                                                                                                                                                                                                                                                                                                                                                                                             | <details><summary>Details</summary>```Error while fetching server API version: (2, 'CreateFile', 'The system cannot find the file specified.')```</details> |                                                      |                                                     |\n",
       "| 17 | <a href=\"https://docs.biosimulators.org/Biosimulators_pyNeuroML/\">pyneuroml</a>                                 | <span style=\"color:darkred;\">                                                                      <img src=https://via.placeholder.com/15/dd0000/dd0000.png/> FAIL</span> | <span style=\"color:darkred;\">                                                                      <img src=https://via.placeholder.com/15/dd0000/dd0000.png/> FAIL</span> | <span style=\"color:darkred;\"><img src=https://via.placeholder.com/15/dd0000/dd0000.png/> <details><summary>FAIL</summary>The file extensions suggest the input file types are '['SBML', 'SED-ML']'. Tese are not compatible with pyneuroml. The following file types will be compatible ['LEMS', 'SED-ML', 'NeuroML']</details></span> | <span style=\"color:darkred;\"><img src=https://via.placeholder.com/15/dd0000/dd0000.png/> <details><summary>FAIL</summary>The file extensions suggest the input file types are '['SBML', 'SED-ML']'. Tese are not compatible with pyneuroml. The following file types will be compatible ['LEMS', 'SED-ML', 'NeuroML']</details></span> | <details><summary>MNFE</summary>ModuleNotFoundError</details>          | <details><summary>Details</summary>No module named 'libsbml'</details>                                                                                                                                                                                                                                                                                                                                                                                             | <details><summary>Details</summary>```Error while fetching server API version: (2, 'CreateFile', 'The system cannot find the file specified.')```</details> |                                                      |                                                     |\n",
       "| 18 | <a href=\"https://docs.biosimulators.org/Biosimulators_tellurium/\">tellurium</a>                                 | <img src=https://via.placeholder.com/15/00dd00/00dd00.png/> pass                                                                                                           | <span style=\"color:darkred;\">                                                                      <img src=https://via.placeholder.com/15/dd0000/dd0000.png/> FAIL</span> | <img src=https://via.placeholder.com/15/00dd00/00dd00.png/><details><summary>pass</summary>The file extensions suggest the input file types are '['SBML', 'SED-ML']'. These are compatible with tellurium</details>                                                                                                                    | <img src=https://via.placeholder.com/15/00dd00/00dd00.png/><details><summary>pass</summary>The file extensions suggest the input file types are '['SBML', 'SED-ML']'. These are compatible with tellurium</details>                                                                                                                    |                                                                        |                                                                                                                                                                                                                                                                                                                                                                                                                                                                    | <details><summary>Details</summary>```Error while fetching server API version: (2, 'CreateFile', 'The system cannot find the file specified.')```</details> | <a href=\"d1_plots_remote\\tellurium_d1.pdf\">plot</a>  | <a href=\"d1_plots_local\\tellurium_d1.pdf\">plot</a>  |\n",
       "| 19 | <a href=\"https://github.com/virtualcell/vcell\">vcell</a>                                                        | <img src=https://via.placeholder.com/15/00dd00/00dd00.png/> pass                                                                                                           | <span style=\"color:darkred;\">                                                                      <img src=https://via.placeholder.com/15/dd0000/dd0000.png/> FAIL</span> | <img src=https://via.placeholder.com/15/00dd00/00dd00.png/><details><summary>pass</summary>The file extensions suggest the input file types are '['SBML', 'SED-ML']'. These are compatible with vcell</details>                                                                                                                        | <img src=https://via.placeholder.com/15/00dd00/00dd00.png/><details><summary>pass</summary>The file extensions suggest the input file types are '['SBML', 'SED-ML']'. These are compatible with vcell</details>                                                                                                                        |                                                                        |                                                                                                                                                                                                                                                                                                                                                                                                                                                                    | <details><summary>Details</summary>```Error while fetching server API version: (2, 'CreateFile', 'The system cannot find the file specified.')```</details> |                                                      |                                                     |\n",
       "| 20 | <a href=\"https://smoldyn.readthedocs.io/en/latest/python/api.html#sed-ml-combine-biosimulators-api\">smoldyn</a> | <span style=\"color:darkred;\">                                                                      <img src=https://via.placeholder.com/15/dd0000/dd0000.png/> FAIL</span> | <span style=\"color:darkred;\">                                                                      <img src=https://via.placeholder.com/15/dd0000/dd0000.png/> FAIL</span> | <span style=\"color:darkred;\"><img src=https://via.placeholder.com/15/dd0000/dd0000.png/> <details><summary>FAIL</summary>smoldyn compatible file types unknown.</details></span>                                                                                                                                                       | <span style=\"color:darkred;\"><img src=https://via.placeholder.com/15/dd0000/dd0000.png/> <details><summary>FAIL</summary>smoldyn compatible file types unknown.</details></span>                                                                                                                                                       | <details><summary>MNFE</summary>ModuleNotFoundError</details>          | <details><summary>Details</summary>No module named 'libsbml'</details>                                                                                                                                                                                                                                                                                                                                                                                             | <details><summary>Details</summary>```Error while fetching server API version: (2, 'CreateFile', 'The system cannot find the file specified.')```</details> |                                                      |                                                     |"
      ]
     },
     "metadata": {},
     "output_type": "display_data"
    }
   ],
   "source": [
    "#########################################################################################\n",
    "# process results and save markdown table\n",
    "#########################################################################################\n",
    "\n",
    "results_table = utils.create_results_table(results_remote, types_dict, sbml_filepath, sedml_filepath, engines, d1_plots_remote_dir)\n",
    "results_table_local = utils.create_results_table(results_local, types_dict, sbml_filepath, sedml_filepath, engines, d1_plots_local_dir)\n",
    "\n",
    "# rename cols to distinguish between local and remote results except for Engine column\n",
    "results_table.columns = [str(col) + ' (remote)' if col != 'Engine' else str(col) for col in results_table.columns]\n",
    "results_table_local.columns = [str(col) + ' (local)' if col != 'Engine' else str(col) for col in results_table_local.columns]\n",
    "\n",
    "# combine remote and local results\n",
    "combined_results = pd.merge(results_table, results_table_local, on='Engine', how='outer')\n",
    "combined_results = combined_results.reindex(columns=['Engine'] + sorted(combined_results.columns[1:]))\n",
    "\n",
    "cols_order = ['Engine', 'pass / FAIL (remote)', 'pass / FAIL (local)',\\\n",
    "               'Compat (remote)', 'Compat (local)', \\\n",
    "               'Type (remote)', \\\n",
    "               'Error (remote)', 'Error (local)', \\\n",
    "               'd1 (remote)', 'd1 (local)']\n",
    "\n",
    "combined_results = combined_results[cols_order]\n",
    "display_markdown(combined_results.to_markdown(), raw=True)"
   ]
  }
 ],
 "metadata": {
  "kernelspec": {
   "display_name": "venv",
   "language": "python",
   "name": "python3"
  },
  "language_info": {
   "codemirror_mode": {
    "name": "ipython",
    "version": 3
   },
   "file_extension": ".py",
   "mimetype": "text/x-python",
   "name": "python",
   "nbconvert_exporter": "python",
   "pygments_lexer": "ipython3",
   "version": "3.11.9"
  }
 },
 "nbformat": 4,
 "nbformat_minor": 2
}
