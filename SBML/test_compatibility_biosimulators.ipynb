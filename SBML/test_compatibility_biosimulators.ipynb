{
 "cells": [
  {
   "cell_type": "markdown",
   "metadata": {},
   "source": [
    "# Biosimulators compatibility"
   ]
  },
  {
   "cell_type": "markdown",
   "metadata": {},
   "source": [
    "## set-up"
   ]
  },
  {
   "cell_type": "code",
   "execution_count": 1,
   "metadata": {},
   "outputs": [
    {
     "name": "stdout",
     "output_type": "stream",
     "text": [
      "c:\\Users\\prins\\GitHub\\SBMLShowcase\\SBML\n"
     ]
    }
   ],
   "source": [
    "#!/usr/bin/env python\n",
    "\n",
    "'''\n",
    "use pymetadata module to create a minimal valid combine archive\n",
    "using LEMS_NML2_Ex9_FN.sbml and LEMS_NML2_Ex9_FN.sedml\n",
    "'''\n",
    "\n",
    "import sys\n",
    "sys.path.append(\"..\")\n",
    "import utils\n",
    "import os\n",
    "import pandas as pd\n",
    "from IPython.display import display_markdown\n",
    "import shutil\n",
    "import yaml\n",
    "\n",
    "\n",
    "cwd = os.getcwd()\n",
    "print(cwd)\n",
    "\n",
    "d1_plots_remote_dir = 'd1_plots'+ '_remote'\n",
    "d1_plots_local_dir = 'd1_plots' + '_local'\n",
    "\n",
    "sbml_filepath = 'LEMS_NML2_Ex9_FN.sbml'\n",
    "sedml_filepath = 'LEMS_NML2_Ex9_FN_missing_xmlns.sedml' #xmlns:sbml missing\n",
    "\n",
    "engines = utils.engines\n",
    "types_dict = utils.types_dict\n"
   ]
  },
  {
   "cell_type": "code",
   "execution_count": 2,
   "metadata": {},
   "outputs": [
    {
     "name": "stderr",
     "output_type": "stream",
     "text": [
      "pyNeuroML >>> DEBUG - Sim dict is: {'name': 'test', 'simulator': 'amici', 'simulatorVersion': '0.18.1', 'cpus': 1, 'memory': 8, 'maxTime': 20, 'envVars': [], 'purpose': 'academic', 'email': ''}\n",
      "pyNeuroML >>> DEBUG - simulation_run_request is {\"name\":\"test\",\"simulator\":\"amici\",\"simulatorVersion\":\"0.18.1\",\"maxTime\":20,\"cpus\":1,\"memory\":8,\"purpose\":\"academic\",\"email\":\"\",\"envVars\":[]}\n",
      "pyNeuroML >>> DEBUG - data is:\n",
      "{'file': ('LEMS_NML2_Ex9_FN_missing_xmlns.omex', <_io.BufferedReader name='LEMS_NML2_Ex9_FN_missing_xmlns.omex'>), 'simulationRun': (None, '{\"name\":\"test\",\"simulator\":\"amici\",\"simulatorVersion\":\"0.18.1\",\"maxTime\":20,\"cpus\":1,\"memory\":8,\"purpose\":\"academic\",\"email\":\"\",\"envVars\":[]}')}\n",
      "pyNeuroML >>> INFO - multipart encoded data is <MultipartEncoder: {'file': ('LEMS_NML2_Ex9_FN_missing_xmlns.omex', <_io.BufferedReader name='LEMS_NML2_Ex9_FN_missing_xmlns.omex'>), 'simulationRun': (None, '{\"name\":\"test\",\"simulator\":\"amici\",\"simulatorVersion\":\"0.18.1\",\"maxTime\":20,\"cpus\":1,\"memory\":8,\"purpose\":\"academic\",\"email\":\"\",\"envVars\":[]}')}>\n",
      "pyNeuroML >>> INFO - with content type: multipart/form-data; boundary=98aa4f1cb44c4f11a059359d7d9be91a\n",
      "pyNeuroML >>> INFO - Submitting archive to biosimulations\n"
     ]
    },
    {
     "name": "stdout",
     "output_type": "stream",
     "text": [
      "Submitted LEMS_NML2_Ex9_FN_missing_xmlns.omex successfully with id: 66bb47fcf29e09b32cb6fcdb\n",
      "View: https://api.biosimulations.org/runs/66bb47fcf29e09b32cb6fcdb\n",
      "Downloads: https://api.biosimulations.org/results/66bb47fcf29e09b32cb6fcdb/download\n",
      "Logs: https://api.biosimulations.org/logs/66bb47fcf29e09b32cb6fcdb?includeOutput=true\n"
     ]
    },
    {
     "name": "stderr",
     "output_type": "stream",
     "text": [
      "pyNeuroML >>> DEBUG - Sim dict is: {'name': 'test', 'simulator': 'brian2', 'simulatorVersion': '2.5.0.3', 'cpus': 1, 'memory': 8, 'maxTime': 20, 'envVars': [], 'purpose': 'academic', 'email': ''}\n",
      "pyNeuroML >>> DEBUG - simulation_run_request is {\"name\":\"test\",\"simulator\":\"brian2\",\"simulatorVersion\":\"2.5.0.3\",\"maxTime\":20,\"cpus\":1,\"memory\":8,\"purpose\":\"academic\",\"email\":\"\",\"envVars\":[]}\n",
      "pyNeuroML >>> DEBUG - data is:\n",
      "{'file': ('LEMS_NML2_Ex9_FN_missing_xmlns.omex', <_io.BufferedReader name='LEMS_NML2_Ex9_FN_missing_xmlns.omex'>), 'simulationRun': (None, '{\"name\":\"test\",\"simulator\":\"brian2\",\"simulatorVersion\":\"2.5.0.3\",\"maxTime\":20,\"cpus\":1,\"memory\":8,\"purpose\":\"academic\",\"email\":\"\",\"envVars\":[]}')}\n",
      "pyNeuroML >>> INFO - multipart encoded data is <MultipartEncoder: {'file': ('LEMS_NML2_Ex9_FN_missing_xmlns.omex', <_io.BufferedReader name='LEMS_NML2_Ex9_FN_missing_xmlns.omex'>), 'simulationRun': (None, '{\"name\":\"test\",\"simulator\":\"brian2\",\"simulatorVersion\":\"2.5.0.3\",\"maxTime\":20,\"cpus\":1,\"memory\":8,\"purpose\":\"academic\",\"email\":\"\",\"envVars\":[]}')}>\n",
      "pyNeuroML >>> INFO - with content type: multipart/form-data; boundary=8ac4ce046ceb4ce99c059ecefd0159ed\n",
      "pyNeuroML >>> INFO - Submitting archive to biosimulations\n"
     ]
    },
    {
     "name": "stdout",
     "output_type": "stream",
     "text": [
      "Submitted LEMS_NML2_Ex9_FN_missing_xmlns.omex successfully with id: 66bb47fea641708179ad15f5\n",
      "View: https://api.biosimulations.org/runs/66bb47fea641708179ad15f5\n",
      "Downloads: https://api.biosimulations.org/results/66bb47fea641708179ad15f5/download\n",
      "Logs: https://api.biosimulations.org/logs/66bb47fea641708179ad15f5?includeOutput=true\n"
     ]
    },
    {
     "name": "stderr",
     "output_type": "stream",
     "text": [
      "pyNeuroML >>> DEBUG - Sim dict is: {'name': 'test', 'simulator': 'bionetgen', 'simulatorVersion': '2.8.0', 'cpus': 1, 'memory': 8, 'maxTime': 20, 'envVars': [], 'purpose': 'academic', 'email': ''}\n",
      "pyNeuroML >>> DEBUG - simulation_run_request is {\"name\":\"test\",\"simulator\":\"bionetgen\",\"simulatorVersion\":\"2.8.0\",\"maxTime\":20,\"cpus\":1,\"memory\":8,\"purpose\":\"academic\",\"email\":\"\",\"envVars\":[]}\n",
      "pyNeuroML >>> DEBUG - data is:\n",
      "{'file': ('LEMS_NML2_Ex9_FN_missing_xmlns.omex', <_io.BufferedReader name='LEMS_NML2_Ex9_FN_missing_xmlns.omex'>), 'simulationRun': (None, '{\"name\":\"test\",\"simulator\":\"bionetgen\",\"simulatorVersion\":\"2.8.0\",\"maxTime\":20,\"cpus\":1,\"memory\":8,\"purpose\":\"academic\",\"email\":\"\",\"envVars\":[]}')}\n",
      "pyNeuroML >>> INFO - multipart encoded data is <MultipartEncoder: {'file': ('LEMS_NML2_Ex9_FN_missing_xmlns.omex', <_io.BufferedReader name='LEMS_NML2_Ex9_FN_missing_xmlns.omex'>), 'simulationRun': (None, '{\"name\":\"test\",\"simulator\":\"bionetgen\",\"simulatorVersion\":\"2.8.0\",\"maxTime\":20,\"cpus\":1,\"memory\":8,\"purpose\":\"academic\",\"email\":\"\",\"envVars\":[]}')}>\n",
      "pyNeuroML >>> INFO - with content type: multipart/form-data; boundary=c730000074a24c25a7cd35d979b1f0df\n",
      "pyNeuroML >>> INFO - Submitting archive to biosimulations\n"
     ]
    },
    {
     "name": "stdout",
     "output_type": "stream",
     "text": [
      "Submitted LEMS_NML2_Ex9_FN_missing_xmlns.omex successfully with id: 66bb4800f29e09b32cb6fce2\n",
      "View: https://api.biosimulations.org/runs/66bb4800f29e09b32cb6fce2\n",
      "Downloads: https://api.biosimulations.org/results/66bb4800f29e09b32cb6fce2/download\n",
      "Logs: https://api.biosimulations.org/logs/66bb4800f29e09b32cb6fce2?includeOutput=true\n"
     ]
    },
    {
     "name": "stderr",
     "output_type": "stream",
     "text": [
      "pyNeuroML >>> DEBUG - Sim dict is: {'name': 'test', 'simulator': 'boolnet', 'simulatorVersion': '2.1.5', 'cpus': 1, 'memory': 8, 'maxTime': 20, 'envVars': [], 'purpose': 'academic', 'email': ''}\n",
      "pyNeuroML >>> DEBUG - simulation_run_request is {\"name\":\"test\",\"simulator\":\"boolnet\",\"simulatorVersion\":\"2.1.5\",\"maxTime\":20,\"cpus\":1,\"memory\":8,\"purpose\":\"academic\",\"email\":\"\",\"envVars\":[]}\n",
      "pyNeuroML >>> DEBUG - data is:\n",
      "{'file': ('LEMS_NML2_Ex9_FN_missing_xmlns.omex', <_io.BufferedReader name='LEMS_NML2_Ex9_FN_missing_xmlns.omex'>), 'simulationRun': (None, '{\"name\":\"test\",\"simulator\":\"boolnet\",\"simulatorVersion\":\"2.1.5\",\"maxTime\":20,\"cpus\":1,\"memory\":8,\"purpose\":\"academic\",\"email\":\"\",\"envVars\":[]}')}\n",
      "pyNeuroML >>> INFO - multipart encoded data is <MultipartEncoder: {'file': ('LEMS_NML2_Ex9_FN_missing_xmlns.omex', <_io.BufferedReader name='LEMS_NML2_Ex9_FN_missing_xmlns.omex'>), 'simulationRun': (None, '{\"name\":\"test\",\"simulator\":\"boolnet\",\"simulatorVersion\":\"2.1.5\",\"maxTime\":20,\"cpus\":1,\"memory\":8,\"purpose\":\"academic\",\"email\":\"\",\"envVars\":[]}')}>\n",
      "pyNeuroML >>> INFO - with content type: multipart/form-data; boundary=5e83dbb3cee2421ea87a09d4a5ee6160\n",
      "pyNeuroML >>> INFO - Submitting archive to biosimulations\n"
     ]
    },
    {
     "name": "stdout",
     "output_type": "stream",
     "text": [
      "Submitted LEMS_NML2_Ex9_FN_missing_xmlns.omex successfully with id: 66bb4802a641708179ad15f8\n",
      "View: https://api.biosimulations.org/runs/66bb4802a641708179ad15f8\n",
      "Downloads: https://api.biosimulations.org/results/66bb4802a641708179ad15f8/download\n",
      "Logs: https://api.biosimulations.org/logs/66bb4802a641708179ad15f8?includeOutput=true\n"
     ]
    },
    {
     "name": "stderr",
     "output_type": "stream",
     "text": [
      "pyNeuroML >>> DEBUG - Sim dict is: {'name': 'test', 'simulator': 'cbmpy', 'simulatorVersion': '0.7.25', 'cpus': 1, 'memory': 8, 'maxTime': 20, 'envVars': [], 'purpose': 'academic', 'email': ''}\n",
      "pyNeuroML >>> DEBUG - simulation_run_request is {\"name\":\"test\",\"simulator\":\"cbmpy\",\"simulatorVersion\":\"0.7.25\",\"maxTime\":20,\"cpus\":1,\"memory\":8,\"purpose\":\"academic\",\"email\":\"\",\"envVars\":[]}\n",
      "pyNeuroML >>> DEBUG - data is:\n",
      "{'file': ('LEMS_NML2_Ex9_FN_missing_xmlns.omex', <_io.BufferedReader name='LEMS_NML2_Ex9_FN_missing_xmlns.omex'>), 'simulationRun': (None, '{\"name\":\"test\",\"simulator\":\"cbmpy\",\"simulatorVersion\":\"0.7.25\",\"maxTime\":20,\"cpus\":1,\"memory\":8,\"purpose\":\"academic\",\"email\":\"\",\"envVars\":[]}')}\n",
      "pyNeuroML >>> INFO - multipart encoded data is <MultipartEncoder: {'file': ('LEMS_NML2_Ex9_FN_missing_xmlns.omex', <_io.BufferedReader name='LEMS_NML2_Ex9_FN_missing_xmlns.omex'>), 'simulationRun': (None, '{\"name\":\"test\",\"simulator\":\"cbmpy\",\"simulatorVersion\":\"0.7.25\",\"maxTime\":20,\"cpus\":1,\"memory\":8,\"purpose\":\"academic\",\"email\":\"\",\"envVars\":[]}')}>\n",
      "pyNeuroML >>> INFO - with content type: multipart/form-data; boundary=29e999bc0cb84fd0ac823cc1638f9c3a\n",
      "pyNeuroML >>> INFO - Submitting archive to biosimulations\n"
     ]
    },
    {
     "name": "stdout",
     "output_type": "stream",
     "text": [
      "Submitted LEMS_NML2_Ex9_FN_missing_xmlns.omex successfully with id: 66bb4804f29e09b32cb6fce9\n",
      "View: https://api.biosimulations.org/runs/66bb4804f29e09b32cb6fce9\n",
      "Downloads: https://api.biosimulations.org/results/66bb4804f29e09b32cb6fce9/download\n",
      "Logs: https://api.biosimulations.org/logs/66bb4804f29e09b32cb6fce9?includeOutput=true\n"
     ]
    },
    {
     "name": "stderr",
     "output_type": "stream",
     "text": [
      "pyNeuroML >>> DEBUG - Sim dict is: {'name': 'test', 'simulator': 'cobrapy', 'simulatorVersion': '0.24.0', 'cpus': 1, 'memory': 8, 'maxTime': 20, 'envVars': [], 'purpose': 'academic', 'email': ''}\n",
      "pyNeuroML >>> DEBUG - simulation_run_request is {\"name\":\"test\",\"simulator\":\"cobrapy\",\"simulatorVersion\":\"0.24.0\",\"maxTime\":20,\"cpus\":1,\"memory\":8,\"purpose\":\"academic\",\"email\":\"\",\"envVars\":[]}\n",
      "pyNeuroML >>> DEBUG - data is:\n",
      "{'file': ('LEMS_NML2_Ex9_FN_missing_xmlns.omex', <_io.BufferedReader name='LEMS_NML2_Ex9_FN_missing_xmlns.omex'>), 'simulationRun': (None, '{\"name\":\"test\",\"simulator\":\"cobrapy\",\"simulatorVersion\":\"0.24.0\",\"maxTime\":20,\"cpus\":1,\"memory\":8,\"purpose\":\"academic\",\"email\":\"\",\"envVars\":[]}')}\n",
      "pyNeuroML >>> INFO - multipart encoded data is <MultipartEncoder: {'file': ('LEMS_NML2_Ex9_FN_missing_xmlns.omex', <_io.BufferedReader name='LEMS_NML2_Ex9_FN_missing_xmlns.omex'>), 'simulationRun': (None, '{\"name\":\"test\",\"simulator\":\"cobrapy\",\"simulatorVersion\":\"0.24.0\",\"maxTime\":20,\"cpus\":1,\"memory\":8,\"purpose\":\"academic\",\"email\":\"\",\"envVars\":[]}')}>\n",
      "pyNeuroML >>> INFO - with content type: multipart/form-data; boundary=4acbdcfb5103452fa97c71bb81e13df6\n",
      "pyNeuroML >>> INFO - Submitting archive to biosimulations\n"
     ]
    },
    {
     "name": "stdout",
     "output_type": "stream",
     "text": [
      "Submitted LEMS_NML2_Ex9_FN_missing_xmlns.omex successfully with id: 66bb4806f29e09b32cb6fcfa\n",
      "View: https://api.biosimulations.org/runs/66bb4806f29e09b32cb6fcfa\n",
      "Downloads: https://api.biosimulations.org/results/66bb4806f29e09b32cb6fcfa/download\n",
      "Logs: https://api.biosimulations.org/logs/66bb4806f29e09b32cb6fcfa?includeOutput=true\n"
     ]
    },
    {
     "name": "stderr",
     "output_type": "stream",
     "text": [
      "pyNeuroML >>> DEBUG - Sim dict is: {'name': 'test', 'simulator': 'copasi', 'simulatorVersion': '4.42.284', 'cpus': 1, 'memory': 8, 'maxTime': 20, 'envVars': [], 'purpose': 'academic', 'email': ''}\n",
      "pyNeuroML >>> DEBUG - simulation_run_request is {\"name\":\"test\",\"simulator\":\"copasi\",\"simulatorVersion\":\"4.42.284\",\"maxTime\":20,\"cpus\":1,\"memory\":8,\"purpose\":\"academic\",\"email\":\"\",\"envVars\":[]}\n",
      "pyNeuroML >>> DEBUG - data is:\n",
      "{'file': ('LEMS_NML2_Ex9_FN_missing_xmlns.omex', <_io.BufferedReader name='LEMS_NML2_Ex9_FN_missing_xmlns.omex'>), 'simulationRun': (None, '{\"name\":\"test\",\"simulator\":\"copasi\",\"simulatorVersion\":\"4.42.284\",\"maxTime\":20,\"cpus\":1,\"memory\":8,\"purpose\":\"academic\",\"email\":\"\",\"envVars\":[]}')}\n",
      "pyNeuroML >>> INFO - multipart encoded data is <MultipartEncoder: {'file': ('LEMS_NML2_Ex9_FN_missing_xmlns.omex', <_io.BufferedReader name='LEMS_NML2_Ex9_FN_missing_xmlns.omex'>), 'simulationRun': (None, '{\"name\":\"test\",\"simulator\":\"copasi\",\"simulatorVersion\":\"4.42.284\",\"maxTime\":20,\"cpus\":1,\"memory\":8,\"purpose\":\"academic\",\"email\":\"\",\"envVars\":[]}')}>\n",
      "pyNeuroML >>> INFO - with content type: multipart/form-data; boundary=a45e33c2762f4b93a708044c7147c2dc\n",
      "pyNeuroML >>> INFO - Submitting archive to biosimulations\n"
     ]
    },
    {
     "name": "stdout",
     "output_type": "stream",
     "text": [
      "Submitted LEMS_NML2_Ex9_FN_missing_xmlns.omex successfully with id: 66bb48080c4ccdd491921cd8\n",
      "View: https://api.biosimulations.org/runs/66bb48080c4ccdd491921cd8\n",
      "Downloads: https://api.biosimulations.org/results/66bb48080c4ccdd491921cd8/download\n",
      "Logs: https://api.biosimulations.org/logs/66bb48080c4ccdd491921cd8?includeOutput=true\n"
     ]
    },
    {
     "name": "stderr",
     "output_type": "stream",
     "text": [
      "pyNeuroML >>> DEBUG - Sim dict is: {'name': 'test', 'simulator': 'gillespy2', 'simulatorVersion': '1.6.6', 'cpus': 1, 'memory': 8, 'maxTime': 20, 'envVars': [], 'purpose': 'academic', 'email': ''}\n",
      "pyNeuroML >>> DEBUG - simulation_run_request is {\"name\":\"test\",\"simulator\":\"gillespy2\",\"simulatorVersion\":\"1.6.6\",\"maxTime\":20,\"cpus\":1,\"memory\":8,\"purpose\":\"academic\",\"email\":\"\",\"envVars\":[]}\n",
      "pyNeuroML >>> DEBUG - data is:\n",
      "{'file': ('LEMS_NML2_Ex9_FN_missing_xmlns.omex', <_io.BufferedReader name='LEMS_NML2_Ex9_FN_missing_xmlns.omex'>), 'simulationRun': (None, '{\"name\":\"test\",\"simulator\":\"gillespy2\",\"simulatorVersion\":\"1.6.6\",\"maxTime\":20,\"cpus\":1,\"memory\":8,\"purpose\":\"academic\",\"email\":\"\",\"envVars\":[]}')}\n",
      "pyNeuroML >>> INFO - multipart encoded data is <MultipartEncoder: {'file': ('LEMS_NML2_Ex9_FN_missing_xmlns.omex', <_io.BufferedReader name='LEMS_NML2_Ex9_FN_missing_xmlns.omex'>), 'simulationRun': (None, '{\"name\":\"test\",\"simulator\":\"gillespy2\",\"simulatorVersion\":\"1.6.6\",\"maxTime\":20,\"cpus\":1,\"memory\":8,\"purpose\":\"academic\",\"email\":\"\",\"envVars\":[]}')}>\n",
      "pyNeuroML >>> INFO - with content type: multipart/form-data; boundary=4b6d898aab684ebab25f52e18880f4ba\n",
      "pyNeuroML >>> INFO - Submitting archive to biosimulations\n"
     ]
    },
    {
     "name": "stdout",
     "output_type": "stream",
     "text": [
      "Submitted LEMS_NML2_Ex9_FN_missing_xmlns.omex successfully with id: 66bb480bf29e09b32cb6fd01\n",
      "View: https://api.biosimulations.org/runs/66bb480bf29e09b32cb6fd01\n",
      "Downloads: https://api.biosimulations.org/results/66bb480bf29e09b32cb6fd01/download\n",
      "Logs: https://api.biosimulations.org/logs/66bb480bf29e09b32cb6fd01?includeOutput=true\n"
     ]
    },
    {
     "name": "stderr",
     "output_type": "stream",
     "text": [
      "pyNeuroML >>> DEBUG - Sim dict is: {'name': 'test', 'simulator': 'ginsim', 'simulatorVersion': '3.0.0b', 'cpus': 1, 'memory': 8, 'maxTime': 20, 'envVars': [], 'purpose': 'academic', 'email': ''}\n",
      "pyNeuroML >>> DEBUG - simulation_run_request is {\"name\":\"test\",\"simulator\":\"ginsim\",\"simulatorVersion\":\"3.0.0b\",\"maxTime\":20,\"cpus\":1,\"memory\":8,\"purpose\":\"academic\",\"email\":\"\",\"envVars\":[]}\n",
      "pyNeuroML >>> DEBUG - data is:\n",
      "{'file': ('LEMS_NML2_Ex9_FN_missing_xmlns.omex', <_io.BufferedReader name='LEMS_NML2_Ex9_FN_missing_xmlns.omex'>), 'simulationRun': (None, '{\"name\":\"test\",\"simulator\":\"ginsim\",\"simulatorVersion\":\"3.0.0b\",\"maxTime\":20,\"cpus\":1,\"memory\":8,\"purpose\":\"academic\",\"email\":\"\",\"envVars\":[]}')}\n",
      "pyNeuroML >>> INFO - multipart encoded data is <MultipartEncoder: {'file': ('LEMS_NML2_Ex9_FN_missing_xmlns.omex', <_io.BufferedReader name='LEMS_NML2_Ex9_FN_missing_xmlns.omex'>), 'simulationRun': (None, '{\"name\":\"test\",\"simulator\":\"ginsim\",\"simulatorVersion\":\"3.0.0b\",\"maxTime\":20,\"cpus\":1,\"memory\":8,\"purpose\":\"academic\",\"email\":\"\",\"envVars\":[]}')}>\n",
      "pyNeuroML >>> INFO - with content type: multipart/form-data; boundary=a2561cb8036a466eafed80d23548601a\n",
      "pyNeuroML >>> INFO - Submitting archive to biosimulations\n"
     ]
    },
    {
     "name": "stdout",
     "output_type": "stream",
     "text": [
      "Submitted LEMS_NML2_Ex9_FN_missing_xmlns.omex successfully with id: 66bb480c0c4ccdd491921cdc\n",
      "View: https://api.biosimulations.org/runs/66bb480c0c4ccdd491921cdc\n",
      "Downloads: https://api.biosimulations.org/results/66bb480c0c4ccdd491921cdc/download\n",
      "Logs: https://api.biosimulations.org/logs/66bb480c0c4ccdd491921cdc?includeOutput=true\n"
     ]
    },
    {
     "name": "stderr",
     "output_type": "stream",
     "text": [
      "pyNeuroML >>> DEBUG - Sim dict is: {'name': 'test', 'simulator': 'libsbmlsim', 'simulatorVersion': '1.4.0', 'cpus': 1, 'memory': 8, 'maxTime': 20, 'envVars': [], 'purpose': 'academic', 'email': ''}\n",
      "pyNeuroML >>> DEBUG - simulation_run_request is {\"name\":\"test\",\"simulator\":\"libsbmlsim\",\"simulatorVersion\":\"1.4.0\",\"maxTime\":20,\"cpus\":1,\"memory\":8,\"purpose\":\"academic\",\"email\":\"\",\"envVars\":[]}\n",
      "pyNeuroML >>> DEBUG - data is:\n",
      "{'file': ('LEMS_NML2_Ex9_FN_missing_xmlns.omex', <_io.BufferedReader name='LEMS_NML2_Ex9_FN_missing_xmlns.omex'>), 'simulationRun': (None, '{\"name\":\"test\",\"simulator\":\"libsbmlsim\",\"simulatorVersion\":\"1.4.0\",\"maxTime\":20,\"cpus\":1,\"memory\":8,\"purpose\":\"academic\",\"email\":\"\",\"envVars\":[]}')}\n",
      "pyNeuroML >>> INFO - multipart encoded data is <MultipartEncoder: {'file': ('LEMS_NML2_Ex9_FN_missing_xmlns.omex', <_io.BufferedReader name='LEMS_NML2_Ex9_FN_missing_xmlns.omex'>), 'simulationRun': (None, '{\"name\":\"test\",\"simulator\":\"libsbmlsim\",\"simulatorVersion\":\"1.4.0\",\"maxTime\":20,\"cpus\":1,\"memory\":8,\"purpose\":\"academic\",\"email\":\"\",\"envVars\":[]}')}>\n",
      "pyNeuroML >>> INFO - with content type: multipart/form-data; boundary=afdba8fa9da7404f8e18ac291644f0a5\n",
      "pyNeuroML >>> INFO - Submitting archive to biosimulations\n"
     ]
    },
    {
     "name": "stdout",
     "output_type": "stream",
     "text": [
      "Submitted LEMS_NML2_Ex9_FN_missing_xmlns.omex successfully with id: 66bb480ef29e09b32cb6fd06\n",
      "View: https://api.biosimulations.org/runs/66bb480ef29e09b32cb6fd06\n",
      "Downloads: https://api.biosimulations.org/results/66bb480ef29e09b32cb6fd06/download\n",
      "Logs: https://api.biosimulations.org/logs/66bb480ef29e09b32cb6fd06?includeOutput=true\n"
     ]
    },
    {
     "name": "stderr",
     "output_type": "stream",
     "text": [
      "pyNeuroML >>> DEBUG - Sim dict is: {'name': 'test', 'simulator': 'masspy', 'simulatorVersion': '0.1.6', 'cpus': 1, 'memory': 8, 'maxTime': 20, 'envVars': [], 'purpose': 'academic', 'email': ''}\n",
      "pyNeuroML >>> DEBUG - simulation_run_request is {\"name\":\"test\",\"simulator\":\"masspy\",\"simulatorVersion\":\"0.1.6\",\"maxTime\":20,\"cpus\":1,\"memory\":8,\"purpose\":\"academic\",\"email\":\"\",\"envVars\":[]}\n",
      "pyNeuroML >>> DEBUG - data is:\n",
      "{'file': ('LEMS_NML2_Ex9_FN_missing_xmlns.omex', <_io.BufferedReader name='LEMS_NML2_Ex9_FN_missing_xmlns.omex'>), 'simulationRun': (None, '{\"name\":\"test\",\"simulator\":\"masspy\",\"simulatorVersion\":\"0.1.6\",\"maxTime\":20,\"cpus\":1,\"memory\":8,\"purpose\":\"academic\",\"email\":\"\",\"envVars\":[]}')}\n",
      "pyNeuroML >>> INFO - multipart encoded data is <MultipartEncoder: {'file': ('LEMS_NML2_Ex9_FN_missing_xmlns.omex', <_io.BufferedReader name='LEMS_NML2_Ex9_FN_missing_xmlns.omex'>), 'simulationRun': (None, '{\"name\":\"test\",\"simulator\":\"masspy\",\"simulatorVersion\":\"0.1.6\",\"maxTime\":20,\"cpus\":1,\"memory\":8,\"purpose\":\"academic\",\"email\":\"\",\"envVars\":[]}')}>\n",
      "pyNeuroML >>> INFO - with content type: multipart/form-data; boundary=e64064a51bd84f84b584449891ce0400\n",
      "pyNeuroML >>> INFO - Submitting archive to biosimulations\n"
     ]
    },
    {
     "name": "stdout",
     "output_type": "stream",
     "text": [
      "Submitted LEMS_NML2_Ex9_FN_missing_xmlns.omex successfully with id: 66bb4810f29e09b32cb6fd1d\n",
      "View: https://api.biosimulations.org/runs/66bb4810f29e09b32cb6fd1d\n",
      "Downloads: https://api.biosimulations.org/results/66bb4810f29e09b32cb6fd1d/download\n",
      "Logs: https://api.biosimulations.org/logs/66bb4810f29e09b32cb6fd1d?includeOutput=true\n"
     ]
    },
    {
     "name": "stderr",
     "output_type": "stream",
     "text": [
      "pyNeuroML >>> DEBUG - Sim dict is: {'name': 'test', 'simulator': 'netpyne', 'simulatorVersion': '1.0.0.2', 'cpus': 1, 'memory': 8, 'maxTime': 20, 'envVars': [], 'purpose': 'academic', 'email': ''}\n",
      "pyNeuroML >>> DEBUG - simulation_run_request is {\"name\":\"test\",\"simulator\":\"netpyne\",\"simulatorVersion\":\"1.0.0.2\",\"maxTime\":20,\"cpus\":1,\"memory\":8,\"purpose\":\"academic\",\"email\":\"\",\"envVars\":[]}\n",
      "pyNeuroML >>> DEBUG - data is:\n",
      "{'file': ('LEMS_NML2_Ex9_FN_missing_xmlns.omex', <_io.BufferedReader name='LEMS_NML2_Ex9_FN_missing_xmlns.omex'>), 'simulationRun': (None, '{\"name\":\"test\",\"simulator\":\"netpyne\",\"simulatorVersion\":\"1.0.0.2\",\"maxTime\":20,\"cpus\":1,\"memory\":8,\"purpose\":\"academic\",\"email\":\"\",\"envVars\":[]}')}\n",
      "pyNeuroML >>> INFO - multipart encoded data is <MultipartEncoder: {'file': ('LEMS_NML2_Ex9_FN_missing_xmlns.omex', <_io.BufferedReader name='LEMS_NML2_Ex9_FN_missing_xmlns.omex'>), 'simulationRun': (None, '{\"name\":\"test\",\"simulator\":\"netpyne\",\"simulatorVersion\":\"1.0.0.2\",\"maxTime\":20,\"cpus\":1,\"memory\":8,\"purpose\":\"academic\",\"email\":\"\",\"envVars\":[]}')}>\n",
      "pyNeuroML >>> INFO - with content type: multipart/form-data; boundary=3fa4b04644054a55bfd03f2dee99479b\n",
      "pyNeuroML >>> INFO - Submitting archive to biosimulations\n"
     ]
    },
    {
     "name": "stdout",
     "output_type": "stream",
     "text": [
      "Submitted LEMS_NML2_Ex9_FN_missing_xmlns.omex successfully with id: 66bb48120c4ccdd491921d0b\n",
      "View: https://api.biosimulations.org/runs/66bb48120c4ccdd491921d0b\n",
      "Downloads: https://api.biosimulations.org/results/66bb48120c4ccdd491921d0b/download\n",
      "Logs: https://api.biosimulations.org/logs/66bb48120c4ccdd491921d0b?includeOutput=true\n"
     ]
    },
    {
     "name": "stderr",
     "output_type": "stream",
     "text": [
      "pyNeuroML >>> DEBUG - Sim dict is: {'name': 'test', 'simulator': 'neuron', 'simulatorVersion': '8.0.2', 'cpus': 1, 'memory': 8, 'maxTime': 20, 'envVars': [], 'purpose': 'academic', 'email': ''}\n",
      "pyNeuroML >>> DEBUG - simulation_run_request is {\"name\":\"test\",\"simulator\":\"neuron\",\"simulatorVersion\":\"8.0.2\",\"maxTime\":20,\"cpus\":1,\"memory\":8,\"purpose\":\"academic\",\"email\":\"\",\"envVars\":[]}\n",
      "pyNeuroML >>> DEBUG - data is:\n",
      "{'file': ('LEMS_NML2_Ex9_FN_missing_xmlns.omex', <_io.BufferedReader name='LEMS_NML2_Ex9_FN_missing_xmlns.omex'>), 'simulationRun': (None, '{\"name\":\"test\",\"simulator\":\"neuron\",\"simulatorVersion\":\"8.0.2\",\"maxTime\":20,\"cpus\":1,\"memory\":8,\"purpose\":\"academic\",\"email\":\"\",\"envVars\":[]}')}\n",
      "pyNeuroML >>> INFO - multipart encoded data is <MultipartEncoder: {'file': ('LEMS_NML2_Ex9_FN_missing_xmlns.omex', <_io.BufferedReader name='LEMS_NML2_Ex9_FN_missing_xmlns.omex'>), 'simulationRun': (None, '{\"name\":\"test\",\"simulator\":\"neuron\",\"simulatorVersion\":\"8.0.2\",\"maxTime\":20,\"cpus\":1,\"memory\":8,\"purpose\":\"academic\",\"email\":\"\",\"envVars\":[]}')}>\n",
      "pyNeuroML >>> INFO - with content type: multipart/form-data; boundary=c9c96acc9e3748c4bc25d31c10c21344\n",
      "pyNeuroML >>> INFO - Submitting archive to biosimulations\n"
     ]
    },
    {
     "name": "stdout",
     "output_type": "stream",
     "text": [
      "Submitted LEMS_NML2_Ex9_FN_missing_xmlns.omex successfully with id: 66bb4814f29e09b32cb6fd2b\n",
      "View: https://api.biosimulations.org/runs/66bb4814f29e09b32cb6fd2b\n",
      "Downloads: https://api.biosimulations.org/results/66bb4814f29e09b32cb6fd2b/download\n",
      "Logs: https://api.biosimulations.org/logs/66bb4814f29e09b32cb6fd2b?includeOutput=true\n"
     ]
    },
    {
     "name": "stderr",
     "output_type": "stream",
     "text": [
      "pyNeuroML >>> DEBUG - Sim dict is: {'name': 'test', 'simulator': 'opencor', 'simulatorVersion': '2021-10-05', 'cpus': 1, 'memory': 8, 'maxTime': 20, 'envVars': [], 'purpose': 'academic', 'email': ''}\n",
      "pyNeuroML >>> DEBUG - simulation_run_request is {\"name\":\"test\",\"simulator\":\"opencor\",\"simulatorVersion\":\"2021-10-05\",\"maxTime\":20,\"cpus\":1,\"memory\":8,\"purpose\":\"academic\",\"email\":\"\",\"envVars\":[]}\n",
      "pyNeuroML >>> DEBUG - data is:\n",
      "{'file': ('LEMS_NML2_Ex9_FN_missing_xmlns.omex', <_io.BufferedReader name='LEMS_NML2_Ex9_FN_missing_xmlns.omex'>), 'simulationRun': (None, '{\"name\":\"test\",\"simulator\":\"opencor\",\"simulatorVersion\":\"2021-10-05\",\"maxTime\":20,\"cpus\":1,\"memory\":8,\"purpose\":\"academic\",\"email\":\"\",\"envVars\":[]}')}\n",
      "pyNeuroML >>> INFO - multipart encoded data is <MultipartEncoder: {'file': ('LEMS_NML2_Ex9_FN_missing_xmlns.omex', <_io.BufferedReader name='LEMS_NML2_Ex9_FN_missing_xmlns.omex'>), 'simulationRun': (None, '{\"name\":\"test\",\"simulator\":\"opencor\",\"simulatorVersion\":\"2021-10-05\",\"maxTime\":20,\"cpus\":1,\"memory\":8,\"purpose\":\"academic\",\"email\":\"\",\"envVars\":[]}')}>\n",
      "pyNeuroML >>> INFO - with content type: multipart/form-data; boundary=7c952d2e73094a259c624bfca1a26013\n",
      "pyNeuroML >>> INFO - Submitting archive to biosimulations\n"
     ]
    },
    {
     "name": "stdout",
     "output_type": "stream",
     "text": [
      "Submitted LEMS_NML2_Ex9_FN_missing_xmlns.omex successfully with id: 66bb4815f29e09b32cb6fd42\n",
      "View: https://api.biosimulations.org/runs/66bb4815f29e09b32cb6fd42\n",
      "Downloads: https://api.biosimulations.org/results/66bb4815f29e09b32cb6fd42/download\n",
      "Logs: https://api.biosimulations.org/logs/66bb4815f29e09b32cb6fd42?includeOutput=true\n"
     ]
    },
    {
     "name": "stderr",
     "output_type": "stream",
     "text": [
      "pyNeuroML >>> DEBUG - Sim dict is: {'name': 'test', 'simulator': 'pyneuroml', 'simulatorVersion': '0.5.20', 'cpus': 1, 'memory': 8, 'maxTime': 20, 'envVars': [], 'purpose': 'academic', 'email': ''}\n",
      "pyNeuroML >>> DEBUG - simulation_run_request is {\"name\":\"test\",\"simulator\":\"pyneuroml\",\"simulatorVersion\":\"0.5.20\",\"maxTime\":20,\"cpus\":1,\"memory\":8,\"purpose\":\"academic\",\"email\":\"\",\"envVars\":[]}\n",
      "pyNeuroML >>> DEBUG - data is:\n",
      "{'file': ('LEMS_NML2_Ex9_FN_missing_xmlns.omex', <_io.BufferedReader name='LEMS_NML2_Ex9_FN_missing_xmlns.omex'>), 'simulationRun': (None, '{\"name\":\"test\",\"simulator\":\"pyneuroml\",\"simulatorVersion\":\"0.5.20\",\"maxTime\":20,\"cpus\":1,\"memory\":8,\"purpose\":\"academic\",\"email\":\"\",\"envVars\":[]}')}\n",
      "pyNeuroML >>> INFO - multipart encoded data is <MultipartEncoder: {'file': ('LEMS_NML2_Ex9_FN_missing_xmlns.omex', <_io.BufferedReader name='LEMS_NML2_Ex9_FN_missing_xmlns.omex'>), 'simulationRun': (None, '{\"name\":\"test\",\"simulator\":\"pyneuroml\",\"simulatorVersion\":\"0.5.20\",\"maxTime\":20,\"cpus\":1,\"memory\":8,\"purpose\":\"academic\",\"email\":\"\",\"envVars\":[]}')}>\n",
      "pyNeuroML >>> INFO - with content type: multipart/form-data; boundary=a49ca6f742234dfeaf523a88f36532c9\n",
      "pyNeuroML >>> INFO - Submitting archive to biosimulations\n"
     ]
    },
    {
     "name": "stdout",
     "output_type": "stream",
     "text": [
      "Submitted LEMS_NML2_Ex9_FN_missing_xmlns.omex successfully with id: 66bb48170c4ccdd491921d27\n",
      "View: https://api.biosimulations.org/runs/66bb48170c4ccdd491921d27\n",
      "Downloads: https://api.biosimulations.org/results/66bb48170c4ccdd491921d27/download\n",
      "Logs: https://api.biosimulations.org/logs/66bb48170c4ccdd491921d27?includeOutput=true\n"
     ]
    },
    {
     "name": "stderr",
     "output_type": "stream",
     "text": [
      "pyNeuroML >>> DEBUG - Sim dict is: {'name': 'test', 'simulator': 'pysces', 'simulatorVersion': '1.2.1', 'cpus': 1, 'memory': 8, 'maxTime': 20, 'envVars': [], 'purpose': 'academic', 'email': ''}\n",
      "pyNeuroML >>> DEBUG - simulation_run_request is {\"name\":\"test\",\"simulator\":\"pysces\",\"simulatorVersion\":\"1.2.1\",\"maxTime\":20,\"cpus\":1,\"memory\":8,\"purpose\":\"academic\",\"email\":\"\",\"envVars\":[]}\n",
      "pyNeuroML >>> DEBUG - data is:\n",
      "{'file': ('LEMS_NML2_Ex9_FN_missing_xmlns.omex', <_io.BufferedReader name='LEMS_NML2_Ex9_FN_missing_xmlns.omex'>), 'simulationRun': (None, '{\"name\":\"test\",\"simulator\":\"pysces\",\"simulatorVersion\":\"1.2.1\",\"maxTime\":20,\"cpus\":1,\"memory\":8,\"purpose\":\"academic\",\"email\":\"\",\"envVars\":[]}')}\n",
      "pyNeuroML >>> INFO - multipart encoded data is <MultipartEncoder: {'file': ('LEMS_NML2_Ex9_FN_missing_xmlns.omex', <_io.BufferedReader name='LEMS_NML2_Ex9_FN_missing_xmlns.omex'>), 'simulationRun': (None, '{\"name\":\"test\",\"simulator\":\"pysces\",\"simulatorVersion\":\"1.2.1\",\"maxTime\":20,\"cpus\":1,\"memory\":8,\"purpose\":\"academic\",\"email\":\"\",\"envVars\":[]}')}>\n",
      "pyNeuroML >>> INFO - with content type: multipart/form-data; boundary=f0852adb02794e10a5db9a003051157d\n",
      "pyNeuroML >>> INFO - Submitting archive to biosimulations\n"
     ]
    },
    {
     "name": "stdout",
     "output_type": "stream",
     "text": [
      "Submitted LEMS_NML2_Ex9_FN_missing_xmlns.omex successfully with id: 66bb4819f29e09b32cb6fd65\n",
      "View: https://api.biosimulations.org/runs/66bb4819f29e09b32cb6fd65\n",
      "Downloads: https://api.biosimulations.org/results/66bb4819f29e09b32cb6fd65/download\n",
      "Logs: https://api.biosimulations.org/logs/66bb4819f29e09b32cb6fd65?includeOutput=true\n"
     ]
    },
    {
     "name": "stderr",
     "output_type": "stream",
     "text": [
      "pyNeuroML >>> DEBUG - Sim dict is: {'name': 'test', 'simulator': 'rbapy', 'simulatorVersion': '1.0.2', 'cpus': 1, 'memory': 8, 'maxTime': 20, 'envVars': [], 'purpose': 'academic', 'email': ''}\n",
      "pyNeuroML >>> DEBUG - simulation_run_request is {\"name\":\"test\",\"simulator\":\"rbapy\",\"simulatorVersion\":\"1.0.2\",\"maxTime\":20,\"cpus\":1,\"memory\":8,\"purpose\":\"academic\",\"email\":\"\",\"envVars\":[]}\n",
      "pyNeuroML >>> DEBUG - data is:\n",
      "{'file': ('LEMS_NML2_Ex9_FN_missing_xmlns.omex', <_io.BufferedReader name='LEMS_NML2_Ex9_FN_missing_xmlns.omex'>), 'simulationRun': (None, '{\"name\":\"test\",\"simulator\":\"rbapy\",\"simulatorVersion\":\"1.0.2\",\"maxTime\":20,\"cpus\":1,\"memory\":8,\"purpose\":\"academic\",\"email\":\"\",\"envVars\":[]}')}\n",
      "pyNeuroML >>> INFO - multipart encoded data is <MultipartEncoder: {'file': ('LEMS_NML2_Ex9_FN_missing_xmlns.omex', <_io.BufferedReader name='LEMS_NML2_Ex9_FN_missing_xmlns.omex'>), 'simulationRun': (None, '{\"name\":\"test\",\"simulator\":\"rbapy\",\"simulatorVersion\":\"1.0.2\",\"maxTime\":20,\"cpus\":1,\"memory\":8,\"purpose\":\"academic\",\"email\":\"\",\"envVars\":[]}')}>\n",
      "pyNeuroML >>> INFO - with content type: multipart/form-data; boundary=5baaa90850ee4d62ac95e31838da4244\n",
      "pyNeuroML >>> INFO - Submitting archive to biosimulations\n"
     ]
    },
    {
     "name": "stdout",
     "output_type": "stream",
     "text": [
      "Submitted LEMS_NML2_Ex9_FN_missing_xmlns.omex successfully with id: 66bb481bf29e09b32cb6fd77\n",
      "View: https://api.biosimulations.org/runs/66bb481bf29e09b32cb6fd77\n",
      "Downloads: https://api.biosimulations.org/results/66bb481bf29e09b32cb6fd77/download\n",
      "Logs: https://api.biosimulations.org/logs/66bb481bf29e09b32cb6fd77?includeOutput=true\n"
     ]
    },
    {
     "name": "stderr",
     "output_type": "stream",
     "text": [
      "pyNeuroML >>> DEBUG - Sim dict is: {'name': 'test', 'simulator': 'smoldyn', 'simulatorVersion': '2.72', 'cpus': 1, 'memory': 8, 'maxTime': 20, 'envVars': [], 'purpose': 'academic', 'email': ''}\n",
      "pyNeuroML >>> DEBUG - simulation_run_request is {\"name\":\"test\",\"simulator\":\"smoldyn\",\"simulatorVersion\":\"2.72\",\"maxTime\":20,\"cpus\":1,\"memory\":8,\"purpose\":\"academic\",\"email\":\"\",\"envVars\":[]}\n",
      "pyNeuroML >>> DEBUG - data is:\n",
      "{'file': ('LEMS_NML2_Ex9_FN_missing_xmlns.omex', <_io.BufferedReader name='LEMS_NML2_Ex9_FN_missing_xmlns.omex'>), 'simulationRun': (None, '{\"name\":\"test\",\"simulator\":\"smoldyn\",\"simulatorVersion\":\"2.72\",\"maxTime\":20,\"cpus\":1,\"memory\":8,\"purpose\":\"academic\",\"email\":\"\",\"envVars\":[]}')}\n",
      "pyNeuroML >>> INFO - multipart encoded data is <MultipartEncoder: {'file': ('LEMS_NML2_Ex9_FN_missing_xmlns.omex', <_io.BufferedReader name='LEMS_NML2_Ex9_FN_missing_xmlns.omex'>), 'simulationRun': (None, '{\"name\":\"test\",\"simulator\":\"smoldyn\",\"simulatorVersion\":\"2.72\",\"maxTime\":20,\"cpus\":1,\"memory\":8,\"purpose\":\"academic\",\"email\":\"\",\"envVars\":[]}')}>\n",
      "pyNeuroML >>> INFO - with content type: multipart/form-data; boundary=4510539d7b534c45874c59acfbdcdf5d\n",
      "pyNeuroML >>> INFO - Submitting archive to biosimulations\n"
     ]
    },
    {
     "name": "stdout",
     "output_type": "stream",
     "text": [
      "Submitted LEMS_NML2_Ex9_FN_missing_xmlns.omex successfully with id: 66bb481ea641708179ad1671\n",
      "View: https://api.biosimulations.org/runs/66bb481ea641708179ad1671\n",
      "Downloads: https://api.biosimulations.org/results/66bb481ea641708179ad1671/download\n",
      "Logs: https://api.biosimulations.org/logs/66bb481ea641708179ad1671?includeOutput=true\n"
     ]
    },
    {
     "name": "stderr",
     "output_type": "stream",
     "text": [
      "pyNeuroML >>> DEBUG - Sim dict is: {'name': 'test', 'simulator': 'tellurium', 'simulatorVersion': '2.2.8', 'cpus': 1, 'memory': 8, 'maxTime': 20, 'envVars': [], 'purpose': 'academic', 'email': ''}\n",
      "pyNeuroML >>> DEBUG - simulation_run_request is {\"name\":\"test\",\"simulator\":\"tellurium\",\"simulatorVersion\":\"2.2.8\",\"maxTime\":20,\"cpus\":1,\"memory\":8,\"purpose\":\"academic\",\"email\":\"\",\"envVars\":[]}\n",
      "pyNeuroML >>> DEBUG - data is:\n",
      "{'file': ('LEMS_NML2_Ex9_FN_missing_xmlns.omex', <_io.BufferedReader name='LEMS_NML2_Ex9_FN_missing_xmlns.omex'>), 'simulationRun': (None, '{\"name\":\"test\",\"simulator\":\"tellurium\",\"simulatorVersion\":\"2.2.8\",\"maxTime\":20,\"cpus\":1,\"memory\":8,\"purpose\":\"academic\",\"email\":\"\",\"envVars\":[]}')}\n",
      "pyNeuroML >>> INFO - multipart encoded data is <MultipartEncoder: {'file': ('LEMS_NML2_Ex9_FN_missing_xmlns.omex', <_io.BufferedReader name='LEMS_NML2_Ex9_FN_missing_xmlns.omex'>), 'simulationRun': (None, '{\"name\":\"test\",\"simulator\":\"tellurium\",\"simulatorVersion\":\"2.2.8\",\"maxTime\":20,\"cpus\":1,\"memory\":8,\"purpose\":\"academic\",\"email\":\"\",\"envVars\":[]}')}>\n",
      "pyNeuroML >>> INFO - with content type: multipart/form-data; boundary=7d34e66703f4436b992d01ae6f9caac4\n",
      "pyNeuroML >>> INFO - Submitting archive to biosimulations\n"
     ]
    },
    {
     "name": "stdout",
     "output_type": "stream",
     "text": [
      "Submitted LEMS_NML2_Ex9_FN_missing_xmlns.omex successfully with id: 66bb4820a641708179ad1674\n",
      "View: https://api.biosimulations.org/runs/66bb4820a641708179ad1674\n",
      "Downloads: https://api.biosimulations.org/results/66bb4820a641708179ad1674/download\n",
      "Logs: https://api.biosimulations.org/logs/66bb4820a641708179ad1674?includeOutput=true\n"
     ]
    },
    {
     "name": "stderr",
     "output_type": "stream",
     "text": [
      "pyNeuroML >>> DEBUG - Sim dict is: {'name': 'test', 'simulator': 'vcell', 'simulatorVersion': '7.5.0.99', 'cpus': 1, 'memory': 8, 'maxTime': 20, 'envVars': [], 'purpose': 'academic', 'email': ''}\n",
      "pyNeuroML >>> DEBUG - simulation_run_request is {\"name\":\"test\",\"simulator\":\"vcell\",\"simulatorVersion\":\"7.5.0.99\",\"maxTime\":20,\"cpus\":1,\"memory\":8,\"purpose\":\"academic\",\"email\":\"\",\"envVars\":[]}\n",
      "pyNeuroML >>> DEBUG - data is:\n",
      "{'file': ('LEMS_NML2_Ex9_FN_missing_xmlns.omex', <_io.BufferedReader name='LEMS_NML2_Ex9_FN_missing_xmlns.omex'>), 'simulationRun': (None, '{\"name\":\"test\",\"simulator\":\"vcell\",\"simulatorVersion\":\"7.5.0.99\",\"maxTime\":20,\"cpus\":1,\"memory\":8,\"purpose\":\"academic\",\"email\":\"\",\"envVars\":[]}')}\n",
      "pyNeuroML >>> INFO - multipart encoded data is <MultipartEncoder: {'file': ('LEMS_NML2_Ex9_FN_missing_xmlns.omex', <_io.BufferedReader name='LEMS_NML2_Ex9_FN_missing_xmlns.omex'>), 'simulationRun': (None, '{\"name\":\"test\",\"simulator\":\"vcell\",\"simulatorVersion\":\"7.5.0.99\",\"maxTime\":20,\"cpus\":1,\"memory\":8,\"purpose\":\"academic\",\"email\":\"\",\"envVars\":[]}')}>\n",
      "pyNeuroML >>> INFO - with content type: multipart/form-data; boundary=4eb251ba57e3405ebf954a697127d423\n",
      "pyNeuroML >>> INFO - Submitting archive to biosimulations\n"
     ]
    },
    {
     "name": "stdout",
     "output_type": "stream",
     "text": [
      "Submitted LEMS_NML2_Ex9_FN_missing_xmlns.omex successfully with id: 66bb48240c4ccdd491921d5e\n",
      "View: https://api.biosimulations.org/runs/66bb48240c4ccdd491921d5e\n",
      "Downloads: https://api.biosimulations.org/results/66bb48240c4ccdd491921d5e/download\n",
      "Logs: https://api.biosimulations.org/logs/66bb48240c4ccdd491921d5e?includeOutput=true\n"
     ]
    },
    {
     "name": "stderr",
     "output_type": "stream",
     "text": [
      "pyNeuroML >>> DEBUG - Sim dict is: {'name': 'test', 'simulator': 'xpp', 'simulatorVersion': '8.0', 'cpus': 1, 'memory': 8, 'maxTime': 20, 'envVars': [], 'purpose': 'academic', 'email': ''}\n",
      "pyNeuroML >>> DEBUG - simulation_run_request is {\"name\":\"test\",\"simulator\":\"xpp\",\"simulatorVersion\":\"8.0\",\"maxTime\":20,\"cpus\":1,\"memory\":8,\"purpose\":\"academic\",\"email\":\"\",\"envVars\":[]}\n",
      "pyNeuroML >>> DEBUG - data is:\n",
      "{'file': ('LEMS_NML2_Ex9_FN_missing_xmlns.omex', <_io.BufferedReader name='LEMS_NML2_Ex9_FN_missing_xmlns.omex'>), 'simulationRun': (None, '{\"name\":\"test\",\"simulator\":\"xpp\",\"simulatorVersion\":\"8.0\",\"maxTime\":20,\"cpus\":1,\"memory\":8,\"purpose\":\"academic\",\"email\":\"\",\"envVars\":[]}')}\n",
      "pyNeuroML >>> INFO - multipart encoded data is <MultipartEncoder: {'file': ('LEMS_NML2_Ex9_FN_missing_xmlns.omex', <_io.BufferedReader name='LEMS_NML2_Ex9_FN_missing_xmlns.omex'>), 'simulationRun': (None, '{\"name\":\"test\",\"simulator\":\"xpp\",\"simulatorVersion\":\"8.0\",\"maxTime\":20,\"cpus\":1,\"memory\":8,\"purpose\":\"academic\",\"email\":\"\",\"envVars\":[]}')}>\n",
      "pyNeuroML >>> INFO - with content type: multipart/form-data; boundary=73f4e7a2900f4bb38c20e8761f1b1a79\n",
      "pyNeuroML >>> INFO - Submitting archive to biosimulations\n"
     ]
    },
    {
     "name": "stdout",
     "output_type": "stream",
     "text": [
      "Submitted LEMS_NML2_Ex9_FN_missing_xmlns.omex successfully with id: 66bb4826f29e09b32cb6fdab\n",
      "View: https://api.biosimulations.org/runs/66bb4826f29e09b32cb6fdab\n",
      "Downloads: https://api.biosimulations.org/results/66bb4826f29e09b32cb6fdab/download\n",
      "Logs: https://api.biosimulations.org/logs/66bb4826f29e09b32cb6fdab?includeOutput=true\n",
      "Downloading amici results...\n",
      "Downloading brian2 results...\n",
      "Downloading bionetgen results...\n",
      "Downloading boolnet results...\n",
      "Downloading cbmpy results...\n",
      "Downloading cobrapy results...\n",
      "Downloading copasi results...\n",
      "Downloading gillespy2 results...\n",
      "Downloading ginsim results...\n",
      "Downloading libsbmlsim results...\n",
      "Downloading masspy results...\n",
      "Downloading netpyne results...\n",
      "Downloading neuron results...\n",
      "Downloading opencor results...\n",
      "Downloading pyneuroml results...\n",
      "Downloading pysces results...\n",
      "Downloading rbapy results...\n",
      "Downloading smoldyn results...\n",
      "Downloading tellurium results...\n",
      "Downloading vcell results...\n",
      "Downloading xpp results...\n",
      "Moving remote_results\\amici\\outputs\\tmp904901\\d1.pdf to d1_plots_remote\\amici_d1.pdf\n",
      "Moving remote_results\\bionetgen\\outputs\\tmp896149\\d1.pdf to d1_plots_remote\\bionetgen_d1.pdf\n",
      "Moving remote_results\\boolnet\\outputs\\tmp638536\\d1.pdf to d1_plots_remote\\boolnet_d1.pdf\n",
      "Moving remote_results\\cbmpy\\outputs\\tmp231472\\d1.pdf to d1_plots_remote\\cbmpy_d1.pdf\n",
      "Moving remote_results\\cobrapy\\outputs\\tmp607739\\d1.pdf to d1_plots_remote\\cobrapy_d1.pdf\n",
      "Moving remote_results\\copasi\\outputs\\tmp661623\\d1.pdf to d1_plots_remote\\copasi_d1.pdf\n",
      "Moving remote_results\\gillespy2\\outputs\\tmp345818\\d1.pdf to d1_plots_remote\\gillespy2_d1.pdf\n",
      "Moving remote_results\\ginsim\\outputs\\tmp721937\\d1.pdf to d1_plots_remote\\ginsim_d1.pdf\n",
      "Moving remote_results\\libsbmlsim\\outputs\\tmp543113\\d1.pdf to d1_plots_remote\\libsbmlsim_d1.pdf\n",
      "Moving remote_results\\masspy\\outputs\\tmp783032\\d1.pdf to d1_plots_remote\\masspy_d1.pdf\n",
      "Moving remote_results\\pysces\\outputs\\tmp449843\\d1.pdf to d1_plots_remote\\pysces_d1.pdf\n",
      "Moving remote_results\\rbapy\\outputs\\tmp868501\\d1.pdf to d1_plots_remote\\rbapy_d1.pdf\n",
      "Moving remote_results\\tellurium\\outputs\\tmp613094\\d1.pdf to d1_plots_remote\\tellurium_d1.pdf\n",
      "Removed remote_results folder\n",
      "Running amici\n",
      "Running brian2\n",
      "Running bionetgen\n",
      "Running boolnet\n",
      "Running cbmpy\n",
      "Running cobrapy\n",
      "Running copasi\n",
      "Running gillespy2\n",
      "Running ginsim\n",
      "Running libsbmlsim\n",
      "Running masspy\n",
      "Running netpyne\n",
      "Running neuron\n",
      "Running opencor\n",
      "Running pyneuroml\n",
      "Running pysces\n",
      "Running rbapy\n",
      "Running smoldyn\n",
      "Running tellurium\n",
      "Running vcell\n",
      "Running xpp\n",
      "Removed output folder\n"
     ]
    }
   ],
   "source": [
    "\n",
    "\n",
    "#########################################################################################\n",
    "# Run remotely\n",
    "#########################################################################################\n",
    "\n",
    "remote_output_dir = 'remote_results'\n",
    "\n",
    "download_links_dict = dict()\n",
    "for e in engines.keys():\n",
    "    download_link = utils.run_biosimulators_remote(e, sedml_filepath, sbml_filepath)\n",
    "    download_links_dict[e] = download_link\n",
    "\n",
    "extract_dir_dict = dict()\n",
    "for e, link in download_links_dict.items():\n",
    "    extract_dir = utils.get_remote_results(e, link, remote_output_dir)\n",
    "    extract_dir_dict[e] = extract_dir\n",
    "\n",
    "results_remote = dict()\n",
    "for e, extract_dir in extract_dir_dict.items():\n",
    "    status = \"\"\n",
    "    error_message = \"\"\n",
    "    exception_type = \"\"\n",
    "\n",
    "    log_yml_path = utils.find_file_in_dir('log.yml', extract_dir)[0]\n",
    "    if not log_yml_path:\n",
    "        status = None\n",
    "        error_message = 'log.yml not found'\n",
    "        continue\n",
    "    with open(log_yml_path) as f:\n",
    "        log_yml_dict = yaml.safe_load(f)\n",
    "        if log_yml_dict['status'] == 'SUCCEEDED':\n",
    "            status = 'pass'\n",
    "        elif log_yml_dict['status'] == 'FAILED':\n",
    "            status = 'FAIL'\n",
    "            exception = log_yml_dict['exception']\n",
    "            error_message = exception['message']\n",
    "            exception_type = exception['type'] \n",
    "        else:\n",
    "            status = None\n",
    "        results_remote[e] = [status, error_message, exception_type] \n",
    "\n",
    "file_paths = utils.find_files(remote_output_dir, '.pdf')\n",
    "utils.move_d1_files(file_paths, d1_plots_remote_dir)\n",
    "\n",
    "# remove the remote results directory\n",
    "if os.path.exists(remote_output_dir):\n",
    "    shutil.rmtree(remote_output_dir)\n",
    "    print('Removed ' + remote_output_dir + ' folder')\n",
    "\n",
    "#########################################################################################\n",
    "# Run locally\n",
    "#########################################################################################\n",
    "\n",
    "results_local = {}\n",
    "\n",
    "output_folder = 'output'\n",
    "\n",
    "for e in engines.keys():\n",
    "    print('Running ' + e)\n",
    "    output_dir = os.path.abspath(os.path.join(output_folder, e))\n",
    "    record = utils.run_biosimulators_docker(e, sedml_filepath, sbml_filepath, output_dir=output_dir)\n",
    "    results_local[e] = record\n",
    "\n",
    "file_paths = utils.find_files(output_folder, '.pdf')\n",
    "utils.move_d1_files(file_paths, d1_plots_local_dir)\n",
    "\n",
    "# if it exists remove the output folder\n",
    "if os.path.exists(output_folder):\n",
    "    shutil.rmtree(output_folder)\n",
    "    print('Removed ' + output_folder + ' folder')"
   ]
  },
  {
   "cell_type": "code",
   "execution_count": 3,
   "metadata": {},
   "outputs": [],
   "source": [
    "\n",
    "engines = {\n",
    "    'amici': {\n",
    "        'formats': ('sbml', 'sedml'),\n",
    "        'url': 'https://docs.biosimulators.org/Biosimulators_AMICI/',\n",
    "        'status': \"\"\n",
    "    },\n",
    "    'brian2': {\n",
    "        'formats': [('nml', 'sedml'), ('lems', 'sedml'), ('sbml', 'sedml')],\n",
    "        'url': 'https://docs.biosimulators.org/Biosimulators_pyNeuroML/',\n",
    "        'status': \"\"\n",
    "    },\n",
    "    'bionetgen': {\n",
    "        'formats': ('bngl', 'sedml'),\n",
    "        'url': 'https://docs.biosimulators.org/Biosimulators_BioNetGen/',\n",
    "        'status': \"\"\n",
    "    },\n",
    "    'boolnet': {\n",
    "        'formats': ('sbmlqual', 'sedml'),\n",
    "        'url': 'https://docs.biosimulators.org/Biosimulators_BoolNet/',\n",
    "        'status': \"\"\n",
    "    },\n",
    "    'cbmpy': {\n",
    "        'formats': ('sbml', 'sedml'),\n",
    "        'url': 'https://docs.biosimulators.org/Biosimulators_CBMPy/',\n",
    "        'status': \"\"\n",
    "    },\n",
    "    'cobrapy': {\n",
    "        'formats': ('sbml', 'sedml'),\n",
    "        'url': 'https://docs.biosimulators.org/Biosimulators_COBRApy/',\n",
    "        'status': \"Only allows steady state simulations\"\n",
    "    },\n",
    "    'copasi': {\n",
    "        'formats': ('sbml', 'sedml'),\n",
    "        'url': 'https://docs.biosimulators.org/Biosimulators_COPASI/',\n",
    "        'status': \"\"\n",
    "    },\n",
    "    'gillespy2': {\n",
    "        'formats': ('sbml', 'sedml'),\n",
    "        'url': 'https://docs.biosimulators.org/Biosimulators_GillesPy2/',\n",
    "        'status': \"\"\n",
    "    },\n",
    "    'ginsim': {\n",
    "        'formats': ('sbmlqual', 'sedml'),\n",
    "        'url': 'https://docs.biosimulators.org/Biosimulators_GINsim/',\n",
    "        'status': \"\"\n",
    "    },\n",
    "    'libsbmlsim': {\n",
    "        'formats': ('sbml', 'sedml'),\n",
    "        'url': 'https://docs.biosimulators.org/Biosimulators_LibSBMLSim/',\n",
    "        'status': \"\"\n",
    "    },\n",
    "    'masspy': {\n",
    "        'formats': ('sbml', 'sedml'),\n",
    "        'url': 'https://docs.biosimulators.org/Biosimulators_MASSpy/',\n",
    "        'status': \"\"\n",
    "    },\n",
    "    'netpyne': {\n",
    "        'formats': ('sbml', 'sedml'),\n",
    "        'url': 'https://docs.biosimulators.org/Biosimulators_pyNeuroML/',\n",
    "        'status': \"\"\n",
    "    },\n",
    "    'neuron': {\n",
    "        'formats': [('nml', 'sedml'), ('lems', 'sedml')],\n",
    "        'url': 'https://docs.biosimulators.org/Biosimulators_pyNeuroML/',\n",
    "        'status': \"\"\n",
    "    },\n",
    "    'opencor': {\n",
    "        'formats': ('cellml', 'sedml'),\n",
    "        'url': 'https://docs.biosimulators.org/Biosimulators_OpenCOR/',\n",
    "        'status': \"\"\n",
    "    },\n",
    "    'pyneuroml': {\n",
    "        'formats': [('nml', 'sedml'), ('lems', 'sedml')],\n",
    "        'url': 'https://docs.biosimulators.org/Biosimulators_pyNeuroML/',\n",
    "        'status': \"\"\n",
    "    },\n",
    "    'pysces': {\n",
    "        'formats': ('sbml', 'sedml'),\n",
    "        'url': 'https://docs.biosimulators.org/Biosimulators_PySCeS/',\n",
    "        'status': \"\"\n",
    "    },\n",
    "    'rbapy': {\n",
    "        'formats': ('rbapy', 'sedml'),\n",
    "        'url': 'https://docs.biosimulators.org/Biosimulators_RBApy/',\n",
    "        'status': \"\"\n",
    "    },\n",
    "    'smoldyn': {\n",
    "        'formats': None,\n",
    "        'url': 'https://smoldyn.readthedocs.io/en/latest/python/api.html#sed-ml-combine-biosimulators-api',\n",
    "        'status': \"\"\n",
    "    },\n",
    "    'tellurium': {\n",
    "        'formats': ('sbml', 'sedml'),\n",
    "        'url': 'https://docs.biosimulators.org/Biosimulators_tellurium/',\n",
    "        'status': \"\"\n",
    "    },\n",
    "    'vcell': {\n",
    "        'formats': [('sbml', 'sedml'),('bngl', 'sedml')],\n",
    "        'url': 'https://github.com/virtualcell/vcell',\n",
    "        'status': \"\"\n",
    "    },\n",
    "    'xpp': {\n",
    "        'formats': ('xpp', 'sedml'),\n",
    "        'url': 'https://docs.biosimulators.org/Biosimulators_XPP/',\n",
    "        'status': \"\"\n",
    "    }\n",
    "}"
   ]
  },
  {
   "cell_type": "code",
   "execution_count": 4,
   "metadata": {},
   "outputs": [
    {
     "data": {
      "text/markdown": [
       "## Compatibility Biosimulator engines (L = local, R = remote)"
      ]
     },
     "metadata": {},
     "output_type": "display_data"
    },
    {
     "data": {
      "text/markdown": [
       "|    | Engine                                                                                                                                     | pass / FAIL (R)                                                                                                                                                            | pass / FAIL (L)                                                                                                                                                            | Compat (R)                                                                                                                                                                                                                                                                                                                             | Compat (L)                                                                                                                                                                                                                                                                                                                             | Type (R)                                                               | Error (R)                                                                                                                                                                                                                                                                                                                                                                                                                                                          | Error (L)                                                                                                                                                   | d1 (R)                                               | d1 (L)                                              |\n",
       "|---:|:-------------------------------------------------------------------------------------------------------------------------------------------|:---------------------------------------------------------------------------------------------------------------------------------------------------------------------------|:---------------------------------------------------------------------------------------------------------------------------------------------------------------------------|:---------------------------------------------------------------------------------------------------------------------------------------------------------------------------------------------------------------------------------------------------------------------------------------------------------------------------------------|:---------------------------------------------------------------------------------------------------------------------------------------------------------------------------------------------------------------------------------------------------------------------------------------------------------------------------------------|:-----------------------------------------------------------------------|:-------------------------------------------------------------------------------------------------------------------------------------------------------------------------------------------------------------------------------------------------------------------------------------------------------------------------------------------------------------------------------------------------------------------------------------------------------------------|:------------------------------------------------------------------------------------------------------------------------------------------------------------|:-----------------------------------------------------|:----------------------------------------------------|\n",
       "|  0 | <details><summary>amici</summary>https://docs.biosimulators.org/Biosimulators_AMICI/<br></details>                                         | <img src=https://via.placeholder.com/15/00dd00/00dd00.png/> pass                                                                                                           | <span style=\"color:darkred;\">                                                                      <img src=https://via.placeholder.com/15/dd0000/dd0000.png/> FAIL</span> | <img src=https://via.placeholder.com/15/00dd00/00dd00.png/><details><summary>pass</summary>The file extensions suggest the input file types are '['SBML', 'SED-ML']'. These are compatible with amici</details>                                                                                                                        | <img src=https://via.placeholder.com/15/00dd00/00dd00.png/><details><summary>pass</summary>The file extensions suggest the input file types are '['SBML', 'SED-ML']'. These are compatible with amici</details>                                                                                                                        |                                                                        |                                                                                                                                                                                                                                                                                                                                                                                                                                                                    | <details><summary>Details</summary>```Error while fetching server API version: (2, 'CreateFile', 'The system cannot find the file specified.')```</details> | <a href=\"d1_plots_remote\\amici_d1.pdf\">plot</a>      | <a href=\"d1_plots_local\\amici_d1.pdf\">plot</a>      |\n",
       "|  1 | <details><summary>bionetgen</summary>https://docs.biosimulators.org/Biosimulators_BioNetGen/<br></details>                                 | <span style=\"color:darkred;\">                                                                      <img src=https://via.placeholder.com/15/dd0000/dd0000.png/> FAIL</span> | <span style=\"color:darkred;\">                                                                      <img src=https://via.placeholder.com/15/dd0000/dd0000.png/> FAIL</span> | <span style=\"color:darkred;\"><img src=https://via.placeholder.com/15/dd0000/dd0000.png/> <details><summary>FAIL</summary>The file extensions suggest the input file types are '['SBML', 'SED-ML']'. Tese are not compatible with bionetgen. The following file types will be compatible ['BNGL', 'SED-ML']</details></span>            | <span style=\"color:darkred;\"><img src=https://via.placeholder.com/15/dd0000/dd0000.png/> <details><summary>FAIL</summary>The file extensions suggest the input file types are '['SBML', 'SED-ML']'. Tese are not compatible with bionetgen. The following file types will be compatible ['BNGL', 'SED-ML']</details></span>            | <details><summary>CAEE</summary>CombineArchiveExecutionError</details> | <details><summary>Details</summary><span style=\"color:red;\">The COMBINE/OMEX did not execute successfully:<br><br>  The SED document did not execute successfully:<br>  <br>    Language for model `net1` is not supported.<br>      - Model language `urn:sedml:language:sbml` is not supported. Models must be in BNGL format (e.g., `sed:model/@language` must match `^urn:sedml:language:bngl(\\.$)` such as `urn:sedml:language:bngl`).</details>              | <details><summary>Details</summary>```Error while fetching server API version: (2, 'CreateFile', 'The system cannot find the file specified.')```</details> | <a href=\"d1_plots_remote\\bionetgen_d1.pdf\">plot</a>  | <a href=\"d1_plots_local\\bionetgen_d1.pdf\">plot</a>  |\n",
       "|  2 | <details><summary>boolnet</summary>https://docs.biosimulators.org/Biosimulators_BoolNet/<br></details>                                     | <span style=\"color:darkred;\">                                                                      <img src=https://via.placeholder.com/15/dd0000/dd0000.png/> FAIL</span> | <span style=\"color:darkred;\">                                                                      <img src=https://via.placeholder.com/15/dd0000/dd0000.png/> FAIL</span> | <span style=\"color:darkred;\"><img src=https://via.placeholder.com/15/dd0000/dd0000.png/> <details><summary>FAIL</summary>The file extensions suggest the input file types are '['SBML', 'SED-ML']'. Tese are not compatible with boolnet. The following file types will be compatible ['SBML-qual', 'SED-ML']</details></span>         | <span style=\"color:darkred;\"><img src=https://via.placeholder.com/15/dd0000/dd0000.png/> <details><summary>FAIL</summary>The file extensions suggest the input file types are '['SBML', 'SED-ML']'. Tese are not compatible with boolnet. The following file types will be compatible ['SBML-qual', 'SED-ML']</details></span>         | <details><summary>CAEE</summary>CombineArchiveExecutionError</details> | <details><summary>Details</summary><span style=\"color:red;\">The COMBINE/OMEX did not execute successfully:<br><br>  The SED document did not execute successfully:<br>  <br>    Simulation `sim1` is invalid.<br>      - Number of points (20000) must be equal to the difference between the output end (200.0) and start times (0.0).</details>                                                                                                                  | <details><summary>Details</summary>```Error while fetching server API version: (2, 'CreateFile', 'The system cannot find the file specified.')```</details> | <a href=\"d1_plots_remote\\boolnet_d1.pdf\">plot</a>    | <a href=\"d1_plots_local\\boolnet_d1.pdf\">plot</a>    |\n",
       "|  3 | <details><summary>brian2</summary>https://docs.biosimulators.org/Biosimulators_pyNeuroML/<br></details>                                    | <span style=\"color:darkred;\">                                                                      <img src=https://via.placeholder.com/15/dd0000/dd0000.png/> FAIL</span> | <span style=\"color:darkred;\">                                                                      <img src=https://via.placeholder.com/15/dd0000/dd0000.png/> FAIL</span> | <img src=https://via.placeholder.com/15/00dd00/00dd00.png/><details><summary>pass</summary>The file extensions suggest the input file types are '['SBML', 'SED-ML']'. These are compatible with brian2</details>                                                                                                                       | <img src=https://via.placeholder.com/15/00dd00/00dd00.png/><details><summary>pass</summary>The file extensions suggest the input file types are '['SBML', 'SED-ML']'. These are compatible with brian2</details>                                                                                                                       | <details><summary>MNFE</summary>ModuleNotFoundError</details>          | <details><summary>Details</summary>No module named 'libsbml'</details>                                                                                                                                                                                                                                                                                                                                                                                             | <details><summary>Details</summary>```Error while fetching server API version: (2, 'CreateFile', 'The system cannot find the file specified.')```</details> |                                                      |                                                     |\n",
       "|  4 | <details><summary>cbmpy</summary>https://docs.biosimulators.org/Biosimulators_CBMPy/<br></details>                                         | <span style=\"color:darkred;\">                                                                      <img src=https://via.placeholder.com/15/dd0000/dd0000.png/> FAIL</span> | <span style=\"color:darkred;\">                                                                      <img src=https://via.placeholder.com/15/dd0000/dd0000.png/> FAIL</span> | <img src=https://via.placeholder.com/15/00dd00/00dd00.png/><details><summary>pass</summary>The file extensions suggest the input file types are '['SBML', 'SED-ML']'. These are compatible with cbmpy</details>                                                                                                                        | <img src=https://via.placeholder.com/15/00dd00/00dd00.png/><details><summary>pass</summary>The file extensions suggest the input file types are '['SBML', 'SED-ML']'. These are compatible with cbmpy</details>                                                                                                                        | <details><summary>CAEE</summary>CombineArchiveExecutionError</details> | <details><summary>Details</summary><span style=\"color:red;\">The COMBINE/OMEX did not execute successfully:<br><br>  The SED document did not execute successfully:<br>  <br>    UniformTimeCourseSimulation `sim1` is not supported.<br>      - Simulation sim1 of type `UniformTimeCourseSimulation` is not supported. Simulation must be an instance of one of the following:<br>          - SteadyStateSimulation</details>                                     | <details><summary>Details</summary>```Error while fetching server API version: (2, 'CreateFile', 'The system cannot find the file specified.')```</details> | <a href=\"d1_plots_remote\\cbmpy_d1.pdf\">plot</a>      | <a href=\"d1_plots_local\\cbmpy_d1.pdf\">plot</a>      |\n",
       "|  5 | <details><summary>cobrapy</summary>https://docs.biosimulators.org/Biosimulators_COBRApy/<br>Only allows steady state simulations</details> | <span style=\"color:darkred;\">                                                                      <img src=https://via.placeholder.com/15/dd0000/dd0000.png/> FAIL</span> | <span style=\"color:darkred;\">                                                                      <img src=https://via.placeholder.com/15/dd0000/dd0000.png/> FAIL</span> | <img src=https://via.placeholder.com/15/00dd00/00dd00.png/><details><summary>pass</summary>The file extensions suggest the input file types are '['SBML', 'SED-ML']'. These are compatible with cobrapy</details>                                                                                                                      | <img src=https://via.placeholder.com/15/00dd00/00dd00.png/><details><summary>pass</summary>The file extensions suggest the input file types are '['SBML', 'SED-ML']'. These are compatible with cobrapy</details>                                                                                                                      | <details><summary>CAEE</summary>CombineArchiveExecutionError</details> | <details><summary>Details</summary><span style=\"color:red;\">The COMBINE/OMEX did not execute successfully:<br><br>  The SED document did not execute successfully:<br>  <br>    UniformTimeCourseSimulation `sim1` is not supported.<br>      - Simulation sim1 of type `UniformTimeCourseSimulation` is not supported. Simulation must be an instance of one of the following:<br>          - SteadyStateSimulation</details>                                     | <details><summary>Details</summary>```Error while fetching server API version: (2, 'CreateFile', 'The system cannot find the file specified.')```</details> | <a href=\"d1_plots_remote\\cobrapy_d1.pdf\">plot</a>    | <a href=\"d1_plots_local\\cobrapy_d1.pdf\">plot</a>    |\n",
       "|  6 | <details><summary>copasi</summary>https://docs.biosimulators.org/Biosimulators_COPASI/<br></details>                                       | <span style=\"color:darkred;\">                                                                      <img src=https://via.placeholder.com/15/dd0000/dd0000.png/> FAIL</span> | <span style=\"color:darkred;\">                                                                      <img src=https://via.placeholder.com/15/dd0000/dd0000.png/> FAIL</span> | <img src=https://via.placeholder.com/15/00dd00/00dd00.png/><details><summary>pass</summary>The file extensions suggest the input file types are '['SBML', 'SED-ML']'. These are compatible with copasi</details>                                                                                                                       | <img src=https://via.placeholder.com/15/00dd00/00dd00.png/><details><summary>pass</summary>The file extensions suggest the input file types are '['SBML', 'SED-ML']'. These are compatible with copasi</details>                                                                                                                       | <details><summary>CAEE</summary>CombineArchiveExecutionError</details> | <details><summary>Details</summary><span style=\"color:red;\">The COMBINE/OMEX did not execute successfully:<br><br>  The SED document did not execute successfully:<br>  <br>    could not convert string to float: 'Values[V]'</details>                                                                                                                                                                                                                           | <details><summary>Details</summary>```Error while fetching server API version: (2, 'CreateFile', 'The system cannot find the file specified.')```</details> | <a href=\"d1_plots_remote\\copasi_d1.pdf\">plot</a>     | <a href=\"d1_plots_local\\copasi_d1.pdf\">plot</a>     |\n",
       "|  7 | <details><summary>gillespy2</summary>https://docs.biosimulators.org/Biosimulators_GillesPy2/<br></details>                                 | <img src=https://via.placeholder.com/15/00dd00/00dd00.png/> pass                                                                                                           | <span style=\"color:darkred;\">                                                                      <img src=https://via.placeholder.com/15/dd0000/dd0000.png/> FAIL</span> | <img src=https://via.placeholder.com/15/00dd00/00dd00.png/><details><summary>pass</summary>The file extensions suggest the input file types are '['SBML', 'SED-ML']'. These are compatible with gillespy2</details>                                                                                                                    | <img src=https://via.placeholder.com/15/00dd00/00dd00.png/><details><summary>pass</summary>The file extensions suggest the input file types are '['SBML', 'SED-ML']'. These are compatible with gillespy2</details>                                                                                                                    |                                                                        |                                                                                                                                                                                                                                                                                                                                                                                                                                                                    | <details><summary>Details</summary>```Error while fetching server API version: (2, 'CreateFile', 'The system cannot find the file specified.')```</details> | <a href=\"d1_plots_remote\\gillespy2_d1.pdf\">plot</a>  | <a href=\"d1_plots_local\\gillespy2_d1.pdf\">plot</a>  |\n",
       "|  8 | <details><summary>ginsim</summary>https://docs.biosimulators.org/Biosimulators_GINsim/<br></details>                                       | <span style=\"color:darkred;\">                                                                      <img src=https://via.placeholder.com/15/dd0000/dd0000.png/> FAIL</span> | <span style=\"color:darkred;\">                                                                      <img src=https://via.placeholder.com/15/dd0000/dd0000.png/> FAIL</span> | <span style=\"color:darkred;\"><img src=https://via.placeholder.com/15/dd0000/dd0000.png/> <details><summary>FAIL</summary>The file extensions suggest the input file types are '['SBML', 'SED-ML']'. Tese are not compatible with ginsim. The following file types will be compatible ['SBML-qual', 'SED-ML']</details></span>          | <span style=\"color:darkred;\"><img src=https://via.placeholder.com/15/dd0000/dd0000.png/> <details><summary>FAIL</summary>The file extensions suggest the input file types are '['SBML', 'SED-ML']'. Tese are not compatible with ginsim. The following file types will be compatible ['SBML-qual', 'SED-ML']</details></span>          | <details><summary>CAEE</summary>CombineArchiveExecutionError</details> | <details><summary>Details</summary><span style=\"color:red;\">The COMBINE/OMEX did not execute successfully:<br><br>  The SED document did not execute successfully:<br>  <br>    Simulation `sim1` is invalid.<br>      - The interval between the output start and time time must be an integer multiple of the number of steps, not `0.01`:<br>          Output start time: 0.0<br>          Output end time: 200.0<br>          Number of steps: 20000</details> | <details><summary>Details</summary>```Error while fetching server API version: (2, 'CreateFile', 'The system cannot find the file specified.')```</details> | <a href=\"d1_plots_remote\\ginsim_d1.pdf\">plot</a>     | <a href=\"d1_plots_local\\ginsim_d1.pdf\">plot</a>     |\n",
       "|  9 | <details><summary>libsbmlsim</summary>https://docs.biosimulators.org/Biosimulators_LibSBMLSim/<br></details>                               | <img src=https://via.placeholder.com/15/00dd00/00dd00.png/> pass                                                                                                           | <span style=\"color:darkred;\">                                                                      <img src=https://via.placeholder.com/15/dd0000/dd0000.png/> FAIL</span> | <img src=https://via.placeholder.com/15/00dd00/00dd00.png/><details><summary>pass</summary>The file extensions suggest the input file types are '['SBML', 'SED-ML']'. These are compatible with libsbmlsim</details>                                                                                                                   | <img src=https://via.placeholder.com/15/00dd00/00dd00.png/><details><summary>pass</summary>The file extensions suggest the input file types are '['SBML', 'SED-ML']'. These are compatible with libsbmlsim</details>                                                                                                                   |                                                                        |                                                                                                                                                                                                                                                                                                                                                                                                                                                                    | <details><summary>Details</summary>```Error while fetching server API version: (2, 'CreateFile', 'The system cannot find the file specified.')```</details> | <a href=\"d1_plots_remote\\libsbmlsim_d1.pdf\">plot</a> | <a href=\"d1_plots_local\\libsbmlsim_d1.pdf\">plot</a> |\n",
       "| 10 | <details><summary>masspy</summary>https://docs.biosimulators.org/Biosimulators_MASSpy/<br></details>                                       | <span style=\"color:darkred;\">                                                                      <img src=https://via.placeholder.com/15/dd0000/dd0000.png/> FAIL</span> | <span style=\"color:darkred;\">                                                                      <img src=https://via.placeholder.com/15/dd0000/dd0000.png/> FAIL</span> | <img src=https://via.placeholder.com/15/00dd00/00dd00.png/><details><summary>pass</summary>The file extensions suggest the input file types are '['SBML', 'SED-ML']'. These are compatible with masspy</details>                                                                                                                       | <img src=https://via.placeholder.com/15/00dd00/00dd00.png/><details><summary>pass</summary>The file extensions suggest the input file types are '['SBML', 'SED-ML']'. These are compatible with masspy</details>                                                                                                                       | <details><summary>CAEE</summary>CombineArchiveExecutionError</details> | <details><summary>Details</summary><span style=\"color:red;\">The COMBINE/OMEX did not execute successfully:<br><br>  The SED document did not execute successfully:<br>  <br>    Something went wrong reading the SBML model. Most likely the SBML model is not valid. Please check that your model is valid using the `mass.io.sbml.validate_sbml_model` function or via the online validator at http://sbml.org/validator .<br>    \t`(model, errors) = validate_sbml_model(filename)`<br>    If the model is valid and cannot be read please open an issue at https://github.com/SBRG/masspy/issues .</details>                                                                                                                                                                                                                                                                                                                                                                                                                                                                    | <details><summary>Details</summary>```Error while fetching server API version: (2, 'CreateFile', 'The system cannot find the file specified.')```</details> | <a href=\"d1_plots_remote\\masspy_d1.pdf\">plot</a>     | <a href=\"d1_plots_local\\masspy_d1.pdf\">plot</a>     |\n",
       "| 11 | <details><summary>netpyne</summary>https://docs.biosimulators.org/Biosimulators_pyNeuroML/<br></details>                                   | <span style=\"color:darkred;\">                                                                      <img src=https://via.placeholder.com/15/dd0000/dd0000.png/> FAIL</span> | <span style=\"color:darkred;\">                                                                      <img src=https://via.placeholder.com/15/dd0000/dd0000.png/> FAIL</span> | <img src=https://via.placeholder.com/15/00dd00/00dd00.png/><details><summary>pass</summary>The file extensions suggest the input file types are '['SBML', 'SED-ML']'. These are compatible with netpyne</details>                                                                                                                      | <img src=https://via.placeholder.com/15/00dd00/00dd00.png/><details><summary>pass</summary>The file extensions suggest the input file types are '['SBML', 'SED-ML']'. These are compatible with netpyne</details>                                                                                                                      | <details><summary>MNFE</summary>ModuleNotFoundError</details>          | <details><summary>Details</summary>No module named 'libsbml'</details>                                                                                                                                                                                                                                                                                                                                                                                             | <details><summary>Details</summary>```Error while fetching server API version: (2, 'CreateFile', 'The system cannot find the file specified.')```</details> |                                                      |                                                     |\n",
       "| 12 | <details><summary>neuron</summary>https://docs.biosimulators.org/Biosimulators_pyNeuroML/<br></details>                                    | <span style=\"color:darkred;\">                                                                      <img src=https://via.placeholder.com/15/dd0000/dd0000.png/> FAIL</span> | <span style=\"color:darkred;\">                                                                      <img src=https://via.placeholder.com/15/dd0000/dd0000.png/> FAIL</span> | <span style=\"color:darkred;\"><img src=https://via.placeholder.com/15/dd0000/dd0000.png/> <details><summary>FAIL</summary>The file extensions suggest the input file types are '['SBML', 'SED-ML']'. Tese are not compatible with neuron. The following file types will be compatible ['NeuroML', 'LEMS', 'SED-ML']</details></span>    | <span style=\"color:darkred;\"><img src=https://via.placeholder.com/15/dd0000/dd0000.png/> <details><summary>FAIL</summary>The file extensions suggest the input file types are '['SBML', 'SED-ML']'. Tese are not compatible with neuron. The following file types will be compatible ['NeuroML', 'LEMS', 'SED-ML']</details></span>    | <details><summary>MNFE</summary>ModuleNotFoundError</details>          | <details><summary>Details</summary>No module named 'libsbml'</details>                                                                                                                                                                                                                                                                                                                                                                                             | <details><summary>Details</summary>```Error while fetching server API version: (2, 'CreateFile', 'The system cannot find the file specified.')```</details> |                                                      |                                                     |\n",
       "| 13 | <details><summary>opencor</summary>https://docs.biosimulators.org/Biosimulators_OpenCOR/<br></details>                                     | <span style=\"color:darkred;\">                                                                      <img src=https://via.placeholder.com/15/dd0000/dd0000.png/> FAIL</span> | <span style=\"color:darkred;\">                                                                      <img src=https://via.placeholder.com/15/dd0000/dd0000.png/> FAIL</span> | <span style=\"color:darkred;\"><img src=https://via.placeholder.com/15/dd0000/dd0000.png/> <details><summary>FAIL</summary>The file extensions suggest the input file types are '['SBML', 'SED-ML']'. Tese are not compatible with opencor. The following file types will be compatible ['CellML', 'SED-ML']</details></span>            | <span style=\"color:darkred;\"><img src=https://via.placeholder.com/15/dd0000/dd0000.png/> <details><summary>FAIL</summary>The file extensions suggest the input file types are '['SBML', 'SED-ML']'. Tese are not compatible with opencor. The following file types will be compatible ['CellML', 'SED-ML']</details></span>            | <details><summary>MNFE</summary>ModuleNotFoundError</details>          | <details><summary>Details</summary>No module named 'libsbml'</details>                                                                                                                                                                                                                                                                                                                                                                                             | <details><summary>Details</summary>```Error while fetching server API version: (2, 'CreateFile', 'The system cannot find the file specified.')```</details> |                                                      |                                                     |\n",
       "| 14 | <details><summary>pyneuroml</summary>https://docs.biosimulators.org/Biosimulators_pyNeuroML/<br></details>                                 | <span style=\"color:darkred;\">                                                                      <img src=https://via.placeholder.com/15/dd0000/dd0000.png/> FAIL</span> | <span style=\"color:darkred;\">                                                                      <img src=https://via.placeholder.com/15/dd0000/dd0000.png/> FAIL</span> | <span style=\"color:darkred;\"><img src=https://via.placeholder.com/15/dd0000/dd0000.png/> <details><summary>FAIL</summary>The file extensions suggest the input file types are '['SBML', 'SED-ML']'. Tese are not compatible with pyneuroml. The following file types will be compatible ['NeuroML', 'LEMS', 'SED-ML']</details></span> | <span style=\"color:darkred;\"><img src=https://via.placeholder.com/15/dd0000/dd0000.png/> <details><summary>FAIL</summary>The file extensions suggest the input file types are '['SBML', 'SED-ML']'. Tese are not compatible with pyneuroml. The following file types will be compatible ['NeuroML', 'LEMS', 'SED-ML']</details></span> | <details><summary>MNFE</summary>ModuleNotFoundError</details>          | <details><summary>Details</summary>No module named 'libsbml'</details>                                                                                                                                                                                                                                                                                                                                                                                             | <details><summary>Details</summary>```Error while fetching server API version: (2, 'CreateFile', 'The system cannot find the file specified.')```</details> |                                                      |                                                     |\n",
       "| 15 | <details><summary>pysces</summary>https://docs.biosimulators.org/Biosimulators_PySCeS/<br></details>                                       | <span style=\"color:darkred;\">                                                                      <img src=https://via.placeholder.com/15/dd0000/dd0000.png/> FAIL</span> | <span style=\"color:darkred;\">                                                                      <img src=https://via.placeholder.com/15/dd0000/dd0000.png/> FAIL</span> | <img src=https://via.placeholder.com/15/00dd00/00dd00.png/><details><summary>pass</summary>The file extensions suggest the input file types are '['SBML', 'SED-ML']'. These are compatible with pysces</details>                                                                                                                       | <img src=https://via.placeholder.com/15/00dd00/00dd00.png/><details><summary>pass</summary>The file extensions suggest the input file types are '['SBML', 'SED-ML']'. These are compatible with pysces</details>                                                                                                                       | <details><summary>CAEE</summary>CombineArchiveExecutionError</details> | <details><summary>Details</summary><span style=\"color:red;\">The COMBINE/OMEX did not execute successfully:<br><br>  The SED document did not execute successfully:<br>  <br>    Model at /tmp/tmpr_05sxok/./LEMS_NML2_Ex9_FN.sbml could not be imported:<br>      <br>      File /tmp/tmpr_05sxok/./LEMS_NML2_Ex9_FN.sbml.xml does not exist</details>                                                                                                             | <details><summary>Details</summary>```Error while fetching server API version: (2, 'CreateFile', 'The system cannot find the file specified.')```</details> | <a href=\"d1_plots_remote\\pysces_d1.pdf\">plot</a>     | <a href=\"d1_plots_local\\pysces_d1.pdf\">plot</a>     |\n",
       "| 16 | <details><summary>rbapy</summary>https://docs.biosimulators.org/Biosimulators_RBApy/<br></details>                                         | <span style=\"color:darkred;\">                                                                      <img src=https://via.placeholder.com/15/dd0000/dd0000.png/> FAIL</span> | <span style=\"color:darkred;\">                                                                      <img src=https://via.placeholder.com/15/dd0000/dd0000.png/> FAIL</span> | <span style=\"color:darkred;\"><img src=https://via.placeholder.com/15/dd0000/dd0000.png/> <details><summary>FAIL</summary>The file extensions suggest the input file types are '['SBML', 'SED-ML']'. Tese are not compatible with rbapy. The following file types will be compatible ['RBApy', 'SED-ML']</details></span>               | <span style=\"color:darkred;\"><img src=https://via.placeholder.com/15/dd0000/dd0000.png/> <details><summary>FAIL</summary>The file extensions suggest the input file types are '['SBML', 'SED-ML']'. Tese are not compatible with rbapy. The following file types will be compatible ['RBApy', 'SED-ML']</details></span>               | <details><summary>CAEE</summary>CombineArchiveExecutionError</details> | <details><summary>Details</summary><span style=\"color:red;\">The COMBINE/OMEX did not execute successfully:<br><br>  The SED document did not execute successfully:<br>  <br>    Language for model `net1` is not supported.<br>      - Model language `urn:sedml:language:sbml` is not supported. Models must be in RBA format (e.g., `sed:model/@language` must match `^urn:sedml:language:rba(\\.$)` such as `urn:sedml:language:rba`).</details>                 | <details><summary>Details</summary>```Error while fetching server API version: (2, 'CreateFile', 'The system cannot find the file specified.')```</details> | <a href=\"d1_plots_remote\\rbapy_d1.pdf\">plot</a>      | <a href=\"d1_plots_local\\rbapy_d1.pdf\">plot</a>      |\n",
       "| 17 | <details><summary>smoldyn</summary>https://smoldyn.readthedocs.io/en/latest/python/api.html#sed-ml-combine-biosimulators-api<br></details> | <span style=\"color:darkred;\">                                                                      <img src=https://via.placeholder.com/15/dd0000/dd0000.png/> FAIL</span> | <span style=\"color:darkred;\">                                                                      <img src=https://via.placeholder.com/15/dd0000/dd0000.png/> FAIL</span> | <span style=\"color:darkred;\"><img src=https://via.placeholder.com/15/dd0000/dd0000.png/> <details><summary>FAIL</summary>smoldyn compatible file types unknown.</details></span>                                                                                                                                                       | <span style=\"color:darkred;\"><img src=https://via.placeholder.com/15/dd0000/dd0000.png/> <details><summary>FAIL</summary>smoldyn compatible file types unknown.</details></span>                                                                                                                                                       | <details><summary>MNFE</summary>ModuleNotFoundError</details>          | <details><summary>Details</summary>No module named 'libsbml'</details>                                                                                                                                                                                                                                                                                                                                                                                             | <details><summary>Details</summary>```Error while fetching server API version: (2, 'CreateFile', 'The system cannot find the file specified.')```</details> |                                                      |                                                     |\n",
       "| 18 | <details><summary>tellurium</summary>https://docs.biosimulators.org/Biosimulators_tellurium/<br></details>                                 | <img src=https://via.placeholder.com/15/00dd00/00dd00.png/> pass                                                                                                           | <span style=\"color:darkred;\">                                                                      <img src=https://via.placeholder.com/15/dd0000/dd0000.png/> FAIL</span> | <img src=https://via.placeholder.com/15/00dd00/00dd00.png/><details><summary>pass</summary>The file extensions suggest the input file types are '['SBML', 'SED-ML']'. These are compatible with tellurium</details>                                                                                                                    | <img src=https://via.placeholder.com/15/00dd00/00dd00.png/><details><summary>pass</summary>The file extensions suggest the input file types are '['SBML', 'SED-ML']'. These are compatible with tellurium</details>                                                                                                                    |                                                                        |                                                                                                                                                                                                                                                                                                                                                                                                                                                                    | <details><summary>Details</summary>```Error while fetching server API version: (2, 'CreateFile', 'The system cannot find the file specified.')```</details> | <a href=\"d1_plots_remote\\tellurium_d1.pdf\">plot</a>  | <a href=\"d1_plots_local\\tellurium_d1.pdf\">plot</a>  |\n",
       "| 19 | <details><summary>vcell</summary>https://github.com/virtualcell/vcell<br></details>                                                        | <img src=https://via.placeholder.com/15/00dd00/00dd00.png/> pass                                                                                                           | <span style=\"color:darkred;\">                                                                      <img src=https://via.placeholder.com/15/dd0000/dd0000.png/> FAIL</span> | <img src=https://via.placeholder.com/15/00dd00/00dd00.png/><details><summary>pass</summary>The file extensions suggest the input file types are '['SBML', 'SED-ML']'. These are compatible with vcell</details>                                                                                                                        | <img src=https://via.placeholder.com/15/00dd00/00dd00.png/><details><summary>pass</summary>The file extensions suggest the input file types are '['SBML', 'SED-ML']'. These are compatible with vcell</details>                                                                                                                        |                                                                        |                                                                                                                                                                                                                                                                                                                                                                                                                                                                    | <details><summary>Details</summary>```Error while fetching server API version: (2, 'CreateFile', 'The system cannot find the file specified.')```</details> |                                                      |                                                     |\n",
       "| 20 | <details><summary>xpp</summary>https://docs.biosimulators.org/Biosimulators_XPP/<br></details>                                             | <span style=\"color:darkred;\">                                                                      <img src=https://via.placeholder.com/15/dd0000/dd0000.png/> FAIL</span> | <span style=\"color:darkred;\">                                                                      <img src=https://via.placeholder.com/15/dd0000/dd0000.png/> FAIL</span> | <span style=\"color:darkred;\"><img src=https://via.placeholder.com/15/dd0000/dd0000.png/> <details><summary>FAIL</summary>The file extensions suggest the input file types are '['SBML', 'SED-ML']'. Tese are not compatible with xpp. The following file types will be compatible ['XPP', 'SED-ML']</details></span>                   | <span style=\"color:darkred;\"><img src=https://via.placeholder.com/15/dd0000/dd0000.png/> <details><summary>FAIL</summary>The file extensions suggest the input file types are '['SBML', 'SED-ML']'. Tese are not compatible with xpp. The following file types will be compatible ['XPP', 'SED-ML']</details></span>                   | <details><summary>MNFE</summary>ModuleNotFoundError</details>          | <details><summary>Details</summary>No module named 'libsbml'</details>                                                                                                                                                                                                                                                                                                                                                                                             | <details><summary>Details</summary>```Error while fetching server API version: (2, 'CreateFile', 'The system cannot find the file specified.')```</details> |                                                      |                                                     |"
      ]
     },
     "metadata": {},
     "output_type": "display_data"
    }
   ],
   "source": [
    "import re\n",
    "\n",
    "def create_results_table(results, types_dict, sbml_filepath, sedml_filepath, engines, output_dir):\n",
    "    \"\"\"\n",
    "    Create a markdown table of the results.\n",
    "    \n",
    "    Input: results, types_dict, sbml_filepath, sedml_filepath, engines, output_dir\n",
    "    Output: results_md_table\n",
    "\n",
    "    \"\"\"\n",
    "    \n",
    "    link_green_square = \"https://via.placeholder.com/15/00dd00/00dd00.png\"\n",
    "    link_orange_square = \"https://via.placeholder.com/15/ec9706/ec9706.png\"\n",
    "    link_red_square = \"https://via.placeholder.com/15/dd0000/dd0000.png\"\n",
    "\n",
    "    # Create a table of the results\n",
    "    results_table = pd.DataFrame.from_dict(results).T\n",
    "    # if list is three elements \n",
    "    if results_table.shape[1] == 3:\n",
    "        results_table.columns = ['pass / FAIL', 'Error', 'Type']\n",
    "    elif results_table.shape[1] == 2:\n",
    "        results_table.columns = ['pass / FAIL', 'Error']\n",
    "   \n",
    "    results_table.index.name = 'Engine'\n",
    "    results_table.reset_index(inplace=True)\n",
    "    \n",
    "    # Error\n",
    "    results_table['Error'] = results_table.apply(lambda x: None if x['pass / FAIL'] == x['Error'] else x['Error'], axis=1)\n",
    "    results_table['pass / FAIL'] = results_table['pass / FAIL'].replace('other', 'FAIL')\n",
    "\n",
    "    results_table['Error'] = results_table['Error'].apply(lambda x:  utils.ansi_to_html(x))\n",
    "    results_table['Error'] = results_table['Error'].apply(lambda x:  utils.collapsible_content(x))\n",
    "\n",
    "    # compatibility_message\n",
    "    results_table['Compat'] = results_table['Engine'].apply(lambda x:  utils.check_file_compatibility_test(x, types_dict, sbml_filepath, sedml_filepath))\n",
    "    results_table['Compat'] = results_table['Compat'].apply(lambda x:  utils.collapsible_content(x[1], title=x[0]))\n",
    "    results_table['Compat'] = results_table['Compat'].apply(lambda x: f'<span style=\"color:darkred;\"><img src={link_red_square}/> {x}</span>'\\\n",
    "                                                             if 'FAIL' in x else f'<img src={link_green_square}/>{x}')\n",
    "\n",
    "    # pass / FAIL\n",
    "    results_table['pass / FAIL'] = results_table['pass / FAIL'].apply(lambda x: f'<span style=\"color:darkred;\">\\\n",
    "                                                                      <img src={link_red_square}/> {x}</span>' if x == 'FAIL' \\\n",
    "                                                                        else f'<img src={link_green_square}/> {x}')\n",
    "\n",
    "    # d1 plot clickable link\n",
    "    results_table['d1'] = results_table['Engine'].apply(lambda x:  utils.d1_plots_dict(engines, output_dir).get(x, None))\n",
    "    results_table['d1'] = results_table['d1'].apply(lambda x: utils.create_hyperlink(x,title='plot'))\n",
    "    \n",
    "    # if Type is in the table add message with collapsible content\n",
    "    if 'Type' in results_table.columns:\n",
    "        results_table['Type'] = results_table['Type'].apply(lambda x:  utils.collapsible_content(x,\"\".join(re.findall(r'[A-Z]', x))))\n",
    "\n",
    "    results_table['Engine'] = results_table['Engine'].apply(lambda x:  utils.collapsible_content(f'{engines[x][\"url\"]}<br>{engines[x][\"status\"]}', x))\n",
    "\n",
    "    return results_table\n",
    "\n",
    "\n",
    "#########################################################################################\n",
    "# process results and save markdown table\n",
    "#########################################################################################\n",
    "\n",
    "results_table = create_results_table(results_remote, types_dict, sbml_filepath, sedml_filepath, engines, d1_plots_remote_dir)\n",
    "results_table_local = create_results_table(results_local, types_dict, sbml_filepath, sedml_filepath, engines, d1_plots_local_dir)\n",
    "\n",
    "# rename cols to distinguish between local and remote results except for Engine column\n",
    "results_table.columns = [str(col) + ' (R)' if col != 'Engine' else str(col) for col in results_table.columns]\n",
    "results_table_local.columns = [str(col) + ' (L)' if col != 'Engine' else str(col) for col in results_table_local.columns]\n",
    "\n",
    "# combine remote and local results\n",
    "combined_results = pd.merge(results_table, results_table_local, on='Engine', how='outer')\n",
    "# combined_results = combined_results.reindex(columns=['Engine'] + sorted(combined_results.columns[1:]))\n",
    "\n",
    "cols_order = ['Engine', 'pass / FAIL (R)', 'pass / FAIL (L)',\\\n",
    "               'Compat (R)', 'Compat (L)', \\\n",
    "               'Type (R)', \\\n",
    "               'Error (R)', 'Error (L)', \\\n",
    "               'd1 (R)', 'd1 (L)']\n",
    "\n",
    "combined_results = combined_results[cols_order]\n",
    "# add a table title\n",
    "display_markdown('## Compatibility Biosimulator engines (L = local, R = remote)', raw=True)\n",
    "display_markdown(combined_results.to_markdown(), raw=True)\n"
   ]
  }
 ],
 "metadata": {
  "kernelspec": {
   "display_name": "venv",
   "language": "python",
   "name": "python3"
  },
  "language_info": {
   "codemirror_mode": {
    "name": "ipython",
    "version": 3
   },
   "file_extension": ".py",
   "mimetype": "text/x-python",
   "name": "python",
   "nbconvert_exporter": "python",
   "pygments_lexer": "ipython3",
   "version": "3.11.9"
  }
 },
 "nbformat": 4,
 "nbformat_minor": 2
}
