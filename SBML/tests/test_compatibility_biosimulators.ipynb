{
 "cells": [
  {
   "cell_type": "markdown",
   "metadata": {},
   "source": [
    "# Biosimulators compatibility"
   ]
  },
  {
   "cell_type": "markdown",
   "metadata": {},
   "source": [
    "## set-up"
   ]
  },
  {
   "cell_type": "code",
   "execution_count": 1,
   "metadata": {},
   "outputs": [
    {
     "name": "stdout",
     "output_type": "stream",
     "text": [
      "Path to SED-ML file: c:\\Users\\prins\\GitHub\\SBMLShowcase\\SBML\\LEMS_NML2_Ex9_FN_missing_xmlns.sedml\n",
      "Path to SBML file: c:\\Users\\prins\\GitHub\\SBMLShowcase\\SBML\\LEMS_NML2_Ex9_FN.sbml\n",
      "d1 plots will be saved in: tests\\d1_plots_remote and tests\\d1_plots_local\n"
     ]
    }
   ],
   "source": [
    "import os\n",
    "import pandas as pd\n",
    "from IPython.display import display_markdown\n",
    "import shutil\n",
    "import yaml\n",
    "\n",
    "# Save the current working directory\n",
    "cwd = os.getcwd()\n",
    "\n",
    "# Change directory to the import utils \n",
    "os.chdir('../../')\n",
    "import utils\n",
    "path_to_sbml_folder = os.path.join(os.getcwd(), 'SBML')\n",
    "\n",
    "# Change back to the original working directory\n",
    "os.chdir(path_to_sbml_folder)\n",
    "\n",
    "d1_plots_remote_dir = 'd1_plots'+ '_remote'\n",
    "d1_plots_local_dir = 'd1_plots' + '_local'\n",
    "\n",
    "sbml_file_name = 'LEMS_NML2_Ex9_FN.sbml'\n",
    "sedml_file_name = 'LEMS_NML2_Ex9_FN_missing_xmlns.sedml' #xmlns:sbml missing\n",
    "\n",
    "sbml_file_path = os.path.join(path_to_sbml_folder, sbml_file_name)\n",
    "sedml_file_path = os.path.join(path_to_sbml_folder, sedml_file_name)\n",
    "\n",
    "print('Path to SED-ML file:', sedml_file_path)\n",
    "print('Path to SBML file:', sbml_file_path)\n",
    "\n",
    "engines = utils.engines\n",
    "types_dict = utils.types_dict\n",
    "\n",
    "test_folder = 'tests'\n",
    "output_dir = 'd1_plots'\n",
    "\n",
    "d1_plots_remote_dir = os.path.join(test_folder, output_dir + '_remote')\n",
    "d1_plots_local_dir = os.path.join(test_folder, output_dir + '_local')\n",
    "\n",
    "print('d1 plots will be saved in:', d1_plots_remote_dir, 'and', d1_plots_local_dir)"
   ]
  },
  {
   "cell_type": "code",
   "execution_count": 2,
   "metadata": {},
   "outputs": [
    {
     "name": "stderr",
     "output_type": "stream",
     "text": [
      "pyNeuroML >>> DEBUG - Sim dict is: {'name': 'test', 'simulator': 'amici', 'simulatorVersion': '0.18.1', 'cpus': 1, 'memory': 8, 'maxTime': 20, 'envVars': [], 'purpose': 'academic', 'email': ''}\n",
      "pyNeuroML >>> DEBUG - simulation_run_request is {\"name\":\"test\",\"simulator\":\"amici\",\"simulatorVersion\":\"0.18.1\",\"maxTime\":20,\"cpus\":1,\"memory\":8,\"purpose\":\"academic\",\"email\":\"\",\"envVars\":[]}\n",
      "pyNeuroML >>> DEBUG - data is:\n",
      "{'file': ('LEMS_NML2_Ex9_FN_missing_xmlns.omex', <_io.BufferedReader name='LEMS_NML2_Ex9_FN_missing_xmlns.omex'>), 'simulationRun': (None, '{\"name\":\"test\",\"simulator\":\"amici\",\"simulatorVersion\":\"0.18.1\",\"maxTime\":20,\"cpus\":1,\"memory\":8,\"purpose\":\"academic\",\"email\":\"\",\"envVars\":[]}')}\n",
      "pyNeuroML >>> INFO - multipart encoded data is <MultipartEncoder: {'file': ('LEMS_NML2_Ex9_FN_missing_xmlns.omex', <_io.BufferedReader name='LEMS_NML2_Ex9_FN_missing_xmlns.omex'>), 'simulationRun': (None, '{\"name\":\"test\",\"simulator\":\"amici\",\"simulatorVersion\":\"0.18.1\",\"maxTime\":20,\"cpus\":1,\"memory\":8,\"purpose\":\"academic\",\"email\":\"\",\"envVars\":[]}')}>\n",
      "pyNeuroML >>> INFO - with content type: multipart/form-data; boundary=afb2be9d281b4e768e7619adea6bea08\n",
      "pyNeuroML >>> INFO - Submitting archive to biosimulations\n"
     ]
    },
    {
     "name": "stdout",
     "output_type": "stream",
     "text": [
      "Submitted LEMS_NML2_Ex9_FN_missing_xmlns.omex successfully with id: 66c4c7029f535bb92ffefba7\n",
      "View: https://api.biosimulations.org/runs/66c4c7029f535bb92ffefba7\n",
      "Downloads: https://api.biosimulations.org/results/66c4c7029f535bb92ffefba7/download\n",
      "Logs: https://api.biosimulations.org/logs/66c4c7029f535bb92ffefba7?includeOutput=true\n"
     ]
    },
    {
     "name": "stderr",
     "output_type": "stream",
     "text": [
      "pyNeuroML >>> DEBUG - Sim dict is: {'name': 'test', 'simulator': 'brian2', 'simulatorVersion': '2.5.0.3', 'cpus': 1, 'memory': 8, 'maxTime': 20, 'envVars': [], 'purpose': 'academic', 'email': ''}\n",
      "pyNeuroML >>> DEBUG - simulation_run_request is {\"name\":\"test\",\"simulator\":\"brian2\",\"simulatorVersion\":\"2.5.0.3\",\"maxTime\":20,\"cpus\":1,\"memory\":8,\"purpose\":\"academic\",\"email\":\"\",\"envVars\":[]}\n",
      "pyNeuroML >>> DEBUG - data is:\n",
      "{'file': ('LEMS_NML2_Ex9_FN_missing_xmlns.omex', <_io.BufferedReader name='LEMS_NML2_Ex9_FN_missing_xmlns.omex'>), 'simulationRun': (None, '{\"name\":\"test\",\"simulator\":\"brian2\",\"simulatorVersion\":\"2.5.0.3\",\"maxTime\":20,\"cpus\":1,\"memory\":8,\"purpose\":\"academic\",\"email\":\"\",\"envVars\":[]}')}\n",
      "pyNeuroML >>> INFO - multipart encoded data is <MultipartEncoder: {'file': ('LEMS_NML2_Ex9_FN_missing_xmlns.omex', <_io.BufferedReader name='LEMS_NML2_Ex9_FN_missing_xmlns.omex'>), 'simulationRun': (None, '{\"name\":\"test\",\"simulator\":\"brian2\",\"simulatorVersion\":\"2.5.0.3\",\"maxTime\":20,\"cpus\":1,\"memory\":8,\"purpose\":\"academic\",\"email\":\"\",\"envVars\":[]}')}>\n",
      "pyNeuroML >>> INFO - with content type: multipart/form-data; boundary=854eedd4a17243468f540f3b47ff70d8\n",
      "pyNeuroML >>> INFO - Submitting archive to biosimulations\n"
     ]
    },
    {
     "name": "stdout",
     "output_type": "stream",
     "text": [
      "Submitted LEMS_NML2_Ex9_FN_missing_xmlns.omex successfully with id: 66c4c70493c284abde6a09a2\n",
      "View: https://api.biosimulations.org/runs/66c4c70493c284abde6a09a2\n",
      "Downloads: https://api.biosimulations.org/results/66c4c70493c284abde6a09a2/download\n",
      "Logs: https://api.biosimulations.org/logs/66c4c70493c284abde6a09a2?includeOutput=true\n"
     ]
    },
    {
     "name": "stderr",
     "output_type": "stream",
     "text": [
      "pyNeuroML >>> DEBUG - Sim dict is: {'name': 'test', 'simulator': 'bionetgen', 'simulatorVersion': '2.8.0', 'cpus': 1, 'memory': 8, 'maxTime': 20, 'envVars': [], 'purpose': 'academic', 'email': ''}\n",
      "pyNeuroML >>> DEBUG - simulation_run_request is {\"name\":\"test\",\"simulator\":\"bionetgen\",\"simulatorVersion\":\"2.8.0\",\"maxTime\":20,\"cpus\":1,\"memory\":8,\"purpose\":\"academic\",\"email\":\"\",\"envVars\":[]}\n",
      "pyNeuroML >>> DEBUG - data is:\n",
      "{'file': ('LEMS_NML2_Ex9_FN_missing_xmlns.omex', <_io.BufferedReader name='LEMS_NML2_Ex9_FN_missing_xmlns.omex'>), 'simulationRun': (None, '{\"name\":\"test\",\"simulator\":\"bionetgen\",\"simulatorVersion\":\"2.8.0\",\"maxTime\":20,\"cpus\":1,\"memory\":8,\"purpose\":\"academic\",\"email\":\"\",\"envVars\":[]}')}\n",
      "pyNeuroML >>> INFO - multipart encoded data is <MultipartEncoder: {'file': ('LEMS_NML2_Ex9_FN_missing_xmlns.omex', <_io.BufferedReader name='LEMS_NML2_Ex9_FN_missing_xmlns.omex'>), 'simulationRun': (None, '{\"name\":\"test\",\"simulator\":\"bionetgen\",\"simulatorVersion\":\"2.8.0\",\"maxTime\":20,\"cpus\":1,\"memory\":8,\"purpose\":\"academic\",\"email\":\"\",\"envVars\":[]}')}>\n",
      "pyNeuroML >>> INFO - with content type: multipart/form-data; boundary=e7f22dd135a346fea09e9b899522afbe\n",
      "pyNeuroML >>> INFO - Submitting archive to biosimulations\n"
     ]
    },
    {
     "name": "stdout",
     "output_type": "stream",
     "text": [
      "Submitted LEMS_NML2_Ex9_FN_missing_xmlns.omex successfully with id: 66c4c7059f535bb92ffefbab\n",
      "View: https://api.biosimulations.org/runs/66c4c7059f535bb92ffefbab\n",
      "Downloads: https://api.biosimulations.org/results/66c4c7059f535bb92ffefbab/download\n",
      "Logs: https://api.biosimulations.org/logs/66c4c7059f535bb92ffefbab?includeOutput=true\n"
     ]
    },
    {
     "name": "stderr",
     "output_type": "stream",
     "text": [
      "pyNeuroML >>> DEBUG - Sim dict is: {'name': 'test', 'simulator': 'boolnet', 'simulatorVersion': '2.1.5', 'cpus': 1, 'memory': 8, 'maxTime': 20, 'envVars': [], 'purpose': 'academic', 'email': ''}\n",
      "pyNeuroML >>> DEBUG - simulation_run_request is {\"name\":\"test\",\"simulator\":\"boolnet\",\"simulatorVersion\":\"2.1.5\",\"maxTime\":20,\"cpus\":1,\"memory\":8,\"purpose\":\"academic\",\"email\":\"\",\"envVars\":[]}\n",
      "pyNeuroML >>> DEBUG - data is:\n",
      "{'file': ('LEMS_NML2_Ex9_FN_missing_xmlns.omex', <_io.BufferedReader name='LEMS_NML2_Ex9_FN_missing_xmlns.omex'>), 'simulationRun': (None, '{\"name\":\"test\",\"simulator\":\"boolnet\",\"simulatorVersion\":\"2.1.5\",\"maxTime\":20,\"cpus\":1,\"memory\":8,\"purpose\":\"academic\",\"email\":\"\",\"envVars\":[]}')}\n",
      "pyNeuroML >>> INFO - multipart encoded data is <MultipartEncoder: {'file': ('LEMS_NML2_Ex9_FN_missing_xmlns.omex', <_io.BufferedReader name='LEMS_NML2_Ex9_FN_missing_xmlns.omex'>), 'simulationRun': (None, '{\"name\":\"test\",\"simulator\":\"boolnet\",\"simulatorVersion\":\"2.1.5\",\"maxTime\":20,\"cpus\":1,\"memory\":8,\"purpose\":\"academic\",\"email\":\"\",\"envVars\":[]}')}>\n",
      "pyNeuroML >>> INFO - with content type: multipart/form-data; boundary=c1c0dbb21ff1468e8a3de3da7e4ee989\n",
      "pyNeuroML >>> INFO - Submitting archive to biosimulations\n"
     ]
    },
    {
     "name": "stdout",
     "output_type": "stream",
     "text": [
      "Submitted LEMS_NML2_Ex9_FN_missing_xmlns.omex successfully with id: 66c4c70793c284abde6a09a6\n",
      "View: https://api.biosimulations.org/runs/66c4c70793c284abde6a09a6\n",
      "Downloads: https://api.biosimulations.org/results/66c4c70793c284abde6a09a6/download\n",
      "Logs: https://api.biosimulations.org/logs/66c4c70793c284abde6a09a6?includeOutput=true\n"
     ]
    },
    {
     "name": "stderr",
     "output_type": "stream",
     "text": [
      "pyNeuroML >>> DEBUG - Sim dict is: {'name': 'test', 'simulator': 'cbmpy', 'simulatorVersion': '0.7.25', 'cpus': 1, 'memory': 8, 'maxTime': 20, 'envVars': [], 'purpose': 'academic', 'email': ''}\n",
      "pyNeuroML >>> DEBUG - simulation_run_request is {\"name\":\"test\",\"simulator\":\"cbmpy\",\"simulatorVersion\":\"0.7.25\",\"maxTime\":20,\"cpus\":1,\"memory\":8,\"purpose\":\"academic\",\"email\":\"\",\"envVars\":[]}\n",
      "pyNeuroML >>> DEBUG - data is:\n",
      "{'file': ('LEMS_NML2_Ex9_FN_missing_xmlns.omex', <_io.BufferedReader name='LEMS_NML2_Ex9_FN_missing_xmlns.omex'>), 'simulationRun': (None, '{\"name\":\"test\",\"simulator\":\"cbmpy\",\"simulatorVersion\":\"0.7.25\",\"maxTime\":20,\"cpus\":1,\"memory\":8,\"purpose\":\"academic\",\"email\":\"\",\"envVars\":[]}')}\n",
      "pyNeuroML >>> INFO - multipart encoded data is <MultipartEncoder: {'file': ('LEMS_NML2_Ex9_FN_missing_xmlns.omex', <_io.BufferedReader name='LEMS_NML2_Ex9_FN_missing_xmlns.omex'>), 'simulationRun': (None, '{\"name\":\"test\",\"simulator\":\"cbmpy\",\"simulatorVersion\":\"0.7.25\",\"maxTime\":20,\"cpus\":1,\"memory\":8,\"purpose\":\"academic\",\"email\":\"\",\"envVars\":[]}')}>\n",
      "pyNeuroML >>> INFO - with content type: multipart/form-data; boundary=f94d1a5421e74764a8d3bca1668b24ea\n",
      "pyNeuroML >>> INFO - Submitting archive to biosimulations\n"
     ]
    },
    {
     "name": "stdout",
     "output_type": "stream",
     "text": [
      "Submitted LEMS_NML2_Ex9_FN_missing_xmlns.omex successfully with id: 66c4c7099f535bb92ffefbae\n",
      "View: https://api.biosimulations.org/runs/66c4c7099f535bb92ffefbae\n",
      "Downloads: https://api.biosimulations.org/results/66c4c7099f535bb92ffefbae/download\n",
      "Logs: https://api.biosimulations.org/logs/66c4c7099f535bb92ffefbae?includeOutput=true\n"
     ]
    },
    {
     "name": "stderr",
     "output_type": "stream",
     "text": [
      "pyNeuroML >>> DEBUG - Sim dict is: {'name': 'test', 'simulator': 'cobrapy', 'simulatorVersion': '0.24.0', 'cpus': 1, 'memory': 8, 'maxTime': 20, 'envVars': [], 'purpose': 'academic', 'email': ''}\n",
      "pyNeuroML >>> DEBUG - simulation_run_request is {\"name\":\"test\",\"simulator\":\"cobrapy\",\"simulatorVersion\":\"0.24.0\",\"maxTime\":20,\"cpus\":1,\"memory\":8,\"purpose\":\"academic\",\"email\":\"\",\"envVars\":[]}\n",
      "pyNeuroML >>> DEBUG - data is:\n",
      "{'file': ('LEMS_NML2_Ex9_FN_missing_xmlns.omex', <_io.BufferedReader name='LEMS_NML2_Ex9_FN_missing_xmlns.omex'>), 'simulationRun': (None, '{\"name\":\"test\",\"simulator\":\"cobrapy\",\"simulatorVersion\":\"0.24.0\",\"maxTime\":20,\"cpus\":1,\"memory\":8,\"purpose\":\"academic\",\"email\":\"\",\"envVars\":[]}')}\n",
      "pyNeuroML >>> INFO - multipart encoded data is <MultipartEncoder: {'file': ('LEMS_NML2_Ex9_FN_missing_xmlns.omex', <_io.BufferedReader name='LEMS_NML2_Ex9_FN_missing_xmlns.omex'>), 'simulationRun': (None, '{\"name\":\"test\",\"simulator\":\"cobrapy\",\"simulatorVersion\":\"0.24.0\",\"maxTime\":20,\"cpus\":1,\"memory\":8,\"purpose\":\"academic\",\"email\":\"\",\"envVars\":[]}')}>\n",
      "pyNeuroML >>> INFO - with content type: multipart/form-data; boundary=bb90b9b79e2a432e99cc9bae089a01cf\n",
      "pyNeuroML >>> INFO - Submitting archive to biosimulations\n"
     ]
    },
    {
     "name": "stdout",
     "output_type": "stream",
     "text": [
      "Submitted LEMS_NML2_Ex9_FN_missing_xmlns.omex successfully with id: 66c4c70b93c284abde6a09a9\n",
      "View: https://api.biosimulations.org/runs/66c4c70b93c284abde6a09a9\n",
      "Downloads: https://api.biosimulations.org/results/66c4c70b93c284abde6a09a9/download\n",
      "Logs: https://api.biosimulations.org/logs/66c4c70b93c284abde6a09a9?includeOutput=true\n"
     ]
    },
    {
     "name": "stderr",
     "output_type": "stream",
     "text": [
      "pyNeuroML >>> DEBUG - Sim dict is: {'name': 'test', 'simulator': 'copasi', 'simulatorVersion': '4.42.284', 'cpus': 1, 'memory': 8, 'maxTime': 20, 'envVars': [], 'purpose': 'academic', 'email': ''}\n",
      "pyNeuroML >>> DEBUG - simulation_run_request is {\"name\":\"test\",\"simulator\":\"copasi\",\"simulatorVersion\":\"4.42.284\",\"maxTime\":20,\"cpus\":1,\"memory\":8,\"purpose\":\"academic\",\"email\":\"\",\"envVars\":[]}\n",
      "pyNeuroML >>> DEBUG - data is:\n",
      "{'file': ('LEMS_NML2_Ex9_FN_missing_xmlns.omex', <_io.BufferedReader name='LEMS_NML2_Ex9_FN_missing_xmlns.omex'>), 'simulationRun': (None, '{\"name\":\"test\",\"simulator\":\"copasi\",\"simulatorVersion\":\"4.42.284\",\"maxTime\":20,\"cpus\":1,\"memory\":8,\"purpose\":\"academic\",\"email\":\"\",\"envVars\":[]}')}\n",
      "pyNeuroML >>> INFO - multipart encoded data is <MultipartEncoder: {'file': ('LEMS_NML2_Ex9_FN_missing_xmlns.omex', <_io.BufferedReader name='LEMS_NML2_Ex9_FN_missing_xmlns.omex'>), 'simulationRun': (None, '{\"name\":\"test\",\"simulator\":\"copasi\",\"simulatorVersion\":\"4.42.284\",\"maxTime\":20,\"cpus\":1,\"memory\":8,\"purpose\":\"academic\",\"email\":\"\",\"envVars\":[]}')}>\n",
      "pyNeuroML >>> INFO - with content type: multipart/form-data; boundary=1f2116f724624a68a372cebc158125d5\n",
      "pyNeuroML >>> INFO - Submitting archive to biosimulations\n"
     ]
    },
    {
     "name": "stdout",
     "output_type": "stream",
     "text": [
      "Submitted LEMS_NML2_Ex9_FN_missing_xmlns.omex successfully with id: 66c4c70d93c284abde6a09ad\n",
      "View: https://api.biosimulations.org/runs/66c4c70d93c284abde6a09ad\n",
      "Downloads: https://api.biosimulations.org/results/66c4c70d93c284abde6a09ad/download\n",
      "Logs: https://api.biosimulations.org/logs/66c4c70d93c284abde6a09ad?includeOutput=true\n"
     ]
    },
    {
     "name": "stderr",
     "output_type": "stream",
     "text": [
      "pyNeuroML >>> DEBUG - Sim dict is: {'name': 'test', 'simulator': 'gillespy2', 'simulatorVersion': '1.6.6', 'cpus': 1, 'memory': 8, 'maxTime': 20, 'envVars': [], 'purpose': 'academic', 'email': ''}\n",
      "pyNeuroML >>> DEBUG - simulation_run_request is {\"name\":\"test\",\"simulator\":\"gillespy2\",\"simulatorVersion\":\"1.6.6\",\"maxTime\":20,\"cpus\":1,\"memory\":8,\"purpose\":\"academic\",\"email\":\"\",\"envVars\":[]}\n",
      "pyNeuroML >>> DEBUG - data is:\n",
      "{'file': ('LEMS_NML2_Ex9_FN_missing_xmlns.omex', <_io.BufferedReader name='LEMS_NML2_Ex9_FN_missing_xmlns.omex'>), 'simulationRun': (None, '{\"name\":\"test\",\"simulator\":\"gillespy2\",\"simulatorVersion\":\"1.6.6\",\"maxTime\":20,\"cpus\":1,\"memory\":8,\"purpose\":\"academic\",\"email\":\"\",\"envVars\":[]}')}\n",
      "pyNeuroML >>> INFO - multipart encoded data is <MultipartEncoder: {'file': ('LEMS_NML2_Ex9_FN_missing_xmlns.omex', <_io.BufferedReader name='LEMS_NML2_Ex9_FN_missing_xmlns.omex'>), 'simulationRun': (None, '{\"name\":\"test\",\"simulator\":\"gillespy2\",\"simulatorVersion\":\"1.6.6\",\"maxTime\":20,\"cpus\":1,\"memory\":8,\"purpose\":\"academic\",\"email\":\"\",\"envVars\":[]}')}>\n",
      "pyNeuroML >>> INFO - with content type: multipart/form-data; boundary=25ad040d50cd4f3b98daf0a9314681af\n",
      "pyNeuroML >>> INFO - Submitting archive to biosimulations\n"
     ]
    },
    {
     "name": "stdout",
     "output_type": "stream",
     "text": [
      "Submitted LEMS_NML2_Ex9_FN_missing_xmlns.omex successfully with id: 66c4c71093c284abde6a09b2\n",
      "View: https://api.biosimulations.org/runs/66c4c71093c284abde6a09b2\n",
      "Downloads: https://api.biosimulations.org/results/66c4c71093c284abde6a09b2/download\n",
      "Logs: https://api.biosimulations.org/logs/66c4c71093c284abde6a09b2?includeOutput=true\n"
     ]
    },
    {
     "name": "stderr",
     "output_type": "stream",
     "text": [
      "pyNeuroML >>> DEBUG - Sim dict is: {'name': 'test', 'simulator': 'ginsim', 'simulatorVersion': '3.0.0b', 'cpus': 1, 'memory': 8, 'maxTime': 20, 'envVars': [], 'purpose': 'academic', 'email': ''}\n",
      "pyNeuroML >>> DEBUG - simulation_run_request is {\"name\":\"test\",\"simulator\":\"ginsim\",\"simulatorVersion\":\"3.0.0b\",\"maxTime\":20,\"cpus\":1,\"memory\":8,\"purpose\":\"academic\",\"email\":\"\",\"envVars\":[]}\n",
      "pyNeuroML >>> DEBUG - data is:\n",
      "{'file': ('LEMS_NML2_Ex9_FN_missing_xmlns.omex', <_io.BufferedReader name='LEMS_NML2_Ex9_FN_missing_xmlns.omex'>), 'simulationRun': (None, '{\"name\":\"test\",\"simulator\":\"ginsim\",\"simulatorVersion\":\"3.0.0b\",\"maxTime\":20,\"cpus\":1,\"memory\":8,\"purpose\":\"academic\",\"email\":\"\",\"envVars\":[]}')}\n",
      "pyNeuroML >>> INFO - multipart encoded data is <MultipartEncoder: {'file': ('LEMS_NML2_Ex9_FN_missing_xmlns.omex', <_io.BufferedReader name='LEMS_NML2_Ex9_FN_missing_xmlns.omex'>), 'simulationRun': (None, '{\"name\":\"test\",\"simulator\":\"ginsim\",\"simulatorVersion\":\"3.0.0b\",\"maxTime\":20,\"cpus\":1,\"memory\":8,\"purpose\":\"academic\",\"email\":\"\",\"envVars\":[]}')}>\n",
      "pyNeuroML >>> INFO - with content type: multipart/form-data; boundary=bb903e82d8204c029e36bd6f8cc024d9\n",
      "pyNeuroML >>> INFO - Submitting archive to biosimulations\n"
     ]
    },
    {
     "name": "stdout",
     "output_type": "stream",
     "text": [
      "Submitted LEMS_NML2_Ex9_FN_missing_xmlns.omex successfully with id: 66c4c71293c284abde6a09b7\n",
      "View: https://api.biosimulations.org/runs/66c4c71293c284abde6a09b7\n",
      "Downloads: https://api.biosimulations.org/results/66c4c71293c284abde6a09b7/download\n",
      "Logs: https://api.biosimulations.org/logs/66c4c71293c284abde6a09b7?includeOutput=true\n"
     ]
    },
    {
     "name": "stderr",
     "output_type": "stream",
     "text": [
      "pyNeuroML >>> DEBUG - Sim dict is: {'name': 'test', 'simulator': 'libsbmlsim', 'simulatorVersion': '1.4.0', 'cpus': 1, 'memory': 8, 'maxTime': 20, 'envVars': [], 'purpose': 'academic', 'email': ''}\n",
      "pyNeuroML >>> DEBUG - simulation_run_request is {\"name\":\"test\",\"simulator\":\"libsbmlsim\",\"simulatorVersion\":\"1.4.0\",\"maxTime\":20,\"cpus\":1,\"memory\":8,\"purpose\":\"academic\",\"email\":\"\",\"envVars\":[]}\n",
      "pyNeuroML >>> DEBUG - data is:\n",
      "{'file': ('LEMS_NML2_Ex9_FN_missing_xmlns.omex', <_io.BufferedReader name='LEMS_NML2_Ex9_FN_missing_xmlns.omex'>), 'simulationRun': (None, '{\"name\":\"test\",\"simulator\":\"libsbmlsim\",\"simulatorVersion\":\"1.4.0\",\"maxTime\":20,\"cpus\":1,\"memory\":8,\"purpose\":\"academic\",\"email\":\"\",\"envVars\":[]}')}\n",
      "pyNeuroML >>> INFO - multipart encoded data is <MultipartEncoder: {'file': ('LEMS_NML2_Ex9_FN_missing_xmlns.omex', <_io.BufferedReader name='LEMS_NML2_Ex9_FN_missing_xmlns.omex'>), 'simulationRun': (None, '{\"name\":\"test\",\"simulator\":\"libsbmlsim\",\"simulatorVersion\":\"1.4.0\",\"maxTime\":20,\"cpus\":1,\"memory\":8,\"purpose\":\"academic\",\"email\":\"\",\"envVars\":[]}')}>\n",
      "pyNeuroML >>> INFO - with content type: multipart/form-data; boundary=f0117d681cea479496e06434fb72cbd2\n",
      "pyNeuroML >>> INFO - Submitting archive to biosimulations\n"
     ]
    },
    {
     "name": "stdout",
     "output_type": "stream",
     "text": [
      "Submitted LEMS_NML2_Ex9_FN_missing_xmlns.omex successfully with id: 66c4c7139f535bb92ffefbbc\n",
      "View: https://api.biosimulations.org/runs/66c4c7139f535bb92ffefbbc\n",
      "Downloads: https://api.biosimulations.org/results/66c4c7139f535bb92ffefbbc/download\n",
      "Logs: https://api.biosimulations.org/logs/66c4c7139f535bb92ffefbbc?includeOutput=true\n"
     ]
    },
    {
     "name": "stderr",
     "output_type": "stream",
     "text": [
      "pyNeuroML >>> DEBUG - Sim dict is: {'name': 'test', 'simulator': 'masspy', 'simulatorVersion': '0.1.6', 'cpus': 1, 'memory': 8, 'maxTime': 20, 'envVars': [], 'purpose': 'academic', 'email': ''}\n",
      "pyNeuroML >>> DEBUG - simulation_run_request is {\"name\":\"test\",\"simulator\":\"masspy\",\"simulatorVersion\":\"0.1.6\",\"maxTime\":20,\"cpus\":1,\"memory\":8,\"purpose\":\"academic\",\"email\":\"\",\"envVars\":[]}\n",
      "pyNeuroML >>> DEBUG - data is:\n",
      "{'file': ('LEMS_NML2_Ex9_FN_missing_xmlns.omex', <_io.BufferedReader name='LEMS_NML2_Ex9_FN_missing_xmlns.omex'>), 'simulationRun': (None, '{\"name\":\"test\",\"simulator\":\"masspy\",\"simulatorVersion\":\"0.1.6\",\"maxTime\":20,\"cpus\":1,\"memory\":8,\"purpose\":\"academic\",\"email\":\"\",\"envVars\":[]}')}\n",
      "pyNeuroML >>> INFO - multipart encoded data is <MultipartEncoder: {'file': ('LEMS_NML2_Ex9_FN_missing_xmlns.omex', <_io.BufferedReader name='LEMS_NML2_Ex9_FN_missing_xmlns.omex'>), 'simulationRun': (None, '{\"name\":\"test\",\"simulator\":\"masspy\",\"simulatorVersion\":\"0.1.6\",\"maxTime\":20,\"cpus\":1,\"memory\":8,\"purpose\":\"academic\",\"email\":\"\",\"envVars\":[]}')}>\n",
      "pyNeuroML >>> INFO - with content type: multipart/form-data; boundary=d9188e27cf524560ace345df3a95b794\n",
      "pyNeuroML >>> INFO - Submitting archive to biosimulations\n"
     ]
    },
    {
     "name": "stdout",
     "output_type": "stream",
     "text": [
      "Submitted LEMS_NML2_Ex9_FN_missing_xmlns.omex successfully with id: 66c4c7159f535bb92ffefbc5\n",
      "View: https://api.biosimulations.org/runs/66c4c7159f535bb92ffefbc5\n",
      "Downloads: https://api.biosimulations.org/results/66c4c7159f535bb92ffefbc5/download\n",
      "Logs: https://api.biosimulations.org/logs/66c4c7159f535bb92ffefbc5?includeOutput=true\n"
     ]
    },
    {
     "name": "stderr",
     "output_type": "stream",
     "text": [
      "pyNeuroML >>> DEBUG - Sim dict is: {'name': 'test', 'simulator': 'netpyne', 'simulatorVersion': '1.0.0.2', 'cpus': 1, 'memory': 8, 'maxTime': 20, 'envVars': [], 'purpose': 'academic', 'email': ''}\n",
      "pyNeuroML >>> DEBUG - simulation_run_request is {\"name\":\"test\",\"simulator\":\"netpyne\",\"simulatorVersion\":\"1.0.0.2\",\"maxTime\":20,\"cpus\":1,\"memory\":8,\"purpose\":\"academic\",\"email\":\"\",\"envVars\":[]}\n",
      "pyNeuroML >>> DEBUG - data is:\n",
      "{'file': ('LEMS_NML2_Ex9_FN_missing_xmlns.omex', <_io.BufferedReader name='LEMS_NML2_Ex9_FN_missing_xmlns.omex'>), 'simulationRun': (None, '{\"name\":\"test\",\"simulator\":\"netpyne\",\"simulatorVersion\":\"1.0.0.2\",\"maxTime\":20,\"cpus\":1,\"memory\":8,\"purpose\":\"academic\",\"email\":\"\",\"envVars\":[]}')}\n",
      "pyNeuroML >>> INFO - multipart encoded data is <MultipartEncoder: {'file': ('LEMS_NML2_Ex9_FN_missing_xmlns.omex', <_io.BufferedReader name='LEMS_NML2_Ex9_FN_missing_xmlns.omex'>), 'simulationRun': (None, '{\"name\":\"test\",\"simulator\":\"netpyne\",\"simulatorVersion\":\"1.0.0.2\",\"maxTime\":20,\"cpus\":1,\"memory\":8,\"purpose\":\"academic\",\"email\":\"\",\"envVars\":[]}')}>\n",
      "pyNeuroML >>> INFO - with content type: multipart/form-data; boundary=2082f0d4ead94d5c8dd22184f83ee888\n",
      "pyNeuroML >>> INFO - Submitting archive to biosimulations\n"
     ]
    },
    {
     "name": "stdout",
     "output_type": "stream",
     "text": [
      "Submitted LEMS_NML2_Ex9_FN_missing_xmlns.omex successfully with id: 66c4c71793c284abde6a09c2\n",
      "View: https://api.biosimulations.org/runs/66c4c71793c284abde6a09c2\n",
      "Downloads: https://api.biosimulations.org/results/66c4c71793c284abde6a09c2/download\n",
      "Logs: https://api.biosimulations.org/logs/66c4c71793c284abde6a09c2?includeOutput=true\n"
     ]
    },
    {
     "name": "stderr",
     "output_type": "stream",
     "text": [
      "pyNeuroML >>> DEBUG - Sim dict is: {'name': 'test', 'simulator': 'neuron', 'simulatorVersion': '8.0.2', 'cpus': 1, 'memory': 8, 'maxTime': 20, 'envVars': [], 'purpose': 'academic', 'email': ''}\n",
      "pyNeuroML >>> DEBUG - simulation_run_request is {\"name\":\"test\",\"simulator\":\"neuron\",\"simulatorVersion\":\"8.0.2\",\"maxTime\":20,\"cpus\":1,\"memory\":8,\"purpose\":\"academic\",\"email\":\"\",\"envVars\":[]}\n",
      "pyNeuroML >>> DEBUG - data is:\n",
      "{'file': ('LEMS_NML2_Ex9_FN_missing_xmlns.omex', <_io.BufferedReader name='LEMS_NML2_Ex9_FN_missing_xmlns.omex'>), 'simulationRun': (None, '{\"name\":\"test\",\"simulator\":\"neuron\",\"simulatorVersion\":\"8.0.2\",\"maxTime\":20,\"cpus\":1,\"memory\":8,\"purpose\":\"academic\",\"email\":\"\",\"envVars\":[]}')}\n",
      "pyNeuroML >>> INFO - multipart encoded data is <MultipartEncoder: {'file': ('LEMS_NML2_Ex9_FN_missing_xmlns.omex', <_io.BufferedReader name='LEMS_NML2_Ex9_FN_missing_xmlns.omex'>), 'simulationRun': (None, '{\"name\":\"test\",\"simulator\":\"neuron\",\"simulatorVersion\":\"8.0.2\",\"maxTime\":20,\"cpus\":1,\"memory\":8,\"purpose\":\"academic\",\"email\":\"\",\"envVars\":[]}')}>\n",
      "pyNeuroML >>> INFO - with content type: multipart/form-data; boundary=fe7bb5b685074bedbab22e697a258d00\n",
      "pyNeuroML >>> INFO - Submitting archive to biosimulations\n"
     ]
    },
    {
     "name": "stdout",
     "output_type": "stream",
     "text": [
      "Submitted LEMS_NML2_Ex9_FN_missing_xmlns.omex successfully with id: 66c4c71993c284abde6a09d1\n",
      "View: https://api.biosimulations.org/runs/66c4c71993c284abde6a09d1\n",
      "Downloads: https://api.biosimulations.org/results/66c4c71993c284abde6a09d1/download\n",
      "Logs: https://api.biosimulations.org/logs/66c4c71993c284abde6a09d1?includeOutput=true\n"
     ]
    },
    {
     "name": "stderr",
     "output_type": "stream",
     "text": [
      "pyNeuroML >>> DEBUG - Sim dict is: {'name': 'test', 'simulator': 'opencor', 'simulatorVersion': '2021-10-05', 'cpus': 1, 'memory': 8, 'maxTime': 20, 'envVars': [], 'purpose': 'academic', 'email': ''}\n",
      "pyNeuroML >>> DEBUG - simulation_run_request is {\"name\":\"test\",\"simulator\":\"opencor\",\"simulatorVersion\":\"2021-10-05\",\"maxTime\":20,\"cpus\":1,\"memory\":8,\"purpose\":\"academic\",\"email\":\"\",\"envVars\":[]}\n",
      "pyNeuroML >>> DEBUG - data is:\n",
      "{'file': ('LEMS_NML2_Ex9_FN_missing_xmlns.omex', <_io.BufferedReader name='LEMS_NML2_Ex9_FN_missing_xmlns.omex'>), 'simulationRun': (None, '{\"name\":\"test\",\"simulator\":\"opencor\",\"simulatorVersion\":\"2021-10-05\",\"maxTime\":20,\"cpus\":1,\"memory\":8,\"purpose\":\"academic\",\"email\":\"\",\"envVars\":[]}')}\n",
      "pyNeuroML >>> INFO - multipart encoded data is <MultipartEncoder: {'file': ('LEMS_NML2_Ex9_FN_missing_xmlns.omex', <_io.BufferedReader name='LEMS_NML2_Ex9_FN_missing_xmlns.omex'>), 'simulationRun': (None, '{\"name\":\"test\",\"simulator\":\"opencor\",\"simulatorVersion\":\"2021-10-05\",\"maxTime\":20,\"cpus\":1,\"memory\":8,\"purpose\":\"academic\",\"email\":\"\",\"envVars\":[]}')}>\n",
      "pyNeuroML >>> INFO - with content type: multipart/form-data; boundary=3b76339f0c9e4d609d648c8e18a53ae5\n",
      "pyNeuroML >>> INFO - Submitting archive to biosimulations\n"
     ]
    },
    {
     "name": "stdout",
     "output_type": "stream",
     "text": [
      "Submitted LEMS_NML2_Ex9_FN_missing_xmlns.omex successfully with id: 66c4c71b4da143765fa7870d\n",
      "View: https://api.biosimulations.org/runs/66c4c71b4da143765fa7870d\n",
      "Downloads: https://api.biosimulations.org/results/66c4c71b4da143765fa7870d/download\n",
      "Logs: https://api.biosimulations.org/logs/66c4c71b4da143765fa7870d?includeOutput=true\n"
     ]
    },
    {
     "name": "stderr",
     "output_type": "stream",
     "text": [
      "pyNeuroML >>> DEBUG - Sim dict is: {'name': 'test', 'simulator': 'pyneuroml', 'simulatorVersion': '0.5.20', 'cpus': 1, 'memory': 8, 'maxTime': 20, 'envVars': [], 'purpose': 'academic', 'email': ''}\n",
      "pyNeuroML >>> DEBUG - simulation_run_request is {\"name\":\"test\",\"simulator\":\"pyneuroml\",\"simulatorVersion\":\"0.5.20\",\"maxTime\":20,\"cpus\":1,\"memory\":8,\"purpose\":\"academic\",\"email\":\"\",\"envVars\":[]}\n",
      "pyNeuroML >>> DEBUG - data is:\n",
      "{'file': ('LEMS_NML2_Ex9_FN_missing_xmlns.omex', <_io.BufferedReader name='LEMS_NML2_Ex9_FN_missing_xmlns.omex'>), 'simulationRun': (None, '{\"name\":\"test\",\"simulator\":\"pyneuroml\",\"simulatorVersion\":\"0.5.20\",\"maxTime\":20,\"cpus\":1,\"memory\":8,\"purpose\":\"academic\",\"email\":\"\",\"envVars\":[]}')}\n",
      "pyNeuroML >>> INFO - multipart encoded data is <MultipartEncoder: {'file': ('LEMS_NML2_Ex9_FN_missing_xmlns.omex', <_io.BufferedReader name='LEMS_NML2_Ex9_FN_missing_xmlns.omex'>), 'simulationRun': (None, '{\"name\":\"test\",\"simulator\":\"pyneuroml\",\"simulatorVersion\":\"0.5.20\",\"maxTime\":20,\"cpus\":1,\"memory\":8,\"purpose\":\"academic\",\"email\":\"\",\"envVars\":[]}')}>\n",
      "pyNeuroML >>> INFO - with content type: multipart/form-data; boundary=0c4a0cb42fcd4afd8499f37eed6e4725\n",
      "pyNeuroML >>> INFO - Submitting archive to biosimulations\n"
     ]
    },
    {
     "name": "stdout",
     "output_type": "stream",
     "text": [
      "Submitted LEMS_NML2_Ex9_FN_missing_xmlns.omex successfully with id: 66c4c71d93c284abde6a09e2\n",
      "View: https://api.biosimulations.org/runs/66c4c71d93c284abde6a09e2\n",
      "Downloads: https://api.biosimulations.org/results/66c4c71d93c284abde6a09e2/download\n",
      "Logs: https://api.biosimulations.org/logs/66c4c71d93c284abde6a09e2?includeOutput=true\n"
     ]
    },
    {
     "name": "stderr",
     "output_type": "stream",
     "text": [
      "pyNeuroML >>> DEBUG - Sim dict is: {'name': 'test', 'simulator': 'pysces', 'simulatorVersion': '1.2.1', 'cpus': 1, 'memory': 8, 'maxTime': 20, 'envVars': [], 'purpose': 'academic', 'email': ''}\n",
      "pyNeuroML >>> DEBUG - simulation_run_request is {\"name\":\"test\",\"simulator\":\"pysces\",\"simulatorVersion\":\"1.2.1\",\"maxTime\":20,\"cpus\":1,\"memory\":8,\"purpose\":\"academic\",\"email\":\"\",\"envVars\":[]}\n",
      "pyNeuroML >>> DEBUG - data is:\n",
      "{'file': ('LEMS_NML2_Ex9_FN_missing_xmlns.omex', <_io.BufferedReader name='LEMS_NML2_Ex9_FN_missing_xmlns.omex'>), 'simulationRun': (None, '{\"name\":\"test\",\"simulator\":\"pysces\",\"simulatorVersion\":\"1.2.1\",\"maxTime\":20,\"cpus\":1,\"memory\":8,\"purpose\":\"academic\",\"email\":\"\",\"envVars\":[]}')}\n",
      "pyNeuroML >>> INFO - multipart encoded data is <MultipartEncoder: {'file': ('LEMS_NML2_Ex9_FN_missing_xmlns.omex', <_io.BufferedReader name='LEMS_NML2_Ex9_FN_missing_xmlns.omex'>), 'simulationRun': (None, '{\"name\":\"test\",\"simulator\":\"pysces\",\"simulatorVersion\":\"1.2.1\",\"maxTime\":20,\"cpus\":1,\"memory\":8,\"purpose\":\"academic\",\"email\":\"\",\"envVars\":[]}')}>\n",
      "pyNeuroML >>> INFO - with content type: multipart/form-data; boundary=828e5d99b16545c6bd12470db30f9923\n",
      "pyNeuroML >>> INFO - Submitting archive to biosimulations\n"
     ]
    },
    {
     "name": "stdout",
     "output_type": "stream",
     "text": [
      "Submitted LEMS_NML2_Ex9_FN_missing_xmlns.omex successfully with id: 66c4c71e9f535bb92ffefbeb\n",
      "View: https://api.biosimulations.org/runs/66c4c71e9f535bb92ffefbeb\n",
      "Downloads: https://api.biosimulations.org/results/66c4c71e9f535bb92ffefbeb/download\n",
      "Logs: https://api.biosimulations.org/logs/66c4c71e9f535bb92ffefbeb?includeOutput=true\n"
     ]
    },
    {
     "name": "stderr",
     "output_type": "stream",
     "text": [
      "pyNeuroML >>> DEBUG - Sim dict is: {'name': 'test', 'simulator': 'rbapy', 'simulatorVersion': '1.0.2', 'cpus': 1, 'memory': 8, 'maxTime': 20, 'envVars': [], 'purpose': 'academic', 'email': ''}\n",
      "pyNeuroML >>> DEBUG - simulation_run_request is {\"name\":\"test\",\"simulator\":\"rbapy\",\"simulatorVersion\":\"1.0.2\",\"maxTime\":20,\"cpus\":1,\"memory\":8,\"purpose\":\"academic\",\"email\":\"\",\"envVars\":[]}\n",
      "pyNeuroML >>> DEBUG - data is:\n",
      "{'file': ('LEMS_NML2_Ex9_FN_missing_xmlns.omex', <_io.BufferedReader name='LEMS_NML2_Ex9_FN_missing_xmlns.omex'>), 'simulationRun': (None, '{\"name\":\"test\",\"simulator\":\"rbapy\",\"simulatorVersion\":\"1.0.2\",\"maxTime\":20,\"cpus\":1,\"memory\":8,\"purpose\":\"academic\",\"email\":\"\",\"envVars\":[]}')}\n",
      "pyNeuroML >>> INFO - multipart encoded data is <MultipartEncoder: {'file': ('LEMS_NML2_Ex9_FN_missing_xmlns.omex', <_io.BufferedReader name='LEMS_NML2_Ex9_FN_missing_xmlns.omex'>), 'simulationRun': (None, '{\"name\":\"test\",\"simulator\":\"rbapy\",\"simulatorVersion\":\"1.0.2\",\"maxTime\":20,\"cpus\":1,\"memory\":8,\"purpose\":\"academic\",\"email\":\"\",\"envVars\":[]}')}>\n",
      "pyNeuroML >>> INFO - with content type: multipart/form-data; boundary=1fb55551f1564f45b85cc3e62576dc6e\n",
      "pyNeuroML >>> INFO - Submitting archive to biosimulations\n"
     ]
    },
    {
     "name": "stdout",
     "output_type": "stream",
     "text": [
      "Submitted LEMS_NML2_Ex9_FN_missing_xmlns.omex successfully with id: 66c4c7204da143765fa78738\n",
      "View: https://api.biosimulations.org/runs/66c4c7204da143765fa78738\n",
      "Downloads: https://api.biosimulations.org/results/66c4c7204da143765fa78738/download\n",
      "Logs: https://api.biosimulations.org/logs/66c4c7204da143765fa78738?includeOutput=true\n"
     ]
    },
    {
     "name": "stderr",
     "output_type": "stream",
     "text": [
      "pyNeuroML >>> DEBUG - Sim dict is: {'name': 'test', 'simulator': 'smoldyn', 'simulatorVersion': '2.72', 'cpus': 1, 'memory': 8, 'maxTime': 20, 'envVars': [], 'purpose': 'academic', 'email': ''}\n",
      "pyNeuroML >>> DEBUG - simulation_run_request is {\"name\":\"test\",\"simulator\":\"smoldyn\",\"simulatorVersion\":\"2.72\",\"maxTime\":20,\"cpus\":1,\"memory\":8,\"purpose\":\"academic\",\"email\":\"\",\"envVars\":[]}\n",
      "pyNeuroML >>> DEBUG - data is:\n",
      "{'file': ('LEMS_NML2_Ex9_FN_missing_xmlns.omex', <_io.BufferedReader name='LEMS_NML2_Ex9_FN_missing_xmlns.omex'>), 'simulationRun': (None, '{\"name\":\"test\",\"simulator\":\"smoldyn\",\"simulatorVersion\":\"2.72\",\"maxTime\":20,\"cpus\":1,\"memory\":8,\"purpose\":\"academic\",\"email\":\"\",\"envVars\":[]}')}\n",
      "pyNeuroML >>> INFO - multipart encoded data is <MultipartEncoder: {'file': ('LEMS_NML2_Ex9_FN_missing_xmlns.omex', <_io.BufferedReader name='LEMS_NML2_Ex9_FN_missing_xmlns.omex'>), 'simulationRun': (None, '{\"name\":\"test\",\"simulator\":\"smoldyn\",\"simulatorVersion\":\"2.72\",\"maxTime\":20,\"cpus\":1,\"memory\":8,\"purpose\":\"academic\",\"email\":\"\",\"envVars\":[]}')}>\n",
      "pyNeuroML >>> INFO - with content type: multipart/form-data; boundary=f0044384e7b041f5a9ec67dcd10183fa\n",
      "pyNeuroML >>> INFO - Submitting archive to biosimulations\n"
     ]
    },
    {
     "name": "stdout",
     "output_type": "stream",
     "text": [
      "Submitted LEMS_NML2_Ex9_FN_missing_xmlns.omex successfully with id: 66c4c7224da143765fa7873d\n",
      "View: https://api.biosimulations.org/runs/66c4c7224da143765fa7873d\n",
      "Downloads: https://api.biosimulations.org/results/66c4c7224da143765fa7873d/download\n",
      "Logs: https://api.biosimulations.org/logs/66c4c7224da143765fa7873d?includeOutput=true\n"
     ]
    },
    {
     "name": "stderr",
     "output_type": "stream",
     "text": [
      "pyNeuroML >>> DEBUG - Sim dict is: {'name': 'test', 'simulator': 'tellurium', 'simulatorVersion': '2.2.8', 'cpus': 1, 'memory': 8, 'maxTime': 20, 'envVars': [], 'purpose': 'academic', 'email': ''}\n",
      "pyNeuroML >>> DEBUG - simulation_run_request is {\"name\":\"test\",\"simulator\":\"tellurium\",\"simulatorVersion\":\"2.2.8\",\"maxTime\":20,\"cpus\":1,\"memory\":8,\"purpose\":\"academic\",\"email\":\"\",\"envVars\":[]}\n",
      "pyNeuroML >>> DEBUG - data is:\n",
      "{'file': ('LEMS_NML2_Ex9_FN_missing_xmlns.omex', <_io.BufferedReader name='LEMS_NML2_Ex9_FN_missing_xmlns.omex'>), 'simulationRun': (None, '{\"name\":\"test\",\"simulator\":\"tellurium\",\"simulatorVersion\":\"2.2.8\",\"maxTime\":20,\"cpus\":1,\"memory\":8,\"purpose\":\"academic\",\"email\":\"\",\"envVars\":[]}')}\n",
      "pyNeuroML >>> INFO - multipart encoded data is <MultipartEncoder: {'file': ('LEMS_NML2_Ex9_FN_missing_xmlns.omex', <_io.BufferedReader name='LEMS_NML2_Ex9_FN_missing_xmlns.omex'>), 'simulationRun': (None, '{\"name\":\"test\",\"simulator\":\"tellurium\",\"simulatorVersion\":\"2.2.8\",\"maxTime\":20,\"cpus\":1,\"memory\":8,\"purpose\":\"academic\",\"email\":\"\",\"envVars\":[]}')}>\n",
      "pyNeuroML >>> INFO - with content type: multipart/form-data; boundary=873875592d194849b7cdf3f69eb53e67\n",
      "pyNeuroML >>> INFO - Submitting archive to biosimulations\n"
     ]
    },
    {
     "name": "stdout",
     "output_type": "stream",
     "text": [
      "Submitted LEMS_NML2_Ex9_FN_missing_xmlns.omex successfully with id: 66c4c7249f535bb92ffefc19\n",
      "View: https://api.biosimulations.org/runs/66c4c7249f535bb92ffefc19\n",
      "Downloads: https://api.biosimulations.org/results/66c4c7249f535bb92ffefc19/download\n",
      "Logs: https://api.biosimulations.org/logs/66c4c7249f535bb92ffefc19?includeOutput=true\n"
     ]
    },
    {
     "name": "stderr",
     "output_type": "stream",
     "text": [
      "pyNeuroML >>> DEBUG - Sim dict is: {'name': 'test', 'simulator': 'vcell', 'simulatorVersion': '7.5.0.99', 'cpus': 1, 'memory': 8, 'maxTime': 20, 'envVars': [], 'purpose': 'academic', 'email': ''}\n",
      "pyNeuroML >>> DEBUG - simulation_run_request is {\"name\":\"test\",\"simulator\":\"vcell\",\"simulatorVersion\":\"7.5.0.99\",\"maxTime\":20,\"cpus\":1,\"memory\":8,\"purpose\":\"academic\",\"email\":\"\",\"envVars\":[]}\n",
      "pyNeuroML >>> DEBUG - data is:\n",
      "{'file': ('LEMS_NML2_Ex9_FN_missing_xmlns.omex', <_io.BufferedReader name='LEMS_NML2_Ex9_FN_missing_xmlns.omex'>), 'simulationRun': (None, '{\"name\":\"test\",\"simulator\":\"vcell\",\"simulatorVersion\":\"7.5.0.99\",\"maxTime\":20,\"cpus\":1,\"memory\":8,\"purpose\":\"academic\",\"email\":\"\",\"envVars\":[]}')}\n",
      "pyNeuroML >>> INFO - multipart encoded data is <MultipartEncoder: {'file': ('LEMS_NML2_Ex9_FN_missing_xmlns.omex', <_io.BufferedReader name='LEMS_NML2_Ex9_FN_missing_xmlns.omex'>), 'simulationRun': (None, '{\"name\":\"test\",\"simulator\":\"vcell\",\"simulatorVersion\":\"7.5.0.99\",\"maxTime\":20,\"cpus\":1,\"memory\":8,\"purpose\":\"academic\",\"email\":\"\",\"envVars\":[]}')}>\n",
      "pyNeuroML >>> INFO - with content type: multipart/form-data; boundary=327013065b91432ea3e5b3addb6a0427\n",
      "pyNeuroML >>> INFO - Submitting archive to biosimulations\n"
     ]
    },
    {
     "name": "stdout",
     "output_type": "stream",
     "text": [
      "Submitted LEMS_NML2_Ex9_FN_missing_xmlns.omex successfully with id: 66c4c72893c284abde6a0a1a\n",
      "View: https://api.biosimulations.org/runs/66c4c72893c284abde6a0a1a\n",
      "Downloads: https://api.biosimulations.org/results/66c4c72893c284abde6a0a1a/download\n",
      "Logs: https://api.biosimulations.org/logs/66c4c72893c284abde6a0a1a?includeOutput=true\n"
     ]
    },
    {
     "name": "stderr",
     "output_type": "stream",
     "text": [
      "pyNeuroML >>> DEBUG - Sim dict is: {'name': 'test', 'simulator': 'xpp', 'simulatorVersion': '8.0', 'cpus': 1, 'memory': 8, 'maxTime': 20, 'envVars': [], 'purpose': 'academic', 'email': ''}\n",
      "pyNeuroML >>> DEBUG - simulation_run_request is {\"name\":\"test\",\"simulator\":\"xpp\",\"simulatorVersion\":\"8.0\",\"maxTime\":20,\"cpus\":1,\"memory\":8,\"purpose\":\"academic\",\"email\":\"\",\"envVars\":[]}\n",
      "pyNeuroML >>> DEBUG - data is:\n",
      "{'file': ('LEMS_NML2_Ex9_FN_missing_xmlns.omex', <_io.BufferedReader name='LEMS_NML2_Ex9_FN_missing_xmlns.omex'>), 'simulationRun': (None, '{\"name\":\"test\",\"simulator\":\"xpp\",\"simulatorVersion\":\"8.0\",\"maxTime\":20,\"cpus\":1,\"memory\":8,\"purpose\":\"academic\",\"email\":\"\",\"envVars\":[]}')}\n",
      "pyNeuroML >>> INFO - multipart encoded data is <MultipartEncoder: {'file': ('LEMS_NML2_Ex9_FN_missing_xmlns.omex', <_io.BufferedReader name='LEMS_NML2_Ex9_FN_missing_xmlns.omex'>), 'simulationRun': (None, '{\"name\":\"test\",\"simulator\":\"xpp\",\"simulatorVersion\":\"8.0\",\"maxTime\":20,\"cpus\":1,\"memory\":8,\"purpose\":\"academic\",\"email\":\"\",\"envVars\":[]}')}>\n",
      "pyNeuroML >>> INFO - with content type: multipart/form-data; boundary=cbb375f0b6794f548c8b243a48ed9eb9\n",
      "pyNeuroML >>> INFO - Submitting archive to biosimulations\n"
     ]
    },
    {
     "name": "stdout",
     "output_type": "stream",
     "text": [
      "Submitted LEMS_NML2_Ex9_FN_missing_xmlns.omex successfully with id: 66c4c72a9f535bb92ffefc37\n",
      "View: https://api.biosimulations.org/runs/66c4c72a9f535bb92ffefc37\n",
      "Downloads: https://api.biosimulations.org/results/66c4c72a9f535bb92ffefc37/download\n",
      "Logs: https://api.biosimulations.org/logs/66c4c72a9f535bb92ffefc37?includeOutput=true\n",
      "Downloading amici results...\n",
      "Downloading brian2 results...\n",
      "Downloading bionetgen results...\n",
      "Downloading boolnet results...\n",
      "Downloading cbmpy results...\n",
      "Downloading cobrapy results...\n",
      "Downloading copasi results...\n",
      "Downloading gillespy2 results...\n",
      "Downloading ginsim results...\n",
      "Downloading libsbmlsim results...\n",
      "Downloading masspy results...\n",
      "Downloading netpyne results...\n",
      "Downloading neuron results...\n",
      "Downloading opencor results...\n",
      "Downloading pyneuroml results...\n",
      "Downloading pysces results...\n",
      "Downloading rbapy results...\n",
      "Downloading smoldyn results...\n",
      "Downloading tellurium results...\n",
      "Downloading vcell results...\n",
      "Downloading xpp results...\n",
      "Moving tests\\remote_results\\amici\\outputs\\tmp445545\\d1.pdf to tests\\d1_plots_remote\\amici_d1.pdf\n",
      "Moving tests\\remote_results\\bionetgen\\outputs\\tmp713444\\d1.pdf to tests\\d1_plots_remote\\bionetgen_d1.pdf\n",
      "Moving tests\\remote_results\\boolnet\\outputs\\tmp993713\\d1.pdf to tests\\d1_plots_remote\\boolnet_d1.pdf\n",
      "Moving tests\\remote_results\\cbmpy\\outputs\\tmp924986\\d1.pdf to tests\\d1_plots_remote\\cbmpy_d1.pdf\n",
      "Moving tests\\remote_results\\cobrapy\\outputs\\tmp796378\\d1.pdf to tests\\d1_plots_remote\\cobrapy_d1.pdf\n",
      "Moving tests\\remote_results\\copasi\\outputs\\tmp39638\\d1.pdf to tests\\d1_plots_remote\\copasi_d1.pdf\n",
      "Moving tests\\remote_results\\gillespy2\\outputs\\tmp785210\\d1.pdf to tests\\d1_plots_remote\\gillespy2_d1.pdf\n",
      "Moving tests\\remote_results\\ginsim\\outputs\\tmp311223\\d1.pdf to tests\\d1_plots_remote\\ginsim_d1.pdf\n",
      "Moving tests\\remote_results\\libsbmlsim\\outputs\\tmp733415\\d1.pdf to tests\\d1_plots_remote\\libsbmlsim_d1.pdf\n",
      "Moving tests\\remote_results\\masspy\\outputs\\tmp970012\\d1.pdf to tests\\d1_plots_remote\\masspy_d1.pdf\n",
      "Moving tests\\remote_results\\pysces\\outputs\\tmp729410\\d1.pdf to tests\\d1_plots_remote\\pysces_d1.pdf\n",
      "Moving tests\\remote_results\\rbapy\\outputs\\tmp656630\\d1.pdf to tests\\d1_plots_remote\\rbapy_d1.pdf\n",
      "Moving tests\\remote_results\\tellurium\\outputs\\tmp33488\\d1.pdf to tests\\d1_plots_remote\\tellurium_d1.pdf\n",
      "Removed tests\\remote_results folder\n",
      "Running amici\n",
      "c:\\Users\\prins\\GitHub\\SBMLShowcase\\SBML\\tests\\local_results\\amici\n",
      "Running brian2\n",
      "c:\\Users\\prins\\GitHub\\SBMLShowcase\\SBML\\tests\\local_results\\brian2\n",
      "Running bionetgen\n",
      "c:\\Users\\prins\\GitHub\\SBMLShowcase\\SBML\\tests\\local_results\\bionetgen\n",
      "Running boolnet\n",
      "c:\\Users\\prins\\GitHub\\SBMLShowcase\\SBML\\tests\\local_results\\boolnet\n",
      "Running cbmpy\n",
      "c:\\Users\\prins\\GitHub\\SBMLShowcase\\SBML\\tests\\local_results\\cbmpy\n",
      "Running cobrapy\n",
      "c:\\Users\\prins\\GitHub\\SBMLShowcase\\SBML\\tests\\local_results\\cobrapy\n",
      "Running copasi\n",
      "c:\\Users\\prins\\GitHub\\SBMLShowcase\\SBML\\tests\\local_results\\copasi\n",
      "Running gillespy2\n",
      "c:\\Users\\prins\\GitHub\\SBMLShowcase\\SBML\\tests\\local_results\\gillespy2\n",
      "Running ginsim\n",
      "c:\\Users\\prins\\GitHub\\SBMLShowcase\\SBML\\tests\\local_results\\ginsim\n",
      "Running libsbmlsim\n",
      "c:\\Users\\prins\\GitHub\\SBMLShowcase\\SBML\\tests\\local_results\\libsbmlsim\n",
      "Running masspy\n",
      "c:\\Users\\prins\\GitHub\\SBMLShowcase\\SBML\\tests\\local_results\\masspy\n",
      "Running netpyne\n",
      "c:\\Users\\prins\\GitHub\\SBMLShowcase\\SBML\\tests\\local_results\\netpyne\n",
      "Running neuron\n",
      "c:\\Users\\prins\\GitHub\\SBMLShowcase\\SBML\\tests\\local_results\\neuron\n",
      "Running opencor\n",
      "c:\\Users\\prins\\GitHub\\SBMLShowcase\\SBML\\tests\\local_results\\opencor\n",
      "Running pyneuroml\n",
      "c:\\Users\\prins\\GitHub\\SBMLShowcase\\SBML\\tests\\local_results\\pyneuroml\n",
      "Running pysces\n",
      "c:\\Users\\prins\\GitHub\\SBMLShowcase\\SBML\\tests\\local_results\\pysces\n",
      "Running rbapy\n",
      "c:\\Users\\prins\\GitHub\\SBMLShowcase\\SBML\\tests\\local_results\\rbapy\n",
      "Running smoldyn\n",
      "c:\\Users\\prins\\GitHub\\SBMLShowcase\\SBML\\tests\\local_results\\smoldyn\n",
      "Running tellurium\n",
      "c:\\Users\\prins\\GitHub\\SBMLShowcase\\SBML\\tests\\local_results\\tellurium\n",
      "Running vcell\n",
      "c:\\Users\\prins\\GitHub\\SBMLShowcase\\SBML\\tests\\local_results\\vcell\n",
      "Running xpp\n",
      "c:\\Users\\prins\\GitHub\\SBMLShowcase\\SBML\\tests\\local_results\\xpp\n",
      "file paths: ['tests\\\\local_results\\\\amici\\\\tmp570097\\\\d1.pdf', 'tests\\\\local_results\\\\bionetgen\\\\tmp137382\\\\d1.pdf', 'tests\\\\local_results\\\\boolnet\\\\tmp324009\\\\d1.pdf', 'tests\\\\local_results\\\\cbmpy\\\\tmp359591\\\\d1.pdf', 'tests\\\\local_results\\\\cobrapy\\\\tmp259926\\\\d1.pdf', 'tests\\\\local_results\\\\copasi\\\\tmp179627\\\\d1.pdf', 'tests\\\\local_results\\\\gillespy2\\\\tmp466262\\\\d1.pdf', 'tests\\\\local_results\\\\ginsim\\\\tmp931151\\\\d1.pdf', 'tests\\\\local_results\\\\libsbmlsim\\\\tmp489428\\\\d1.pdf', 'tests\\\\local_results\\\\masspy\\\\tmp159869\\\\d1.pdf', 'tests\\\\local_results\\\\pysces\\\\tmp959556\\\\d1.pdf', 'tests\\\\local_results\\\\rbapy\\\\tmp804849\\\\d1.pdf', 'tests\\\\local_results\\\\tellurium\\\\tmp614468\\\\d1.pdf']\n",
      "Moving tests\\local_results\\amici\\tmp570097\\d1.pdf to tests\\d1_plots_local\\amici_d1.pdf\n",
      "Moving tests\\local_results\\bionetgen\\tmp137382\\d1.pdf to tests\\d1_plots_local\\bionetgen_d1.pdf\n",
      "Moving tests\\local_results\\boolnet\\tmp324009\\d1.pdf to tests\\d1_plots_local\\boolnet_d1.pdf\n",
      "Moving tests\\local_results\\cbmpy\\tmp359591\\d1.pdf to tests\\d1_plots_local\\cbmpy_d1.pdf\n",
      "Moving tests\\local_results\\cobrapy\\tmp259926\\d1.pdf to tests\\d1_plots_local\\cobrapy_d1.pdf\n",
      "Moving tests\\local_results\\copasi\\tmp179627\\d1.pdf to tests\\d1_plots_local\\copasi_d1.pdf\n",
      "Moving tests\\local_results\\gillespy2\\tmp466262\\d1.pdf to tests\\d1_plots_local\\gillespy2_d1.pdf\n",
      "Moving tests\\local_results\\ginsim\\tmp931151\\d1.pdf to tests\\d1_plots_local\\ginsim_d1.pdf\n",
      "Moving tests\\local_results\\libsbmlsim\\tmp489428\\d1.pdf to tests\\d1_plots_local\\libsbmlsim_d1.pdf\n",
      "Moving tests\\local_results\\masspy\\tmp159869\\d1.pdf to tests\\d1_plots_local\\masspy_d1.pdf\n",
      "Moving tests\\local_results\\pysces\\tmp959556\\d1.pdf to tests\\d1_plots_local\\pysces_d1.pdf\n",
      "Moving tests\\local_results\\rbapy\\tmp804849\\d1.pdf to tests\\d1_plots_local\\rbapy_d1.pdf\n",
      "Moving tests\\local_results\\tellurium\\tmp614468\\d1.pdf to tests\\d1_plots_local\\tellurium_d1.pdf\n",
      "Removed tests\\local_results folder\n"
     ]
    },
    {
     "data": {
      "text/markdown": [
       "## Compatibility Biosimulator engines (L = local, R = remote)"
      ]
     },
     "metadata": {},
     "output_type": "display_data"
    },
    {
     "data": {
      "text/markdown": [
       "|    | Engine                                                                                                                                     | pass / FAIL (R)                                                                                                                                                            | pass / FAIL (L)                                                                                                                                                            | Compat (R)                                                                                                                                                                                                                                                                                                                              | Compat (L)                                                                                                                                                                                                                                                                                                                              | Type (R)                                                               | Error (R)                                                                                                                                                                                                                                                                                                                                                                                                                                                          | Error (L)                                                                                                                                                                                            | d1 (R)                                                     | d1 (L)                                                    |\n",
       "|---:|:-------------------------------------------------------------------------------------------------------------------------------------------|:---------------------------------------------------------------------------------------------------------------------------------------------------------------------------|:---------------------------------------------------------------------------------------------------------------------------------------------------------------------------|:----------------------------------------------------------------------------------------------------------------------------------------------------------------------------------------------------------------------------------------------------------------------------------------------------------------------------------------|:----------------------------------------------------------------------------------------------------------------------------------------------------------------------------------------------------------------------------------------------------------------------------------------------------------------------------------------|:-----------------------------------------------------------------------|:-------------------------------------------------------------------------------------------------------------------------------------------------------------------------------------------------------------------------------------------------------------------------------------------------------------------------------------------------------------------------------------------------------------------------------------------------------------------|:-----------------------------------------------------------------------------------------------------------------------------------------------------------------------------------------------------|:-----------------------------------------------------------|:----------------------------------------------------------|\n",
       "|  0 | <details><summary>amici</summary>https://docs.biosimulators.org/Biosimulators_AMICI/<br></details>                                         | <img src=https://via.placeholder.com/15/00dd00/00dd00.png/> pass                                                                                                           | <img src=https://via.placeholder.com/15/00dd00/00dd00.png/> pass                                                                                                           | <img src=https://via.placeholder.com/15/00dd00/00dd00.png/><details><summary>pass</summary>The file extensions suggest the input file types are '['SBML', 'SED-ML']'. These are compatible with amici</details>                                                                                                                         | <img src=https://via.placeholder.com/15/00dd00/00dd00.png/><details><summary>pass</summary>The file extensions suggest the input file types are '['SBML', 'SED-ML']'. These are compatible with amici</details>                                                                                                                         |                                                                        |                                                                                                                                                                                                                                                                                                                                                                                                                                                                    |                                                                                                                                                                                                      | <a href=\"tests\\d1_plots_remote\\amici_d1.pdf\">plot</a>      | <a href=\"tests\\d1_plots_local\\amici_d1.pdf\">plot</a>      |\n",
       "|  1 | <details><summary>bionetgen</summary>https://docs.biosimulators.org/Biosimulators_BioNetGen/<br></details>                                 | <span style=\"color:darkred;\">                                                                      <img src=https://via.placeholder.com/15/dd0000/dd0000.png/> FAIL</span> | <span style=\"color:darkred;\">                                                                      <img src=https://via.placeholder.com/15/dd0000/dd0000.png/> FAIL</span> | <span style=\"color:darkred;\"><img src=https://via.placeholder.com/15/dd0000/dd0000.png/> <details><summary>FAIL</summary>The file extensions suggest the input file types are '['SBML', 'SED-ML']'. These are not compatible with bionetgen. The following file types will be compatible ['BNGL', 'SED-ML']</details></span>            | <span style=\"color:darkred;\"><img src=https://via.placeholder.com/15/dd0000/dd0000.png/> <details><summary>FAIL</summary>The file extensions suggest the input file types are '['SBML', 'SED-ML']'. These are not compatible with bionetgen. The following file types will be compatible ['BNGL', 'SED-ML']</details></span>            | <details><summary>CAEE</summary>CombineArchiveExecutionError</details> | <details><summary>Details</summary><span style=\"color:red;\">The COMBINE/OMEX did not execute successfully:<br><br>  The SED document did not execute successfully:<br>  <br>    Language for model `net1` is not supported.<br>      - Model language `urn:sedml:language:sbml` is not supported. Models must be in BNGL format (e.g., `sed:model/@language` must match `^urn:sedml:language:bngl(\\.$)` such as `urn:sedml:language:bngl`).</details>              | <details><summary>Details</summary>```Command '-i /root/in/LEMS_NML2_Ex9_FN_missing_xmlns.omex -o /root/out' in image 'ghcr.io/biosimulators/bionetgen' returned non-zero exit status 1```</details> | <a href=\"tests\\d1_plots_remote\\bionetgen_d1.pdf\">plot</a>  | <a href=\"tests\\d1_plots_local\\bionetgen_d1.pdf\">plot</a>  |\n",
       "|  2 | <details><summary>boolnet</summary>https://docs.biosimulators.org/Biosimulators_BoolNet/<br></details>                                     | <span style=\"color:darkred;\">                                                                      <img src=https://via.placeholder.com/15/dd0000/dd0000.png/> FAIL</span> | <span style=\"color:darkred;\">                                                                      <img src=https://via.placeholder.com/15/dd0000/dd0000.png/> FAIL</span> | <span style=\"color:darkred;\"><img src=https://via.placeholder.com/15/dd0000/dd0000.png/> <details><summary>FAIL</summary>The file extensions suggest the input file types are '['SBML', 'SED-ML']'. These are not compatible with boolnet. The following file types will be compatible ['SBML-qual', 'SED-ML']</details></span>         | <span style=\"color:darkred;\"><img src=https://via.placeholder.com/15/dd0000/dd0000.png/> <details><summary>FAIL</summary>The file extensions suggest the input file types are '['SBML', 'SED-ML']'. These are not compatible with boolnet. The following file types will be compatible ['SBML-qual', 'SED-ML']</details></span>         | <details><summary>CAEE</summary>CombineArchiveExecutionError</details> | <details><summary>Details</summary><span style=\"color:red;\">The COMBINE/OMEX did not execute successfully:<br><br>  The SED document did not execute successfully:<br>  <br>    Simulation `sim1` is invalid.<br>      - Number of points (20000) must be equal to the difference between the output end (200.0) and start times (0.0).</details>                                                                                                                  | <details><summary>Details</summary>```Command '-i /root/in/LEMS_NML2_Ex9_FN_missing_xmlns.omex -o /root/out' in image 'ghcr.io/biosimulators/boolnet' returned non-zero exit status 1```</details>   | <a href=\"tests\\d1_plots_remote\\boolnet_d1.pdf\">plot</a>    | <a href=\"tests\\d1_plots_local\\boolnet_d1.pdf\">plot</a>    |\n",
       "|  3 | <details><summary>brian2</summary>https://docs.biosimulators.org/Biosimulators_pyNeuroML/<br></details>                                    | <span style=\"color:darkred;\">                                                                      <img src=https://via.placeholder.com/15/dd0000/dd0000.png/> FAIL</span> | <span style=\"color:darkred;\">                                                                      <img src=https://via.placeholder.com/15/dd0000/dd0000.png/> FAIL</span> | <img src=https://via.placeholder.com/15/00dd00/00dd00.png/><details><summary>pass</summary>The file extensions suggest the input file types are '['SBML', 'SED-ML']'. These are compatible with brian2</details>                                                                                                                        | <img src=https://via.placeholder.com/15/00dd00/00dd00.png/><details><summary>pass</summary>The file extensions suggest the input file types are '['SBML', 'SED-ML']'. These are compatible with brian2</details>                                                                                                                        | <details><summary>MNFE</summary>ModuleNotFoundError</details>          | <details><summary>Details</summary>No module named 'libsbml'</details>                                                                                                                                                                                                                                                                                                                                                                                             | <details><summary>Details</summary>```Command '-i /root/in/LEMS_NML2_Ex9_FN_missing_xmlns.omex -o /root/out' in image 'ghcr.io/biosimulators/brian2' returned non-zero exit status 1```</details>    |                                                            |                                                           |\n",
       "|  4 | <details><summary>cbmpy</summary>https://docs.biosimulators.org/Biosimulators_CBMPy/<br></details>                                         | <span style=\"color:darkred;\">                                                                      <img src=https://via.placeholder.com/15/dd0000/dd0000.png/> FAIL</span> | <span style=\"color:darkred;\">                                                                      <img src=https://via.placeholder.com/15/dd0000/dd0000.png/> FAIL</span> | <img src=https://via.placeholder.com/15/00dd00/00dd00.png/><details><summary>pass</summary>The file extensions suggest the input file types are '['SBML', 'SED-ML']'. These are compatible with cbmpy</details>                                                                                                                         | <img src=https://via.placeholder.com/15/00dd00/00dd00.png/><details><summary>pass</summary>The file extensions suggest the input file types are '['SBML', 'SED-ML']'. These are compatible with cbmpy</details>                                                                                                                         | <details><summary>CAEE</summary>CombineArchiveExecutionError</details> | <details><summary>Details</summary><span style=\"color:red;\">The COMBINE/OMEX did not execute successfully:<br><br>  The SED document did not execute successfully:<br>  <br>    UniformTimeCourseSimulation `sim1` is not supported.<br>      - Simulation sim1 of type `UniformTimeCourseSimulation` is not supported. Simulation must be an instance of one of the following:<br>          - SteadyStateSimulation</details>                                     | <details><summary>Details</summary>```Command '-i /root/in/LEMS_NML2_Ex9_FN_missing_xmlns.omex -o /root/out' in image 'ghcr.io/biosimulators/cbmpy' returned non-zero exit status 1```</details>     | <a href=\"tests\\d1_plots_remote\\cbmpy_d1.pdf\">plot</a>      | <a href=\"tests\\d1_plots_local\\cbmpy_d1.pdf\">plot</a>      |\n",
       "|  5 | <details><summary>cobrapy</summary>https://docs.biosimulators.org/Biosimulators_COBRApy/<br>Only allows steady state simulations</details> | <span style=\"color:darkred;\">                                                                      <img src=https://via.placeholder.com/15/dd0000/dd0000.png/> FAIL</span> | <span style=\"color:darkred;\">                                                                      <img src=https://via.placeholder.com/15/dd0000/dd0000.png/> FAIL</span> | <img src=https://via.placeholder.com/15/00dd00/00dd00.png/><details><summary>pass</summary>The file extensions suggest the input file types are '['SBML', 'SED-ML']'. These are compatible with cobrapy</details>                                                                                                                       | <img src=https://via.placeholder.com/15/00dd00/00dd00.png/><details><summary>pass</summary>The file extensions suggest the input file types are '['SBML', 'SED-ML']'. These are compatible with cobrapy</details>                                                                                                                       | <details><summary>CAEE</summary>CombineArchiveExecutionError</details> | <details><summary>Details</summary><span style=\"color:red;\">The COMBINE/OMEX did not execute successfully:<br><br>  The SED document did not execute successfully:<br>  <br>    UniformTimeCourseSimulation `sim1` is not supported.<br>      - Simulation sim1 of type `UniformTimeCourseSimulation` is not supported. Simulation must be an instance of one of the following:<br>          - SteadyStateSimulation</details>                                     | <details><summary>Details</summary>```Command '-i /root/in/LEMS_NML2_Ex9_FN_missing_xmlns.omex -o /root/out' in image 'ghcr.io/biosimulators/cobrapy' returned non-zero exit status 1```</details>   | <a href=\"tests\\d1_plots_remote\\cobrapy_d1.pdf\">plot</a>    | <a href=\"tests\\d1_plots_local\\cobrapy_d1.pdf\">plot</a>    |\n",
       "|  6 | <details><summary>copasi</summary>https://docs.biosimulators.org/Biosimulators_COPASI/<br></details>                                       | <span style=\"color:darkred;\">                                                                      <img src=https://via.placeholder.com/15/dd0000/dd0000.png/> FAIL</span> | <span style=\"color:darkred;\">                                                                      <img src=https://via.placeholder.com/15/dd0000/dd0000.png/> FAIL</span> | <img src=https://via.placeholder.com/15/00dd00/00dd00.png/><details><summary>pass</summary>The file extensions suggest the input file types are '['SBML', 'SED-ML']'. These are compatible with copasi</details>                                                                                                                        | <img src=https://via.placeholder.com/15/00dd00/00dd00.png/><details><summary>pass</summary>The file extensions suggest the input file types are '['SBML', 'SED-ML']'. These are compatible with copasi</details>                                                                                                                        | <details><summary>CAEE</summary>CombineArchiveExecutionError</details> | <details><summary>Details</summary><span style=\"color:red;\">The COMBINE/OMEX did not execute successfully:<br><br>  The SED document did not execute successfully:<br>  <br>    could not convert string to float: 'Values[V]'</details>                                                                                                                                                                                                                           | <details><summary>Details</summary>```Command '-i /root/in/LEMS_NML2_Ex9_FN_missing_xmlns.omex -o /root/out' in image 'ghcr.io/biosimulators/copasi' returned non-zero exit status 1```</details>    | <a href=\"tests\\d1_plots_remote\\copasi_d1.pdf\">plot</a>     | <a href=\"tests\\d1_plots_local\\copasi_d1.pdf\">plot</a>     |\n",
       "|  7 | <details><summary>gillespy2</summary>https://docs.biosimulators.org/Biosimulators_GillesPy2/<br></details>                                 | <img src=https://via.placeholder.com/15/00dd00/00dd00.png/> pass                                                                                                           | <img src=https://via.placeholder.com/15/00dd00/00dd00.png/> pass                                                                                                           | <img src=https://via.placeholder.com/15/00dd00/00dd00.png/><details><summary>pass</summary>The file extensions suggest the input file types are '['SBML', 'SED-ML']'. These are compatible with gillespy2</details>                                                                                                                     | <img src=https://via.placeholder.com/15/00dd00/00dd00.png/><details><summary>pass</summary>The file extensions suggest the input file types are '['SBML', 'SED-ML']'. These are compatible with gillespy2</details>                                                                                                                     |                                                                        |                                                                                                                                                                                                                                                                                                                                                                                                                                                                    |                                                                                                                                                                                                      | <a href=\"tests\\d1_plots_remote\\gillespy2_d1.pdf\">plot</a>  | <a href=\"tests\\d1_plots_local\\gillespy2_d1.pdf\">plot</a>  |\n",
       "|  8 | <details><summary>ginsim</summary>https://docs.biosimulators.org/Biosimulators_GINsim/<br></details>                                       | <span style=\"color:darkred;\">                                                                      <img src=https://via.placeholder.com/15/dd0000/dd0000.png/> FAIL</span> | <span style=\"color:darkred;\">                                                                      <img src=https://via.placeholder.com/15/dd0000/dd0000.png/> FAIL</span> | <span style=\"color:darkred;\"><img src=https://via.placeholder.com/15/dd0000/dd0000.png/> <details><summary>FAIL</summary>The file extensions suggest the input file types are '['SBML', 'SED-ML']'. These are not compatible with ginsim. The following file types will be compatible ['SBML-qual', 'SED-ML']</details></span>          | <span style=\"color:darkred;\"><img src=https://via.placeholder.com/15/dd0000/dd0000.png/> <details><summary>FAIL</summary>The file extensions suggest the input file types are '['SBML', 'SED-ML']'. These are not compatible with ginsim. The following file types will be compatible ['SBML-qual', 'SED-ML']</details></span>          | <details><summary>CAEE</summary>CombineArchiveExecutionError</details> | <details><summary>Details</summary><span style=\"color:red;\">The COMBINE/OMEX did not execute successfully:<br><br>  The SED document did not execute successfully:<br>  <br>    Simulation `sim1` is invalid.<br>      - The interval between the output start and time time must be an integer multiple of the number of steps, not `0.01`:<br>          Output start time: 0.0<br>          Output end time: 200.0<br>          Number of steps: 20000</details> | <details><summary>Details</summary>```Command '-i /root/in/LEMS_NML2_Ex9_FN_missing_xmlns.omex -o /root/out' in image 'ghcr.io/biosimulators/ginsim' returned non-zero exit status 1```</details>    | <a href=\"tests\\d1_plots_remote\\ginsim_d1.pdf\">plot</a>     | <a href=\"tests\\d1_plots_local\\ginsim_d1.pdf\">plot</a>     |\n",
       "|  9 | <details><summary>libsbmlsim</summary>https://docs.biosimulators.org/Biosimulators_LibSBMLSim/<br></details>                               | <img src=https://via.placeholder.com/15/00dd00/00dd00.png/> pass                                                                                                           | <img src=https://via.placeholder.com/15/00dd00/00dd00.png/> pass                                                                                                           | <img src=https://via.placeholder.com/15/00dd00/00dd00.png/><details><summary>pass</summary>The file extensions suggest the input file types are '['SBML', 'SED-ML']'. These are compatible with libsbmlsim</details>                                                                                                                    | <img src=https://via.placeholder.com/15/00dd00/00dd00.png/><details><summary>pass</summary>The file extensions suggest the input file types are '['SBML', 'SED-ML']'. These are compatible with libsbmlsim</details>                                                                                                                    |                                                                        |                                                                                                                                                                                                                                                                                                                                                                                                                                                                    |                                                                                                                                                                                                      | <a href=\"tests\\d1_plots_remote\\libsbmlsim_d1.pdf\">plot</a> | <a href=\"tests\\d1_plots_local\\libsbmlsim_d1.pdf\">plot</a> |\n",
       "| 10 | <details><summary>masspy</summary>https://docs.biosimulators.org/Biosimulators_MASSpy/<br></details>                                       | <span style=\"color:darkred;\">                                                                      <img src=https://via.placeholder.com/15/dd0000/dd0000.png/> FAIL</span> | <span style=\"color:darkred;\">                                                                      <img src=https://via.placeholder.com/15/dd0000/dd0000.png/> FAIL</span> | <img src=https://via.placeholder.com/15/00dd00/00dd00.png/><details><summary>pass</summary>The file extensions suggest the input file types are '['SBML', 'SED-ML']'. These are compatible with masspy</details>                                                                                                                        | <img src=https://via.placeholder.com/15/00dd00/00dd00.png/><details><summary>pass</summary>The file extensions suggest the input file types are '['SBML', 'SED-ML']'. These are compatible with masspy</details>                                                                                                                        | <details><summary>CAEE</summary>CombineArchiveExecutionError</details> | <details><summary>Details</summary><span style=\"color:red;\">The COMBINE/OMEX did not execute successfully:<br><br>  The SED document did not execute successfully:<br>  <br>    Something went wrong reading the SBML model. Most likely the SBML model is not valid. Please check that your model is valid using the `mass.io.sbml.validate_sbml_model` function or via the online validator at http://sbml.org/validator .<br>    \t`(model, errors) = validate_sbml_model(filename)`<br>    If the model is valid and cannot be read please open an issue at https://github.com/SBRG/masspy/issues .</details>                                                                                                                                                                                                                                                                                                                                                                                                                                                                    | <details><summary>Details</summary>```Command '-i /root/in/LEMS_NML2_Ex9_FN_missing_xmlns.omex -o /root/out' in image 'ghcr.io/biosimulators/masspy' returned non-zero exit status 1```</details>    | <a href=\"tests\\d1_plots_remote\\masspy_d1.pdf\">plot</a>     | <a href=\"tests\\d1_plots_local\\masspy_d1.pdf\">plot</a>     |\n",
       "| 11 | <details><summary>netpyne</summary>https://docs.biosimulators.org/Biosimulators_pyNeuroML/<br></details>                                   | <span style=\"color:darkred;\">                                                                      <img src=https://via.placeholder.com/15/dd0000/dd0000.png/> FAIL</span> | <span style=\"color:darkred;\">                                                                      <img src=https://via.placeholder.com/15/dd0000/dd0000.png/> FAIL</span> | <img src=https://via.placeholder.com/15/00dd00/00dd00.png/><details><summary>pass</summary>The file extensions suggest the input file types are '['SBML', 'SED-ML']'. These are compatible with netpyne</details>                                                                                                                       | <img src=https://via.placeholder.com/15/00dd00/00dd00.png/><details><summary>pass</summary>The file extensions suggest the input file types are '['SBML', 'SED-ML']'. These are compatible with netpyne</details>                                                                                                                       | <details><summary>MNFE</summary>ModuleNotFoundError</details>          | <details><summary>Details</summary>No module named 'libsbml'</details>                                                                                                                                                                                                                                                                                                                                                                                             | <details><summary>Details</summary>```Command '-i /root/in/LEMS_NML2_Ex9_FN_missing_xmlns.omex -o /root/out' in image 'ghcr.io/biosimulators/netpyne' returned non-zero exit status 1```</details>   |                                                            |                                                           |\n",
       "| 12 | <details><summary>neuron</summary>https://docs.biosimulators.org/Biosimulators_pyNeuroML/<br></details>                                    | <span style=\"color:darkred;\">                                                                      <img src=https://via.placeholder.com/15/dd0000/dd0000.png/> FAIL</span> | <span style=\"color:darkred;\">                                                                      <img src=https://via.placeholder.com/15/dd0000/dd0000.png/> FAIL</span> | <span style=\"color:darkred;\"><img src=https://via.placeholder.com/15/dd0000/dd0000.png/> <details><summary>FAIL</summary>The file extensions suggest the input file types are '['SBML', 'SED-ML']'. These are not compatible with neuron. The following file types will be compatible ['NeuroML', 'LEMS', 'SED-ML']</details></span>    | <span style=\"color:darkred;\"><img src=https://via.placeholder.com/15/dd0000/dd0000.png/> <details><summary>FAIL</summary>The file extensions suggest the input file types are '['SBML', 'SED-ML']'. These are not compatible with neuron. The following file types will be compatible ['NeuroML', 'LEMS', 'SED-ML']</details></span>    | <details><summary>MNFE</summary>ModuleNotFoundError</details>          | <details><summary>Details</summary>No module named 'libsbml'</details>                                                                                                                                                                                                                                                                                                                                                                                             | <details><summary>Details</summary>```Command '-i /root/in/LEMS_NML2_Ex9_FN_missing_xmlns.omex -o /root/out' in image 'ghcr.io/biosimulators/neuron' returned non-zero exit status 1```</details>    |                                                            |                                                           |\n",
       "| 13 | <details><summary>opencor</summary>https://docs.biosimulators.org/Biosimulators_OpenCOR/<br></details>                                     | <span style=\"color:darkred;\">                                                                      <img src=https://via.placeholder.com/15/dd0000/dd0000.png/> FAIL</span> | <span style=\"color:darkred;\">                                                                      <img src=https://via.placeholder.com/15/dd0000/dd0000.png/> FAIL</span> | <span style=\"color:darkred;\"><img src=https://via.placeholder.com/15/dd0000/dd0000.png/> <details><summary>FAIL</summary>The file extensions suggest the input file types are '['SBML', 'SED-ML']'. These are not compatible with opencor. The following file types will be compatible ['CellML', 'SED-ML']</details></span>            | <span style=\"color:darkred;\"><img src=https://via.placeholder.com/15/dd0000/dd0000.png/> <details><summary>FAIL</summary>The file extensions suggest the input file types are '['SBML', 'SED-ML']'. These are not compatible with opencor. The following file types will be compatible ['CellML', 'SED-ML']</details></span>            | <details><summary>MNFE</summary>ModuleNotFoundError</details>          | <details><summary>Details</summary>No module named 'libsbml'</details>                                                                                                                                                                                                                                                                                                                                                                                             | <details><summary>Details</summary>```Command '-i /root/in/LEMS_NML2_Ex9_FN_missing_xmlns.omex -o /root/out' in image 'ghcr.io/biosimulators/opencor' returned non-zero exit status 1```</details>   |                                                            |                                                           |\n",
       "| 14 | <details><summary>pyneuroml</summary>https://docs.biosimulators.org/Biosimulators_pyNeuroML/<br></details>                                 | <span style=\"color:darkred;\">                                                                      <img src=https://via.placeholder.com/15/dd0000/dd0000.png/> FAIL</span> | <span style=\"color:darkred;\">                                                                      <img src=https://via.placeholder.com/15/dd0000/dd0000.png/> FAIL</span> | <span style=\"color:darkred;\"><img src=https://via.placeholder.com/15/dd0000/dd0000.png/> <details><summary>FAIL</summary>The file extensions suggest the input file types are '['SBML', 'SED-ML']'. These are not compatible with pyneuroml. The following file types will be compatible ['NeuroML', 'LEMS', 'SED-ML']</details></span> | <span style=\"color:darkred;\"><img src=https://via.placeholder.com/15/dd0000/dd0000.png/> <details><summary>FAIL</summary>The file extensions suggest the input file types are '['SBML', 'SED-ML']'. These are not compatible with pyneuroml. The following file types will be compatible ['NeuroML', 'LEMS', 'SED-ML']</details></span> | <details><summary>MNFE</summary>ModuleNotFoundError</details>          | <details><summary>Details</summary>No module named 'libsbml'</details>                                                                                                                                                                                                                                                                                                                                                                                             | <details><summary>Details</summary>```Command '-i /root/in/LEMS_NML2_Ex9_FN_missing_xmlns.omex -o /root/out' in image 'ghcr.io/biosimulators/pyneuroml' returned non-zero exit status 1```</details> |                                                            |                                                           |\n",
       "| 15 | <details><summary>pysces</summary>https://docs.biosimulators.org/Biosimulators_PySCeS/<br></details>                                       | <span style=\"color:darkred;\">                                                                      <img src=https://via.placeholder.com/15/dd0000/dd0000.png/> FAIL</span> | <span style=\"color:darkred;\">                                                                      <img src=https://via.placeholder.com/15/dd0000/dd0000.png/> FAIL</span> | <img src=https://via.placeholder.com/15/00dd00/00dd00.png/><details><summary>pass</summary>The file extensions suggest the input file types are '['SBML', 'SED-ML']'. These are compatible with pysces</details>                                                                                                                        | <img src=https://via.placeholder.com/15/00dd00/00dd00.png/><details><summary>pass</summary>The file extensions suggest the input file types are '['SBML', 'SED-ML']'. These are compatible with pysces</details>                                                                                                                        | <details><summary>CAEE</summary>CombineArchiveExecutionError</details> | <details><summary>Details</summary><span style=\"color:red;\">The COMBINE/OMEX did not execute successfully:<br><br>  The SED document did not execute successfully:<br>  <br>    Model at /tmp/tmpr1stywf8/./LEMS_NML2_Ex9_FN.sbml could not be imported:<br>      <br>      File /tmp/tmpr1stywf8/./LEMS_NML2_Ex9_FN.sbml.xml does not exist</details>                                                                                                             | <details><summary>Details</summary>```Command '-i /root/in/LEMS_NML2_Ex9_FN_missing_xmlns.omex -o /root/out' in image 'ghcr.io/biosimulators/pysces' returned non-zero exit status 1```</details>    | <a href=\"tests\\d1_plots_remote\\pysces_d1.pdf\">plot</a>     | <a href=\"tests\\d1_plots_local\\pysces_d1.pdf\">plot</a>     |\n",
       "| 16 | <details><summary>rbapy</summary>https://docs.biosimulators.org/Biosimulators_RBApy/<br></details>                                         | <span style=\"color:darkred;\">                                                                      <img src=https://via.placeholder.com/15/dd0000/dd0000.png/> FAIL</span> | <span style=\"color:darkred;\">                                                                      <img src=https://via.placeholder.com/15/dd0000/dd0000.png/> FAIL</span> | <span style=\"color:darkred;\"><img src=https://via.placeholder.com/15/dd0000/dd0000.png/> <details><summary>FAIL</summary>The file extensions suggest the input file types are '['SBML', 'SED-ML']'. These are not compatible with rbapy. The following file types will be compatible ['RBApy', 'SED-ML']</details></span>               | <span style=\"color:darkred;\"><img src=https://via.placeholder.com/15/dd0000/dd0000.png/> <details><summary>FAIL</summary>The file extensions suggest the input file types are '['SBML', 'SED-ML']'. These are not compatible with rbapy. The following file types will be compatible ['RBApy', 'SED-ML']</details></span>               | <details><summary>CAEE</summary>CombineArchiveExecutionError</details> | <details><summary>Details</summary><span style=\"color:red;\">The COMBINE/OMEX did not execute successfully:<br><br>  The SED document did not execute successfully:<br>  <br>    Language for model `net1` is not supported.<br>      - Model language `urn:sedml:language:sbml` is not supported. Models must be in RBA format (e.g., `sed:model/@language` must match `^urn:sedml:language:rba(\\.$)` such as `urn:sedml:language:rba`).</details>                 | <details><summary>Details</summary>```Command '-i /root/in/LEMS_NML2_Ex9_FN_missing_xmlns.omex -o /root/out' in image 'ghcr.io/biosimulators/rbapy' returned non-zero exit status 1```</details>     | <a href=\"tests\\d1_plots_remote\\rbapy_d1.pdf\">plot</a>      | <a href=\"tests\\d1_plots_local\\rbapy_d1.pdf\">plot</a>      |\n",
       "| 17 | <details><summary>smoldyn</summary>https://smoldyn.readthedocs.io/en/latest/python/api.html#sed-ml-combine-biosimulators-api<br></details> | <span style=\"color:darkred;\">                                                                      <img src=https://via.placeholder.com/15/dd0000/dd0000.png/> FAIL</span> | <span style=\"color:darkred;\">                                                                      <img src=https://via.placeholder.com/15/dd0000/dd0000.png/> FAIL</span> | <span style=\"color:darkred;\"><img src=https://via.placeholder.com/15/dd0000/dd0000.png/> <details><summary>FAIL</summary>smoldyn compatible file types unknown.</details></span>                                                                                                                                                        | <span style=\"color:darkred;\"><img src=https://via.placeholder.com/15/dd0000/dd0000.png/> <details><summary>FAIL</summary>smoldyn compatible file types unknown.</details></span>                                                                                                                                                        | <details><summary>MNFE</summary>ModuleNotFoundError</details>          | <details><summary>Details</summary>No module named 'libsbml'</details>                                                                                                                                                                                                                                                                                                                                                                                             | <details><summary>Details</summary>```Command '-i /root/in/LEMS_NML2_Ex9_FN_missing_xmlns.omex -o /root/out' in image 'ghcr.io/biosimulators/smoldyn' returned non-zero exit status 1```</details>   |                                                            |                                                           |\n",
       "| 18 | <details><summary>tellurium</summary>https://docs.biosimulators.org/Biosimulators_tellurium/<br></details>                                 | <img src=https://via.placeholder.com/15/00dd00/00dd00.png/> pass                                                                                                           | <img src=https://via.placeholder.com/15/00dd00/00dd00.png/> pass                                                                                                           | <img src=https://via.placeholder.com/15/00dd00/00dd00.png/><details><summary>pass</summary>The file extensions suggest the input file types are '['SBML', 'SED-ML']'. These are compatible with tellurium</details>                                                                                                                     | <img src=https://via.placeholder.com/15/00dd00/00dd00.png/><details><summary>pass</summary>The file extensions suggest the input file types are '['SBML', 'SED-ML']'. These are compatible with tellurium</details>                                                                                                                     |                                                                        |                                                                                                                                                                                                                                                                                                                                                                                                                                                                    |                                                                                                                                                                                                      | <a href=\"tests\\d1_plots_remote\\tellurium_d1.pdf\">plot</a>  | <a href=\"tests\\d1_plots_local\\tellurium_d1.pdf\">plot</a>  |\n",
       "| 19 | <details><summary>vcell</summary>https://github.com/virtualcell/vcell<br></details>                                                        | <img src=https://via.placeholder.com/15/00dd00/00dd00.png/> pass                                                                                                           | <span style=\"color:darkred;\">                                                                      <img src=https://via.placeholder.com/15/dd0000/dd0000.png/> FAIL</span> | <img src=https://via.placeholder.com/15/00dd00/00dd00.png/><details><summary>pass</summary>The file extensions suggest the input file types are '['SBML', 'SED-ML']'. These are compatible with vcell</details>                                                                                                                         | <img src=https://via.placeholder.com/15/00dd00/00dd00.png/><details><summary>pass</summary>The file extensions suggest the input file types are '['SBML', 'SED-ML']'. These are compatible with vcell</details>                                                                                                                         |                                                                        |                                                                                                                                                                                                                                                                                                                                                                                                                                                                    | <details><summary>Details</summary>```Command '-i /root/in/LEMS_NML2_Ex9_FN_missing_xmlns.omex -o /root/out' in image 'ghcr.io/biosimulators/vcell' returned non-zero exit status 1```</details>     |                                                            |                                                           |\n",
       "| 20 | <details><summary>xpp</summary>https://docs.biosimulators.org/Biosimulators_XPP/<br></details>                                             | <span style=\"color:darkred;\">                                                                      <img src=https://via.placeholder.com/15/dd0000/dd0000.png/> FAIL</span> | <span style=\"color:darkred;\">                                                                      <img src=https://via.placeholder.com/15/dd0000/dd0000.png/> FAIL</span> | <span style=\"color:darkred;\"><img src=https://via.placeholder.com/15/dd0000/dd0000.png/> <details><summary>FAIL</summary>The file extensions suggest the input file types are '['SBML', 'SED-ML']'. These are not compatible with xpp. The following file types will be compatible ['XPP', 'SED-ML']</details></span>                   | <span style=\"color:darkred;\"><img src=https://via.placeholder.com/15/dd0000/dd0000.png/> <details><summary>FAIL</summary>The file extensions suggest the input file types are '['SBML', 'SED-ML']'. These are not compatible with xpp. The following file types will be compatible ['XPP', 'SED-ML']</details></span>                   | <details><summary>MNFE</summary>ModuleNotFoundError</details>          | <details><summary>Details</summary>No module named 'libsbml'</details>                                                                                                                                                                                                                                                                                                                                                                                             | <details><summary>Details</summary>```Command '-i /root/in/LEMS_NML2_Ex9_FN_missing_xmlns.omex -o /root/out' in image 'ghcr.io/biosimulators/xpp' returned non-zero exit status 1```</details>       |                                                            |                                                           |"
      ]
     },
     "metadata": {},
     "output_type": "display_data"
    }
   ],
   "source": [
    "\n",
    "#########################################################################################\n",
    "# Run remotely\n",
    "#########################################################################################\n",
    "\n",
    "remote_output_dir = 'remote_results'\n",
    "remote_output_dir = os.path.join(test_folder, remote_output_dir)\n",
    "\n",
    "download_links_dict = dict()\n",
    "for e in engines.keys():\n",
    "    download_link = utils.run_biosimulators_remote(e, sedml_file_name, sbml_file_name)\n",
    "    download_links_dict[e] = download_link\n",
    "\n",
    "extract_dir_dict = dict()\n",
    "for e, link in download_links_dict.items():\n",
    "    extract_dir = utils.get_remote_results(e, link, remote_output_dir)\n",
    "    extract_dir_dict[e] = extract_dir\n",
    "\n",
    "results = dict()\n",
    "for e, extract_dir in extract_dir_dict.items():\n",
    "    status = \"\"\n",
    "    error_message = \"\"\n",
    "    exception_type = \"\"\n",
    "\n",
    "    log_yml_path = utils.find_file_in_dir('log.yml', extract_dir)[0]\n",
    "    if not log_yml_path:\n",
    "        status = None\n",
    "        error_message = 'log.yml not found'\n",
    "        continue\n",
    "    with open(log_yml_path) as f:\n",
    "        log_yml_dict = yaml.safe_load(f)\n",
    "        if log_yml_dict['status'] == 'SUCCEEDED':\n",
    "            status = 'pass'\n",
    "        elif log_yml_dict['status'] == 'FAILED':\n",
    "            status = 'FAIL'\n",
    "            exception = log_yml_dict['exception']\n",
    "            error_message = exception['message']\n",
    "            exception_type = exception['type'] \n",
    "        else:\n",
    "            status = None\n",
    "        results[e] = [status, error_message, exception_type] \n",
    "\n",
    "file_paths = utils.find_files(remote_output_dir, '.pdf')\n",
    "utils.move_d1_files(file_paths, d1_plots_remote_dir)\n",
    "\n",
    "# remove the remote results directory\n",
    "if os.path.exists(remote_output_dir):\n",
    "    shutil.rmtree(remote_output_dir)\n",
    "    print('Removed ' + remote_output_dir + ' folder')\n",
    "\n",
    "#########################################################################################\n",
    "# Run locally\n",
    "#########################################################################################\n",
    "\n",
    "results_local = {}\n",
    "\n",
    "output_folder = 'local_results'\n",
    "local_output_dir = os.path.join(test_folder, output_folder)\n",
    "\n",
    "for e in engines.keys():\n",
    "    print('Running ' + e)\n",
    "    local_output_dir_e = os.path.abspath(os.path.join(local_output_dir, e))\n",
    "    print(local_output_dir_e)\n",
    "    record = utils.run_biosimulators_docker(e, sedml_file_name, sbml_file_name, output_dir=local_output_dir_e)\n",
    "    results_local[e] = record\n",
    "\n",
    "file_paths = utils.find_files(local_output_dir, '.pdf')\n",
    "print('file paths:', file_paths)\n",
    "utils.move_d1_files(file_paths, d1_plots_local_dir)\n",
    "\n",
    "# if it exists remove the output folder\n",
    "if os.path.exists(local_output_dir):\n",
    "    shutil.rmtree(local_output_dir)\n",
    "    print('Removed ' + local_output_dir + ' folder')\n",
    "\n",
    "#########################################################################################\n",
    "# process results and save markdown table\n",
    "#########################################################################################\n",
    "\n",
    "results_table = utils.create_results_table(results, types_dict, sbml_file_name, sedml_file_name, engines, d1_plots_remote_dir)\n",
    "results_table_local = utils.create_results_table(results_local, types_dict, sbml_file_name, sedml_file_name, engines, d1_plots_local_dir)\n",
    "\n",
    "# rename cols to distinguish between local and remote results except for Engine column\n",
    "results_table.columns = [str(col) + ' (R)' if col != 'Engine' else str(col) for col in results_table.columns]\n",
    "results_table_local.columns = [str(col) + ' (L)' if col != 'Engine' else str(col) for col in results_table_local.columns]\n",
    "\n",
    "# combine remote and local results\n",
    "combined_results = pd.merge(results_table, results_table_local, on='Engine', how='outer')\n",
    "combined_results = combined_results.reindex(columns=['Engine'] + sorted(combined_results.columns[1:]))\n",
    "\n",
    "cols_order = ['Engine', 'pass / FAIL (R)', 'pass / FAIL (L)',\\\n",
    "               'Compat (R)', 'Compat (L)', \\\n",
    "               'Type (R)', \\\n",
    "               'Error (R)', 'Error (L)', \\\n",
    "               'd1 (R)', 'd1 (L)']\n",
    "\n",
    "combined_results = combined_results[cols_order]\n",
    "\n",
    "# add a table title\n",
    "display_markdown('## Compatibility Biosimulator engines (L = local, R = remote)', raw=True)\n",
    "display_markdown(combined_results.to_markdown(), raw=True)"
   ]
  }
 ],
 "metadata": {
  "kernelspec": {
   "display_name": "venv",
   "language": "python",
   "name": "python3"
  },
  "language_info": {
   "codemirror_mode": {
    "name": "ipython",
    "version": 3
   },
   "file_extension": ".py",
   "mimetype": "text/x-python",
   "name": "python",
   "nbconvert_exporter": "python",
   "pygments_lexer": "ipython3",
   "version": "3.11.9"
  }
 },
 "nbformat": 4,
 "nbformat_minor": 2
}
